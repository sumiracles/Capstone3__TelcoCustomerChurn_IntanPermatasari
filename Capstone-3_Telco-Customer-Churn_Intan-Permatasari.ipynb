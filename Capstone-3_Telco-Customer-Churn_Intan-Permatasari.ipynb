{
 "cells": [
  {
   "cell_type": "markdown",
   "metadata": {},
   "source": [
    "# **CAPSTONE PROJECT III**\n",
    "\n",
    "**INTAN PERMATASARI**"
   ]
  },
  {
   "cell_type": "markdown",
   "metadata": {},
   "source": [
    "# **BUSINESS UNDERSTANDING**"
   ]
  },
  {
   "cell_type": "markdown",
   "metadata": {},
   "source": [
    "**Context:**\n",
    "\n",
    "Industri telekomunikasi berkembang pesat dengan persaingan ketat antar perusahaan yang menawarkan layanan berlangganan. Tantangan utama perusahaan adalah mempertahankan pelanggan agar tidak beralih ke kompetitor. \n",
    "\n",
    "Sebuah perusahaan ingin mengidentifikasi pelanggan yang berpotensi berhenti berlangganan (churn) untuk mengurangi angka churn. Data Scientist diminta membuat model prediksi menggunakan Machine Learning untuk menentukan apakah pelanggan akan berhenti menggunakan layanan (churn) atau tidak.\n",
    "\n",
    "**Target:**\n",
    "- 0: Tidak berhenti menggunakan layanan\n",
    "- 1: Berhenti menggunakan layanan (churn)"
   ]
  },
  {
   "cell_type": "markdown",
   "metadata": {},
   "source": [
    "**PROBLEM STATEMENT :**\n",
    "\n",
    "Perusahaan telekomunikasi cenderung fokus pada mempertahankan pelanggan karena biaya mempertahankan pelanggan (customer retention cost) lebih rendah dibandingkan dengan biaya memperoleh pelanggan baru (customer acquisition cost). Berdasarkan data dari internet, biaya untuk mendapatkan pelanggan baru bisa mencapai lima kali lipat dari biaya untuk mempertahankan pelanggan yang sudah ada. hal ini juga dinyatakan di salah satu statistik bisnis yang terkenal yang dimana  \"Biaya untuk mempertahankan pelanggan yang ada jauh lebih rendah daripada biaya untuk memperoleh pelanggan baru\". Selain itu,pada [Customer Acquisition Vs. Retention Costs – Statistics And Trends](https://www.invespcro.com/blog/customer-acquisition-retention/) dikatakan bahwa biaya untuk memperoleh pelanggan baru lima kali lebih tinggi daripada biaya untuk mempertahankan pelanggan yang ada.\n",
    "\n",
    "Untuk suatu perusahaan telekomunikasi, tingginya persentase pelanggan yang melakukan *churn* adalah salah satu indikator yang menjadi tingkat kegagalan suatu perusahaan tersebut, sehingga diperlukan upaya untuk mengurangi persentase pelanggan *churn* tersebut. Pada umumnya perusahaan lebih memilih untuk mempertahankan pelanggan, karena biaya untuk mempertahankan pelanggan *(customer retention cost)* lebih rendah daripada memperoleh pelanggan baru *(customer acquisition cost)*.Berdasarkan informasi dari internet, memperoleh pelanggan baru dapat menghabiskan biaya lima kali lebih banyak daripada mempertahankan pelanggan yang sudah ada. Adapun rata-rata biaya customer acquisition cost untuk industri telekomunikasi adalah sekitar $315 per new customer.\n",
    "\n",
    "Salah satu cara perusahaan telekomunikasi mempertahankan para customernya agar tetap berlangganan atau tidak *churn*, yaitu dengan memberikan insentif retensi terhadap pelanggan. Insentif retensi yang dimaksud adalah dengan memberikan suku bunga yang menarik, memberikan paket layanan yang menarik, memberikan prioritas pelayanan dan lain-lain dalam upaya untuk mempertahankan para customer atau pelanggan perusahaan telekomunikasi tersebut. Namun, kebijakan pemberian insentif retensi belum sepenuhnya dilakukan secara efektif. Karena jika insentif retensi tersebut diberikan secara merata kepada seluruh pelanggan, maka pengeluaran biaya tersebut menjadi tidak efektif dan dapat mengurangi keuntungan apabila pelanggan tersebut memang loyal dan tidak ingin berhenti menggunakan layanan.\n",
    "\n",
    "Salah satu strategi untuk mempertahankan pelanggan adalah dengan memberikan insentif retensi, seperti suku bunga menarik, paket layanan spesial, dan prioritas pelayanan. Namun, pemberian insentif ini harus dilakukan secara efektif. Memberikan insentif secara merata kepada semua pelanggan tidak efisien dan bisa mengurangi keuntungan, terutama jika diberikan kepada pelanggan yang sudah loyal dan tidak berencana berhenti menggunakan layanan."
   ]
  },
  {
   "cell_type": "markdown",
   "metadata": {},
   "source": [
    "**GOALS:**\n",
    "\n",
    "Berdasarkan permasalahan di atas, perusahaan ingin memiliki kemampuan untuk memprediksi kemungkinan seorang pelanggan akan berhenti menggunakan layanan (churn) atau tidak. Dengan demikian, perusahaan dapat memfokuskan upaya retensi pada pelanggan yang terindikasi akan churn. Selain itu, perusahaan juga ingin mengidentifikasi berbagai faktor yang mempengaruhi retensi pelanggan agar dapat merancang kebijakan yang tepat sasaran untuk mengurangi churn."
   ]
  },
  {
   "cell_type": "markdown",
   "metadata": {},
   "source": [
    "# **Evaluation Metrics**\n",
    "* True Positive (TP): Model memprediksi pelanggan akan berhenti berlangganan, kenyataannya berhenti berlangganan.\n",
    "* True Negative (TN): Model memprediksi pelanggan tidak akan berhenti berlangganan, kenyataannya tidak berhenti berlangganan.\n",
    "* False Positive (FP): Model memprediksi pelanggan akan berhenti berlangganan, kenyataannya tidak berhenti berlangganan.\n",
    "* False Negative (FN): Model memprediksi pelanggan tidak akan berhenti berlangganan, kenyataannya berhenti berlangganan.\n",
    "\n",
    "**Consequences**\n",
    "* False Positive (FP): Mengira pelanggan akan berhenti berlangganan padahal tidak. Ini bisa menyebabkan perusahaan memberikan insentif atau diskon yang tidak perlu untuk mempertahankan pelanggan yang sebenarnya tidak berencana berhenti, sehingga meningkatkan biaya operasional.\n",
    "* False Negative (FN): Mengira pelanggan tidak akan berhenti berlangganan padahal sebenarnya berhenti. Ini bisa mengakibatkan hilangnya pendapatan yang potensial karena perusahaan tidak melakukan tindakan preventif untuk mencegah churn pelanggan.\n",
    "Confusion Matrix\n",
    "\n",
    "\n",
    "Dalam konteks prediksi churn pelanggan telco, konsekuensi dari False Positive (FP) dan False Negative (FN) memiliki dampak signifikan terhadap operasional dan pendapatan perusahaan:\n",
    "\n",
    "Perusahaan mungkin memberikan insentif atau diskon yang tidak perlu untuk mempertahankan pelanggan yang sebenarnya tidak berencana berhenti.\n",
    "Ini meningkatkan biaya operasional tanpa alasan yang jelas, karena sumber daya dialokasikan untuk mengatasi churn yang sebenarnya tidak terjadi.Disamping itu perusahaan kehilangan kesempatan untuk melakukan tindakan preventif untuk mempertahankan pelanggan tersebut.\n",
    "Mengakibatkan hilangnya pendapatan yang potensial, karena pelanggan yang berhenti tidak terdeteksi oleh model dan tidak diberikan upaya retensi yang tepat."
   ]
  },
  {
   "cell_type": "markdown",
   "metadata": {},
   "source": [
    "# **IMPORT LIBRARIES**\n"
   ]
  },
  {
   "cell_type": "code",
   "execution_count": 2,
   "metadata": {},
   "outputs": [],
   "source": [
    "import pandas as pd\n",
    "import numpy as np\n",
    "import seaborn as sns\n",
    "import matplotlib.pyplot as plt\n",
    "import missingno as msno\n",
    "from sklearn.ensemble import RandomForestClassifier,AdaBoostClassifier,GradientBoostingClassifier\n",
    "from xgboost import XGBClassifier\n",
    "\n",
    "from scipy.stats import stats, spearmanr, shapiro, mannwhitneyu, chi2_contingency\n",
    "\n",
    "from sklearn.compose import ColumnTransformer\n",
    "from sklearn.preprocessing import OneHotEncoder, OrdinalEncoder, RobustScaler\n",
    "from category_encoders import BinaryEncoder\n",
    "from sklearn.metrics import mean_absolute_percentage_error\n",
    "from sklearn.model_selection import train_test_split, StratifiedKFold\n",
    "\n",
    "from sklearn.model_selection import cross_val_score, KFold\n",
    "from sklearn.pipeline import Pipeline\n",
    "\n",
    "from imblearn.pipeline import Pipeline as ImbPipeline \n",
    "from sklearn.linear_model import LogisticRegression\n",
    "from sklearn.metrics import f1_score\n",
    "from sklearn.model_selection import train_test_split\n",
    "from imblearn.under_sampling import RandomUnderSampler, NearMiss\n",
    "from imblearn.over_sampling import RandomOverSampler, SMOTE\n",
    "from imblearn.combine import SMOTEENN\n",
    "\n",
    "\n",
    "from sklearn.preprocessing import StandardScaler\n",
    "from sklearn.linear_model import LogisticRegression\n",
    "from sklearn.neighbors import KNeighborsClassifier\n",
    "from sklearn.tree import DecisionTreeClassifier\n",
    "from sklearn.svm import SVC\n",
    "from sklearn.ensemble import RandomForestClassifier\n",
    "from sklearn.metrics import f1_score, make_scorer\n",
    "\n",
    "\n",
    "from sklearn.model_selection import GridSearchCV\n",
    "from sklearn.ensemble import RandomForestClassifier\n",
    "from sklearn.metrics import classification_report, f1_score, accuracy_score, confusion_matrix\n",
    "\n",
    "\n",
    "import pickle\n",
    "import warnings\n",
    "warnings.filterwarnings('ignore')"
   ]
  },
  {
   "cell_type": "markdown",
   "metadata": {},
   "source": [
    "# **DATA UNDERSTANDING** "
   ]
  },
  {
   "cell_type": "markdown",
   "metadata": {},
   "source": [
    "## READ DATA"
   ]
  },
  {
   "cell_type": "code",
   "execution_count": 3,
   "metadata": {},
   "outputs": [
    {
     "data": {
      "text/html": [
       "<div>\n",
       "<style scoped>\n",
       "    .dataframe tbody tr th:only-of-type {\n",
       "        vertical-align: middle;\n",
       "    }\n",
       "\n",
       "    .dataframe tbody tr th {\n",
       "        vertical-align: top;\n",
       "    }\n",
       "\n",
       "    .dataframe thead th {\n",
       "        text-align: right;\n",
       "    }\n",
       "</style>\n",
       "<table border=\"1\" class=\"dataframe\">\n",
       "  <thead>\n",
       "    <tr style=\"text-align: right;\">\n",
       "      <th></th>\n",
       "      <th>Dependents</th>\n",
       "      <th>tenure</th>\n",
       "      <th>OnlineSecurity</th>\n",
       "      <th>OnlineBackup</th>\n",
       "      <th>InternetService</th>\n",
       "      <th>DeviceProtection</th>\n",
       "      <th>TechSupport</th>\n",
       "      <th>Contract</th>\n",
       "      <th>PaperlessBilling</th>\n",
       "      <th>MonthlyCharges</th>\n",
       "      <th>Churn</th>\n",
       "    </tr>\n",
       "  </thead>\n",
       "  <tbody>\n",
       "    <tr>\n",
       "      <th>0</th>\n",
       "      <td>Yes</td>\n",
       "      <td>9</td>\n",
       "      <td>No</td>\n",
       "      <td>No</td>\n",
       "      <td>DSL</td>\n",
       "      <td>Yes</td>\n",
       "      <td>Yes</td>\n",
       "      <td>Month-to-month</td>\n",
       "      <td>Yes</td>\n",
       "      <td>72.90</td>\n",
       "      <td>Yes</td>\n",
       "    </tr>\n",
       "    <tr>\n",
       "      <th>1</th>\n",
       "      <td>No</td>\n",
       "      <td>14</td>\n",
       "      <td>No</td>\n",
       "      <td>Yes</td>\n",
       "      <td>Fiber optic</td>\n",
       "      <td>Yes</td>\n",
       "      <td>No</td>\n",
       "      <td>Month-to-month</td>\n",
       "      <td>Yes</td>\n",
       "      <td>82.65</td>\n",
       "      <td>No</td>\n",
       "    </tr>\n",
       "    <tr>\n",
       "      <th>2</th>\n",
       "      <td>No</td>\n",
       "      <td>64</td>\n",
       "      <td>Yes</td>\n",
       "      <td>No</td>\n",
       "      <td>DSL</td>\n",
       "      <td>Yes</td>\n",
       "      <td>Yes</td>\n",
       "      <td>Two year</td>\n",
       "      <td>No</td>\n",
       "      <td>47.85</td>\n",
       "      <td>Yes</td>\n",
       "    </tr>\n",
       "    <tr>\n",
       "      <th>3</th>\n",
       "      <td>No</td>\n",
       "      <td>72</td>\n",
       "      <td>Yes</td>\n",
       "      <td>Yes</td>\n",
       "      <td>DSL</td>\n",
       "      <td>Yes</td>\n",
       "      <td>Yes</td>\n",
       "      <td>Two year</td>\n",
       "      <td>No</td>\n",
       "      <td>69.65</td>\n",
       "      <td>No</td>\n",
       "    </tr>\n",
       "    <tr>\n",
       "      <th>4</th>\n",
       "      <td>No</td>\n",
       "      <td>3</td>\n",
       "      <td>No internet service</td>\n",
       "      <td>No internet service</td>\n",
       "      <td>No</td>\n",
       "      <td>No internet service</td>\n",
       "      <td>No internet service</td>\n",
       "      <td>Month-to-month</td>\n",
       "      <td>Yes</td>\n",
       "      <td>23.60</td>\n",
       "      <td>No</td>\n",
       "    </tr>\n",
       "    <tr>\n",
       "      <th>...</th>\n",
       "      <td>...</td>\n",
       "      <td>...</td>\n",
       "      <td>...</td>\n",
       "      <td>...</td>\n",
       "      <td>...</td>\n",
       "      <td>...</td>\n",
       "      <td>...</td>\n",
       "      <td>...</td>\n",
       "      <td>...</td>\n",
       "      <td>...</td>\n",
       "      <td>...</td>\n",
       "    </tr>\n",
       "    <tr>\n",
       "      <th>4925</th>\n",
       "      <td>No</td>\n",
       "      <td>15</td>\n",
       "      <td>No</td>\n",
       "      <td>No</td>\n",
       "      <td>Fiber optic</td>\n",
       "      <td>Yes</td>\n",
       "      <td>Yes</td>\n",
       "      <td>Month-to-month</td>\n",
       "      <td>Yes</td>\n",
       "      <td>103.45</td>\n",
       "      <td>No</td>\n",
       "    </tr>\n",
       "    <tr>\n",
       "      <th>4926</th>\n",
       "      <td>Yes</td>\n",
       "      <td>10</td>\n",
       "      <td>No</td>\n",
       "      <td>No</td>\n",
       "      <td>Fiber optic</td>\n",
       "      <td>Yes</td>\n",
       "      <td>Yes</td>\n",
       "      <td>Month-to-month</td>\n",
       "      <td>Yes</td>\n",
       "      <td>91.10</td>\n",
       "      <td>No</td>\n",
       "    </tr>\n",
       "    <tr>\n",
       "      <th>4927</th>\n",
       "      <td>No</td>\n",
       "      <td>58</td>\n",
       "      <td>No internet service</td>\n",
       "      <td>No internet service</td>\n",
       "      <td>No</td>\n",
       "      <td>No internet service</td>\n",
       "      <td>No internet service</td>\n",
       "      <td>Two year</td>\n",
       "      <td>No</td>\n",
       "      <td>20.75</td>\n",
       "      <td>No</td>\n",
       "    </tr>\n",
       "    <tr>\n",
       "      <th>4928</th>\n",
       "      <td>No</td>\n",
       "      <td>1</td>\n",
       "      <td>No</td>\n",
       "      <td>No</td>\n",
       "      <td>Fiber optic</td>\n",
       "      <td>No</td>\n",
       "      <td>No</td>\n",
       "      <td>Month-to-month</td>\n",
       "      <td>Yes</td>\n",
       "      <td>69.75</td>\n",
       "      <td>Yes</td>\n",
       "    </tr>\n",
       "    <tr>\n",
       "      <th>4929</th>\n",
       "      <td>Yes</td>\n",
       "      <td>4</td>\n",
       "      <td>No internet service</td>\n",
       "      <td>No internet service</td>\n",
       "      <td>No</td>\n",
       "      <td>No internet service</td>\n",
       "      <td>No internet service</td>\n",
       "      <td>Month-to-month</td>\n",
       "      <td>No</td>\n",
       "      <td>20.40</td>\n",
       "      <td>No</td>\n",
       "    </tr>\n",
       "  </tbody>\n",
       "</table>\n",
       "<p>4930 rows × 11 columns</p>\n",
       "</div>"
      ],
      "text/plain": [
       "     Dependents  tenure       OnlineSecurity         OnlineBackup  \\\n",
       "0           Yes       9                   No                   No   \n",
       "1            No      14                   No                  Yes   \n",
       "2            No      64                  Yes                   No   \n",
       "3            No      72                  Yes                  Yes   \n",
       "4            No       3  No internet service  No internet service   \n",
       "...         ...     ...                  ...                  ...   \n",
       "4925         No      15                   No                   No   \n",
       "4926        Yes      10                   No                   No   \n",
       "4927         No      58  No internet service  No internet service   \n",
       "4928         No       1                   No                   No   \n",
       "4929        Yes       4  No internet service  No internet service   \n",
       "\n",
       "     InternetService     DeviceProtection          TechSupport  \\\n",
       "0                DSL                  Yes                  Yes   \n",
       "1        Fiber optic                  Yes                   No   \n",
       "2                DSL                  Yes                  Yes   \n",
       "3                DSL                  Yes                  Yes   \n",
       "4                 No  No internet service  No internet service   \n",
       "...              ...                  ...                  ...   \n",
       "4925     Fiber optic                  Yes                  Yes   \n",
       "4926     Fiber optic                  Yes                  Yes   \n",
       "4927              No  No internet service  No internet service   \n",
       "4928     Fiber optic                   No                   No   \n",
       "4929              No  No internet service  No internet service   \n",
       "\n",
       "            Contract PaperlessBilling  MonthlyCharges Churn  \n",
       "0     Month-to-month              Yes           72.90   Yes  \n",
       "1     Month-to-month              Yes           82.65    No  \n",
       "2           Two year               No           47.85   Yes  \n",
       "3           Two year               No           69.65    No  \n",
       "4     Month-to-month              Yes           23.60    No  \n",
       "...              ...              ...             ...   ...  \n",
       "4925  Month-to-month              Yes          103.45    No  \n",
       "4926  Month-to-month              Yes           91.10    No  \n",
       "4927        Two year               No           20.75    No  \n",
       "4928  Month-to-month              Yes           69.75   Yes  \n",
       "4929  Month-to-month               No           20.40    No  \n",
       "\n",
       "[4930 rows x 11 columns]"
      ]
     },
     "execution_count": 3,
     "metadata": {},
     "output_type": "execute_result"
    }
   ],
   "source": [
    "df = pd.read_csv('data_telco3.csv', index_col=False)\n",
    "df"
   ]
  },
  {
   "cell_type": "markdown",
   "metadata": {},
   "source": [
    "## DATA TYPES"
   ]
  },
  {
   "cell_type": "code",
   "execution_count": 4,
   "metadata": {},
   "outputs": [
    {
     "name": "stdout",
     "output_type": "stream",
     "text": [
      "<class 'pandas.core.frame.DataFrame'>\n",
      "RangeIndex: 4930 entries, 0 to 4929\n",
      "Data columns (total 11 columns):\n",
      " #   Column            Non-Null Count  Dtype  \n",
      "---  ------            --------------  -----  \n",
      " 0   Dependents        4930 non-null   object \n",
      " 1   tenure            4930 non-null   int64  \n",
      " 2   OnlineSecurity    4930 non-null   object \n",
      " 3   OnlineBackup      4930 non-null   object \n",
      " 4   InternetService   4930 non-null   object \n",
      " 5   DeviceProtection  4930 non-null   object \n",
      " 6   TechSupport       4930 non-null   object \n",
      " 7   Contract          4930 non-null   object \n",
      " 8   PaperlessBilling  4930 non-null   object \n",
      " 9   MonthlyCharges    4930 non-null   float64\n",
      " 10  Churn             4930 non-null   object \n",
      "dtypes: float64(1), int64(1), object(9)\n",
      "memory usage: 423.8+ KB\n"
     ]
    }
   ],
   "source": [
    "df.info()"
   ]
  },
  {
   "cell_type": "markdown",
   "metadata": {},
   "source": [
    "### INSIGHT DATA TYPES\n",
    "Dataset berisi 4930 baris dan 11 kolom yang memberikan informasi pelanggan."
   ]
  },
  {
   "cell_type": "markdown",
   "metadata": {},
   "source": [
    "## DATA FEATURES"
   ]
  },
  {
   "cell_type": "markdown",
   "metadata": {},
   "source": [
    "| Attribute                 | Data Type           | Description                                         |\n",
    "|---------------------------|---------------------|-----------------------------------------------------|\n",
    "|Dependents                 |object\t              |Apakah pelanggan memiliki tanggungan atau tidak.     |\n",
    "|tenure                     |int64                |Frekuensi Pelanggan menggunakan produk.              |\n",
    "|OnlineSecurity             |object\t              |memiliki layanan OnlineSecurity atau tidak.          |\n",
    "|OnlineBackup               |object               |memiliki layanan OnlineBackup atau tidak.            |\n",
    "|InternetService\t        |object\t              |memiliki layanan InternetService atau tidak.         |\n",
    "|DeviceProtection\t        |object\t              |memiliki layanan DeviceProtection atau tidak.        |\n",
    "|TechSupport\t            |object\t              |memiliki layanan TechSupport atau tidak              |\n",
    "|Contract                   |object\t              |Jenis Kontrak berdasarkan durasi                     |\n",
    "|PaperlessBilling \t        |object\t              |Pilihan tagihan menggunakan PaperlessBilling         |\n",
    "|MonthlyCharges\t            |float64\t          |Jumlah biaya layanan setiap bulan                    |\n",
    "|Churn        \t            |object               |pelanggan beralih atau tidak                         |"
   ]
  },
  {
   "cell_type": "markdown",
   "metadata": {},
   "source": [
    "## UNIQUE VALUES"
   ]
  },
  {
   "cell_type": "code",
   "execution_count": 5,
   "metadata": {},
   "outputs": [
    {
     "data": {
      "text/html": [
       "<div>\n",
       "<style scoped>\n",
       "    .dataframe tbody tr th:only-of-type {\n",
       "        vertical-align: middle;\n",
       "    }\n",
       "\n",
       "    .dataframe tbody tr th {\n",
       "        vertical-align: top;\n",
       "    }\n",
       "\n",
       "    .dataframe thead th {\n",
       "        text-align: right;\n",
       "    }\n",
       "</style>\n",
       "<table border=\"1\" class=\"dataframe\">\n",
       "  <thead>\n",
       "    <tr style=\"text-align: right;\">\n",
       "      <th></th>\n",
       "      <th>Column Name</th>\n",
       "      <th>Number of Unique</th>\n",
       "      <th>Unique Sample</th>\n",
       "    </tr>\n",
       "  </thead>\n",
       "  <tbody>\n",
       "    <tr>\n",
       "      <th>0</th>\n",
       "      <td>Dependents</td>\n",
       "      <td>2</td>\n",
       "      <td>[Yes, No]</td>\n",
       "    </tr>\n",
       "    <tr>\n",
       "      <th>1</th>\n",
       "      <td>tenure</td>\n",
       "      <td>73</td>\n",
       "      <td>[9, 14, 64, 72, 3, 40, 17, 11, 8, 47, 18, 5, 1, 48, 13, 58, 7, 4, 70, 34, 31, 37, 15, 71, 10, 43, 22, 33, 69, 54, 63, 55, 66, 56, 32, 26, 24, 2, 51, 23, 49, 28, 36, 45, 42, 6, 61, 59, 67, 65, 0, 16, 52, 41, 25, 62, 20, 50, 30, 60, 19, 35, 57, 27, 44, 53, 12, 46, 39, 29, 38, 68, 21]</td>\n",
       "    </tr>\n",
       "    <tr>\n",
       "      <th>2</th>\n",
       "      <td>OnlineSecurity</td>\n",
       "      <td>3</td>\n",
       "      <td>[No, Yes, No internet service]</td>\n",
       "    </tr>\n",
       "    <tr>\n",
       "      <th>3</th>\n",
       "      <td>OnlineBackup</td>\n",
       "      <td>3</td>\n",
       "      <td>[No, Yes, No internet service]</td>\n",
       "    </tr>\n",
       "    <tr>\n",
       "      <th>4</th>\n",
       "      <td>InternetService</td>\n",
       "      <td>3</td>\n",
       "      <td>[DSL, Fiber optic, No]</td>\n",
       "    </tr>\n",
       "    <tr>\n",
       "      <th>5</th>\n",
       "      <td>DeviceProtection</td>\n",
       "      <td>3</td>\n",
       "      <td>[Yes, No internet service, No]</td>\n",
       "    </tr>\n",
       "    <tr>\n",
       "      <th>6</th>\n",
       "      <td>TechSupport</td>\n",
       "      <td>3</td>\n",
       "      <td>[Yes, No, No internet service]</td>\n",
       "    </tr>\n",
       "    <tr>\n",
       "      <th>7</th>\n",
       "      <td>Contract</td>\n",
       "      <td>3</td>\n",
       "      <td>[Month-to-month, Two year, One year]</td>\n",
       "    </tr>\n",
       "    <tr>\n",
       "      <th>8</th>\n",
       "      <td>PaperlessBilling</td>\n",
       "      <td>2</td>\n",
       "      <td>[Yes, No]</td>\n",
       "    </tr>\n",
       "    <tr>\n",
       "      <th>9</th>\n",
       "      <td>MonthlyCharges</td>\n",
       "      <td>1422</td>\n",
       "      <td>[72.9, 82.65, 47.85, 69.65, 23.6, 74.55, 19.7, 44.05, 73.5, 40.3, 33.6, 96.25, 70.45, 30.55, 44.8, 20.0, 81.5, 94.35, 35.3, 50.7, 106.05, 56.3, 20.65, 98.9, 40.2, 81.2, 19.45, 116.1, 55.2, 94.45, 84.85, 19.6, 79.0, 74.7, 30.4, 55.8, 104.5, 70.55, 55.25, 96.65, 88.85, 109.25, 104.75, 74.4, 79.4, 74.1, 73.05, 94.6, 70.35, 79.6, 79.5, 90.7, 81.0, 87.75, 118.65, 24.8, 105.25, 57.8, 19.0, 25.7, 54.2, 44.85, 19.95, 81.05, 20.35, 85.25, 67.45, 100.3, 20.95, 105.2, 26.35, 82.15, 102.6, 106.15, 23.95, 115.8, 66.85, 90.35, 89.85, 73.35, 104.45, 35.45, 88.4, 70.5, 25.1, 39.0, 83.25, 74.3, 54.3, 50.45, 86.0, 19.55, 103.5, 91.7, 64.85, 99.65, 68.75, 106.25, 75.9, 94.4, ...]</td>\n",
       "    </tr>\n",
       "    <tr>\n",
       "      <th>10</th>\n",
       "      <td>Churn</td>\n",
       "      <td>2</td>\n",
       "      <td>[Yes, No]</td>\n",
       "    </tr>\n",
       "  </tbody>\n",
       "</table>\n",
       "</div>"
      ],
      "text/plain": [
       "         Column Name  Number of Unique  \\\n",
       "0         Dependents                 2   \n",
       "1             tenure                73   \n",
       "2     OnlineSecurity                 3   \n",
       "3       OnlineBackup                 3   \n",
       "4    InternetService                 3   \n",
       "5   DeviceProtection                 3   \n",
       "6        TechSupport                 3   \n",
       "7           Contract                 3   \n",
       "8   PaperlessBilling                 2   \n",
       "9     MonthlyCharges              1422   \n",
       "10             Churn                 2   \n",
       "\n",
       "                                                                                                                                                                                                                                                                                                                                                                                                                                                                                                                                                                                                                                                                                    Unique Sample  \n",
       "0                                                                                                                                                                                                                                                                                                                                                                                                                                                                                                                                                                                                                                                                                       [Yes, No]  \n",
       "1                                                                                                                                                                                                                                                                                                                                                                                                      [9, 14, 64, 72, 3, 40, 17, 11, 8, 47, 18, 5, 1, 48, 13, 58, 7, 4, 70, 34, 31, 37, 15, 71, 10, 43, 22, 33, 69, 54, 63, 55, 66, 56, 32, 26, 24, 2, 51, 23, 49, 28, 36, 45, 42, 6, 61, 59, 67, 65, 0, 16, 52, 41, 25, 62, 20, 50, 30, 60, 19, 35, 57, 27, 44, 53, 12, 46, 39, 29, 38, 68, 21]  \n",
       "2                                                                                                                                                                                                                                                                                                                                                                                                                                                                                                                                                                                                                                                                  [No, Yes, No internet service]  \n",
       "3                                                                                                                                                                                                                                                                                                                                                                                                                                                                                                                                                                                                                                                                  [No, Yes, No internet service]  \n",
       "4                                                                                                                                                                                                                                                                                                                                                                                                                                                                                                                                                                                                                                                                          [DSL, Fiber optic, No]  \n",
       "5                                                                                                                                                                                                                                                                                                                                                                                                                                                                                                                                                                                                                                                                  [Yes, No internet service, No]  \n",
       "6                                                                                                                                                                                                                                                                                                                                                                                                                                                                                                                                                                                                                                                                  [Yes, No, No internet service]  \n",
       "7                                                                                                                                                                                                                                                                                                                                                                                                                                                                                                                                                                                                                                                            [Month-to-month, Two year, One year]  \n",
       "8                                                                                                                                                                                                                                                                                                                                                                                                                                                                                                                                                                                                                                                                                       [Yes, No]  \n",
       "9   [72.9, 82.65, 47.85, 69.65, 23.6, 74.55, 19.7, 44.05, 73.5, 40.3, 33.6, 96.25, 70.45, 30.55, 44.8, 20.0, 81.5, 94.35, 35.3, 50.7, 106.05, 56.3, 20.65, 98.9, 40.2, 81.2, 19.45, 116.1, 55.2, 94.45, 84.85, 19.6, 79.0, 74.7, 30.4, 55.8, 104.5, 70.55, 55.25, 96.65, 88.85, 109.25, 104.75, 74.4, 79.4, 74.1, 73.05, 94.6, 70.35, 79.6, 79.5, 90.7, 81.0, 87.75, 118.65, 24.8, 105.25, 57.8, 19.0, 25.7, 54.2, 44.85, 19.95, 81.05, 20.35, 85.25, 67.45, 100.3, 20.95, 105.2, 26.35, 82.15, 102.6, 106.15, 23.95, 115.8, 66.85, 90.35, 89.85, 73.35, 104.45, 35.45, 88.4, 70.5, 25.1, 39.0, 83.25, 74.3, 54.3, 50.45, 86.0, 19.55, 103.5, 91.7, 64.85, 99.65, 68.75, 106.25, 75.9, 94.4, ...]  \n",
       "10                                                                                                                                                                                                                                                                                                                                                                                                                                                                                                                                                                                                                                                                                      [Yes, No]  "
      ]
     },
     "execution_count": 5,
     "metadata": {},
     "output_type": "execute_result"
    }
   ],
   "source": [
    "pd.set_option('display.max_colwidth', None)\n",
    "# data uni di tiap kolom\n",
    "listItem = []\n",
    "for col in df.columns :\n",
    "    listItem.append( [col, df[col].nunique(), df[col].unique()])\n",
    "\n",
    "tabel1Desc = pd.DataFrame(columns=['Column Name', 'Number of Unique', 'Unique Sample'],\n",
    "                     data=listItem)\n",
    "tabel1Desc"
   ]
  },
  {
   "cell_type": "markdown",
   "metadata": {},
   "source": [
    "### INSIGHT UNIQUE VALUES\n",
    "Dari tabel diatas dapat disimpulkan\n",
    "\n",
    "- `tenure` berisi data diskrit yang menunjukan jumlah bulan.\n",
    "- `MonthlyCharges` berisi data kontinu yang menunjukan jumlah biaya yang dikeluarkan pelanggan perbulan.\n",
    "- `Dependent`,`Paperless Billing`, dan `Churn` memiliki 2 unique value yaitu 'Yes' atau 'No'.\n",
    "- `OnlineSecurity`,`OnlineBackup`,`DeviceProtection` dan `TechSupport` memiliki 3 unique value yaitu 'Yes', 'No' atau 'No internet service'.\n",
    "- `InternetService` memiliki 3 unique value yaitu 'DSL', 'Fiber optic' atau 'No'.\n",
    "- `Contract` memiliki nilai berupa 'Month-to-month', 'Two year' atau 'One year'."
   ]
  },
  {
   "cell_type": "markdown",
   "metadata": {},
   "source": [
    "## CHECK MISSING VALUES"
   ]
  },
  {
   "cell_type": "code",
   "execution_count": 6,
   "metadata": {},
   "outputs": [
    {
     "data": {
      "text/plain": [
       "<Axes: >"
      ]
     },
     "execution_count": 6,
     "metadata": {},
     "output_type": "execute_result"
    },
    {
     "data": {
      "image/png": "[encoded data removed]",
      "text/plain": [
       "<Figure size 2500x1000 with 2 Axes>"
      ]
     },
     "metadata": {},
     "output_type": "display_data"
    }
   ],
   "source": [
    "msno.matrix(df)"
   ]
  },
  {
   "cell_type": "markdown",
   "metadata": {},
   "source": [
    "### INSIGHT CHECK MISSING VALUES\n",
    "Dalam dataset data_telco_customer_churn ini tidak terdapat missing value"
   ]
  },
  {
   "cell_type": "code",
   "execution_count": 7,
   "metadata": {},
   "outputs": [
    {
     "data": {
      "text/html": [
       "<div>\n",
       "<style scoped>\n",
       "    .dataframe tbody tr th:only-of-type {\n",
       "        vertical-align: middle;\n",
       "    }\n",
       "\n",
       "    .dataframe tbody tr th {\n",
       "        vertical-align: top;\n",
       "    }\n",
       "\n",
       "    .dataframe thead th {\n",
       "        text-align: right;\n",
       "    }\n",
       "</style>\n",
       "<table border=\"1\" class=\"dataframe\">\n",
       "  <thead>\n",
       "    <tr style=\"text-align: right;\">\n",
       "      <th></th>\n",
       "      <th>dataFeatures</th>\n",
       "      <th>dataType</th>\n",
       "      <th>null</th>\n",
       "      <th>nullPct</th>\n",
       "      <th>unique</th>\n",
       "      <th>uniqueSample</th>\n",
       "    </tr>\n",
       "  </thead>\n",
       "  <tbody>\n",
       "    <tr>\n",
       "      <th>0</th>\n",
       "      <td>Dependents</td>\n",
       "      <td>object</td>\n",
       "      <td>0</td>\n",
       "      <td>0.0</td>\n",
       "      <td>2</td>\n",
       "      <td>[No, Yes]</td>\n",
       "    </tr>\n",
       "    <tr>\n",
       "      <th>1</th>\n",
       "      <td>tenure</td>\n",
       "      <td>int64</td>\n",
       "      <td>0</td>\n",
       "      <td>0.0</td>\n",
       "      <td>73</td>\n",
       "      <td>[58, 52]</td>\n",
       "    </tr>\n",
       "    <tr>\n",
       "      <th>2</th>\n",
       "      <td>OnlineSecurity</td>\n",
       "      <td>object</td>\n",
       "      <td>0</td>\n",
       "      <td>0.0</td>\n",
       "      <td>3</td>\n",
       "      <td>[Yes, No]</td>\n",
       "    </tr>\n",
       "    <tr>\n",
       "      <th>3</th>\n",
       "      <td>OnlineBackup</td>\n",
       "      <td>object</td>\n",
       "      <td>0</td>\n",
       "      <td>0.0</td>\n",
       "      <td>3</td>\n",
       "      <td>[No internet service, Yes]</td>\n",
       "    </tr>\n",
       "    <tr>\n",
       "      <th>4</th>\n",
       "      <td>InternetService</td>\n",
       "      <td>object</td>\n",
       "      <td>0</td>\n",
       "      <td>0.0</td>\n",
       "      <td>3</td>\n",
       "      <td>[Fiber optic, No]</td>\n",
       "    </tr>\n",
       "    <tr>\n",
       "      <th>5</th>\n",
       "      <td>DeviceProtection</td>\n",
       "      <td>object</td>\n",
       "      <td>0</td>\n",
       "      <td>0.0</td>\n",
       "      <td>3</td>\n",
       "      <td>[Yes, No internet service]</td>\n",
       "    </tr>\n",
       "    <tr>\n",
       "      <th>6</th>\n",
       "      <td>TechSupport</td>\n",
       "      <td>object</td>\n",
       "      <td>0</td>\n",
       "      <td>0.0</td>\n",
       "      <td>3</td>\n",
       "      <td>[Yes, No internet service]</td>\n",
       "    </tr>\n",
       "    <tr>\n",
       "      <th>7</th>\n",
       "      <td>Contract</td>\n",
       "      <td>object</td>\n",
       "      <td>0</td>\n",
       "      <td>0.0</td>\n",
       "      <td>3</td>\n",
       "      <td>[Month-to-month, Two year]</td>\n",
       "    </tr>\n",
       "    <tr>\n",
       "      <th>8</th>\n",
       "      <td>PaperlessBilling</td>\n",
       "      <td>object</td>\n",
       "      <td>0</td>\n",
       "      <td>0.0</td>\n",
       "      <td>2</td>\n",
       "      <td>[Yes, No]</td>\n",
       "    </tr>\n",
       "    <tr>\n",
       "      <th>9</th>\n",
       "      <td>MonthlyCharges</td>\n",
       "      <td>float64</td>\n",
       "      <td>0</td>\n",
       "      <td>0.0</td>\n",
       "      <td>1422</td>\n",
       "      <td>[84.2, 67.95]</td>\n",
       "    </tr>\n",
       "    <tr>\n",
       "      <th>10</th>\n",
       "      <td>Churn</td>\n",
       "      <td>object</td>\n",
       "      <td>0</td>\n",
       "      <td>0.0</td>\n",
       "      <td>2</td>\n",
       "      <td>[Yes, No]</td>\n",
       "    </tr>\n",
       "  </tbody>\n",
       "</table>\n",
       "</div>"
      ],
      "text/plain": [
       "        dataFeatures dataType  null  nullPct  unique  \\\n",
       "0         Dependents   object     0      0.0       2   \n",
       "1             tenure    int64     0      0.0      73   \n",
       "2     OnlineSecurity   object     0      0.0       3   \n",
       "3       OnlineBackup   object     0      0.0       3   \n",
       "4    InternetService   object     0      0.0       3   \n",
       "5   DeviceProtection   object     0      0.0       3   \n",
       "6        TechSupport   object     0      0.0       3   \n",
       "7           Contract   object     0      0.0       3   \n",
       "8   PaperlessBilling   object     0      0.0       2   \n",
       "9     MonthlyCharges  float64     0      0.0    1422   \n",
       "10             Churn   object     0      0.0       2   \n",
       "\n",
       "                  uniqueSample  \n",
       "0                    [No, Yes]  \n",
       "1                     [58, 52]  \n",
       "2                    [Yes, No]  \n",
       "3   [No internet service, Yes]  \n",
       "4            [Fiber optic, No]  \n",
       "5   [Yes, No internet service]  \n",
       "6   [Yes, No internet service]  \n",
       "7   [Month-to-month, Two year]  \n",
       "8                    [Yes, No]  \n",
       "9                [84.2, 67.95]  \n",
       "10                   [Yes, No]  "
      ]
     },
     "execution_count": 7,
     "metadata": {},
     "output_type": "execute_result"
    }
   ],
   "source": [
    "listItem = []\n",
    "for col in df.columns :\n",
    "    listItem.append([col, df[col].dtype, df[col].isna().sum(), round((df[col].isna().sum()/len(df[col])) * 100,2),\n",
    "                    df[col].nunique(), list(df[col].drop_duplicates().sample(2).values)])\n",
    "\n",
    "dfDesc = pd.DataFrame(columns=['dataFeatures', 'dataType', 'null', 'nullPct', 'unique', 'uniqueSample'],\n",
    "                     data=listItem)\n",
    "dfDesc"
   ]
  },
  {
   "cell_type": "markdown",
   "metadata": {},
   "source": [
    "## CHECK OUTLIERS"
   ]
  },
  {
   "cell_type": "code",
   "execution_count": 8,
   "metadata": {},
   "outputs": [],
   "source": [
    "numerik = df.select_dtypes(include=['int64','float64'])"
   ]
  },
  {
   "cell_type": "code",
   "execution_count": 9,
   "metadata": {},
   "outputs": [
    {
     "data": {
      "image/png": "[encoded data removed]",
      "text/plain": [
       "<Figure size 2000x10000 with 2 Axes>"
      ]
     },
     "metadata": {},
     "output_type": "display_data"
    }
   ],
   "source": [
    "fig = plt.figure(figsize=(20,100)) # horizontal, vertikal\n",
    "\n",
    "count = 0\n",
    "for kolom in numerik.columns:\n",
    "    count += 1\n",
    "    plt.subplot(13,2,count)\n",
    "    sns.histplot(numerik[kolom], kde=True)\n",
    "    plt.title(f\"histogram {kolom}\")\n",
    "plt.show()"
   ]
  },
  {
   "cell_type": "markdown",
   "metadata": {},
   "source": [
    "### INSIGHT CHECK OUTLIERS\n",
    "Berdasarkan kedua histogram di atas, tidak ada indikasi jelas adanya outliers yang signifikan dalam data tenure dan MonthlyCharges.\n",
    "Pola distribusi terlihat wajar dan menyebar dengan baik tanpa lonjakan ekstrem yang biasanya menunjukkan kehadiran outliers.Untuk analisis lebih mendalam mengenai outliers, dapat digunakan metode statistik lainnya seperti boxplot"
   ]
  },
  {
   "cell_type": "code",
   "execution_count": 10,
   "metadata": {},
   "outputs": [
    {
     "data": {
      "image/png": "[encoded data removed]",
      "text/plain": [
       "<Figure size 2000x10000 with 2 Axes>"
      ]
     },
     "metadata": {},
     "output_type": "display_data"
    }
   ],
   "source": [
    "fig = plt.figure(figsize=(20,100)) # horizontal, vertikal\n",
    "\n",
    "count = 0\n",
    "for kolom in numerik.columns:\n",
    "    count += 1\n",
    "    plt.subplot(13,2,count)\n",
    "    sns.boxplot(numerik, x = kolom)\n",
    "    plt.title(f'{kolom}')\n",
    "plt.show()"
   ]
  },
  {
   "cell_type": "markdown",
   "metadata": {},
   "source": [
    "### INSIGHT BLOXPOT\n",
    "**Tenure:**\n",
    "* Distribusi masa berlangganan pelanggan cukup merata tanpa adanya outliers. Sebagian besar pelanggan memiliki masa berlangganan antara 10 hingga 60 bulan.\n",
    "    \n",
    "**Monthly Charges:**\n",
    "* Distribusi biaya bulanan pelanggan juga cukup merata tanpa adanya outliers. Sebagian besar pelanggan membayar biaya bulanan antara $35 hingga $90."
   ]
  },
  {
   "cell_type": "markdown",
   "metadata": {},
   "source": [
    "## CORRELATION"
   ]
  },
  {
   "cell_type": "code",
   "execution_count": 11,
   "metadata": {},
   "outputs": [
    {
     "data": {
      "text/html": [
       "<div>\n",
       "<style scoped>\n",
       "    .dataframe tbody tr th:only-of-type {\n",
       "        vertical-align: middle;\n",
       "    }\n",
       "\n",
       "    .dataframe tbody tr th {\n",
       "        vertical-align: top;\n",
       "    }\n",
       "\n",
       "    .dataframe thead th {\n",
       "        text-align: right;\n",
       "    }\n",
       "</style>\n",
       "<table border=\"1\" class=\"dataframe\">\n",
       "  <thead>\n",
       "    <tr style=\"text-align: right;\">\n",
       "      <th></th>\n",
       "      <th>tenure</th>\n",
       "      <th>MonthlyCharges</th>\n",
       "    </tr>\n",
       "  </thead>\n",
       "  <tbody>\n",
       "    <tr>\n",
       "      <th>tenure</th>\n",
       "      <td>1.000000</td>\n",
       "      <td>0.240244</td>\n",
       "    </tr>\n",
       "    <tr>\n",
       "      <th>MonthlyCharges</th>\n",
       "      <td>0.240244</td>\n",
       "      <td>1.000000</td>\n",
       "    </tr>\n",
       "  </tbody>\n",
       "</table>\n",
       "</div>"
      ],
      "text/plain": [
       "                  tenure  MonthlyCharges\n",
       "tenure          1.000000        0.240244\n",
       "MonthlyCharges  0.240244        1.000000"
      ]
     },
     "execution_count": 11,
     "metadata": {},
     "output_type": "execute_result"
    }
   ],
   "source": [
    "numerik.corr()"
   ]
  },
  {
   "cell_type": "markdown",
   "metadata": {},
   "source": [
    "## IMBALANCE"
   ]
  },
  {
   "cell_type": "code",
   "execution_count": 12,
   "metadata": {},
   "outputs": [
    {
     "data": {
      "text/plain": [
       "Churn\n",
       "No     73.306288\n",
       "Yes    26.693712\n",
       "Name: count, dtype: float64"
      ]
     },
     "execution_count": 12,
     "metadata": {},
     "output_type": "execute_result"
    }
   ],
   "source": [
    "(df['Churn'].value_counts()/len(df))*100"
   ]
  },
  {
   "cell_type": "markdown",
   "metadata": {},
   "source": [
    "### INSIGHT IMBALANCE\n",
    "Dalam dataset yang ditampilkan, terdapat ketidakseimbangan (imbalance) yang signifikan antara kelas \"No\" dan \"Yes\". Ini berarti bahwa untuk memprediksi churn secara efektif, kita perlu menerapkan teknik-teknik khusus untuk menangani imbalance ini agar model yang dihasilkan dapat mengidentifikasi dengan baik pelanggan yang berpotensi berhenti berlangganan (churn)."
   ]
  },
  {
   "cell_type": "markdown",
   "metadata": {},
   "source": [
    "# **DATA PRE-PROCESSING**"
   ]
  },
  {
   "cell_type": "markdown",
   "metadata": {},
   "source": [
    "## DATA CLEANING"
   ]
  },
  {
   "cell_type": "code",
   "execution_count": 13,
   "metadata": {},
   "outputs": [],
   "source": [
    "dfClean = df.copy()"
   ]
  },
  {
   "cell_type": "code",
   "execution_count": 14,
   "metadata": {},
   "outputs": [
    {
     "name": "stdout",
     "output_type": "stream",
     "text": [
      "Jumlah data duplikat : 77\n"
     ]
    }
   ],
   "source": [
    "# mengecek data duplikat\n",
    "print('Jumlah data duplikat :', df.duplicated().sum())"
   ]
  },
  {
   "cell_type": "code",
   "execution_count": 15,
   "metadata": {},
   "outputs": [
    {
     "data": {
      "text/plain": [
       "(4853, 11)"
      ]
     },
     "execution_count": 15,
     "metadata": {},
     "output_type": "execute_result"
    }
   ],
   "source": [
    "# menghapus data duplikat\n",
    "df.drop_duplicates(inplace=True)\n",
    "df.shape"
   ]
  },
  {
   "cell_type": "code",
   "execution_count": 16,
   "metadata": {},
   "outputs": [
    {
     "name": "stdout",
     "output_type": "stream",
     "text": [
      "Tidak ada data yang sama\n"
     ]
    }
   ],
   "source": [
    "# mengecek apakah ada kolom dengan data yang seluruhnya sama\n",
    "found_same_data = False\n",
    "for check_col in df.columns:\n",
    "    if df[check_col].nunique() == 1:\n",
    "        found_same_data = True\n",
    "        print(f\"{check_col} memiliki data yang persis sama\")\n",
    "\n",
    "if not found_same_data:\n",
    "    print(\"Tidak ada data yang sama\")\n"
   ]
  },
  {
   "cell_type": "markdown",
   "metadata": {},
   "source": [
    "### Kolom Tenure"
   ]
  },
  {
   "cell_type": "code",
   "execution_count": 17,
   "metadata": {},
   "outputs": [
    {
     "name": "stdout",
     "output_type": "stream",
     "text": [
      "\n",
      "Terdapat 8 data pelanggan yang memiliki durasi langganan 0 bulan. Berikut datanya:\n",
      "\n"
     ]
    },
    {
     "data": {
      "text/html": [
       "<div>\n",
       "<style scoped>\n",
       "    .dataframe tbody tr th:only-of-type {\n",
       "        vertical-align: middle;\n",
       "    }\n",
       "\n",
       "    .dataframe tbody tr th {\n",
       "        vertical-align: top;\n",
       "    }\n",
       "\n",
       "    .dataframe thead th {\n",
       "        text-align: right;\n",
       "    }\n",
       "</style>\n",
       "<table border=\"1\" class=\"dataframe\">\n",
       "  <thead>\n",
       "    <tr style=\"text-align: right;\">\n",
       "      <th></th>\n",
       "      <th>Dependents</th>\n",
       "      <th>tenure</th>\n",
       "      <th>OnlineSecurity</th>\n",
       "      <th>OnlineBackup</th>\n",
       "      <th>InternetService</th>\n",
       "      <th>DeviceProtection</th>\n",
       "      <th>TechSupport</th>\n",
       "      <th>Contract</th>\n",
       "      <th>PaperlessBilling</th>\n",
       "      <th>MonthlyCharges</th>\n",
       "      <th>Churn</th>\n",
       "    </tr>\n",
       "  </thead>\n",
       "  <tbody>\n",
       "    <tr>\n",
       "      <th>82</th>\n",
       "      <td>Yes</td>\n",
       "      <td>0</td>\n",
       "      <td>No</td>\n",
       "      <td>Yes</td>\n",
       "      <td>DSL</td>\n",
       "      <td>Yes</td>\n",
       "      <td>Yes</td>\n",
       "      <td>Two year</td>\n",
       "      <td>No</td>\n",
       "      <td>73.35</td>\n",
       "      <td>No</td>\n",
       "    </tr>\n",
       "    <tr>\n",
       "      <th>325</th>\n",
       "      <td>Yes</td>\n",
       "      <td>0</td>\n",
       "      <td>Yes</td>\n",
       "      <td>No</td>\n",
       "      <td>DSL</td>\n",
       "      <td>Yes</td>\n",
       "      <td>Yes</td>\n",
       "      <td>Two year</td>\n",
       "      <td>Yes</td>\n",
       "      <td>52.55</td>\n",
       "      <td>No</td>\n",
       "    </tr>\n",
       "    <tr>\n",
       "      <th>1053</th>\n",
       "      <td>Yes</td>\n",
       "      <td>0</td>\n",
       "      <td>No internet service</td>\n",
       "      <td>No internet service</td>\n",
       "      <td>No</td>\n",
       "      <td>No internet service</td>\n",
       "      <td>No internet service</td>\n",
       "      <td>Two year</td>\n",
       "      <td>No</td>\n",
       "      <td>25.35</td>\n",
       "      <td>No</td>\n",
       "    </tr>\n",
       "    <tr>\n",
       "      <th>2017</th>\n",
       "      <td>Yes</td>\n",
       "      <td>0</td>\n",
       "      <td>Yes</td>\n",
       "      <td>Yes</td>\n",
       "      <td>DSL</td>\n",
       "      <td>Yes</td>\n",
       "      <td>No</td>\n",
       "      <td>Two year</td>\n",
       "      <td>No</td>\n",
       "      <td>80.85</td>\n",
       "      <td>No</td>\n",
       "    </tr>\n",
       "    <tr>\n",
       "      <th>2902</th>\n",
       "      <td>Yes</td>\n",
       "      <td>0</td>\n",
       "      <td>Yes</td>\n",
       "      <td>Yes</td>\n",
       "      <td>DSL</td>\n",
       "      <td>No</td>\n",
       "      <td>Yes</td>\n",
       "      <td>Two year</td>\n",
       "      <td>Yes</td>\n",
       "      <td>61.90</td>\n",
       "      <td>No</td>\n",
       "    </tr>\n",
       "    <tr>\n",
       "      <th>3410</th>\n",
       "      <td>Yes</td>\n",
       "      <td>0</td>\n",
       "      <td>Yes</td>\n",
       "      <td>Yes</td>\n",
       "      <td>DSL</td>\n",
       "      <td>Yes</td>\n",
       "      <td>Yes</td>\n",
       "      <td>Two year</td>\n",
       "      <td>No</td>\n",
       "      <td>56.05</td>\n",
       "      <td>No</td>\n",
       "    </tr>\n",
       "    <tr>\n",
       "      <th>4192</th>\n",
       "      <td>Yes</td>\n",
       "      <td>0</td>\n",
       "      <td>No internet service</td>\n",
       "      <td>No internet service</td>\n",
       "      <td>No</td>\n",
       "      <td>No internet service</td>\n",
       "      <td>No internet service</td>\n",
       "      <td>Two year</td>\n",
       "      <td>No</td>\n",
       "      <td>20.25</td>\n",
       "      <td>No</td>\n",
       "    </tr>\n",
       "    <tr>\n",
       "      <th>4441</th>\n",
       "      <td>Yes</td>\n",
       "      <td>0</td>\n",
       "      <td>No internet service</td>\n",
       "      <td>No internet service</td>\n",
       "      <td>No</td>\n",
       "      <td>No internet service</td>\n",
       "      <td>No internet service</td>\n",
       "      <td>Two year</td>\n",
       "      <td>No</td>\n",
       "      <td>19.85</td>\n",
       "      <td>No</td>\n",
       "    </tr>\n",
       "  </tbody>\n",
       "</table>\n",
       "</div>"
      ],
      "text/plain": [
       "     Dependents  tenure       OnlineSecurity         OnlineBackup  \\\n",
       "82          Yes       0                   No                  Yes   \n",
       "325         Yes       0                  Yes                   No   \n",
       "1053        Yes       0  No internet service  No internet service   \n",
       "2017        Yes       0                  Yes                  Yes   \n",
       "2902        Yes       0                  Yes                  Yes   \n",
       "3410        Yes       0                  Yes                  Yes   \n",
       "4192        Yes       0  No internet service  No internet service   \n",
       "4441        Yes       0  No internet service  No internet service   \n",
       "\n",
       "     InternetService     DeviceProtection          TechSupport  Contract  \\\n",
       "82               DSL                  Yes                  Yes  Two year   \n",
       "325              DSL                  Yes                  Yes  Two year   \n",
       "1053              No  No internet service  No internet service  Two year   \n",
       "2017             DSL                  Yes                   No  Two year   \n",
       "2902             DSL                   No                  Yes  Two year   \n",
       "3410             DSL                  Yes                  Yes  Two year   \n",
       "4192              No  No internet service  No internet service  Two year   \n",
       "4441              No  No internet service  No internet service  Two year   \n",
       "\n",
       "     PaperlessBilling  MonthlyCharges Churn  \n",
       "82                 No           73.35    No  \n",
       "325               Yes           52.55    No  \n",
       "1053               No           25.35    No  \n",
       "2017               No           80.85    No  \n",
       "2902              Yes           61.90    No  \n",
       "3410               No           56.05    No  \n",
       "4192               No           20.25    No  \n",
       "4441               No           19.85    No  "
      ]
     },
     "metadata": {},
     "output_type": "display_data"
    }
   ],
   "source": [
    "print('\\nTerdapat', df[df['tenure'] == 0].value_counts().sum(), 'data pelanggan yang memiliki durasi langganan 0 bulan. Berikut datanya:\\n')\n",
    "\n",
    "display(df[df['tenure'] == 0])"
   ]
  },
  {
   "cell_type": "markdown",
   "metadata": {},
   "source": [
    "Keterangan : \n",
    "semua data diatas memiliki kesamaa di kolom Contract, yang memiliki langganan selama 2 Tahun "
   ]
  },
  {
   "cell_type": "code",
   "execution_count": 18,
   "metadata": {},
   "outputs": [
    {
     "data": {
      "text/plain": [
       "array([64, 72, 58, 71, 69, 55, 66, 70,  0, 67, 62, 51, 56, 52, 60, 63, 59,\n",
       "       49, 35, 57, 65, 27, 54, 11, 46, 48, 40, 39, 31, 45, 22, 68, 43, 53,\n",
       "        8, 14, 24, 30,  6, 47, 41, 61,  4, 19, 26, 33, 16, 44, 23, 18, 17,\n",
       "       36, 34, 25, 12, 50, 20, 37, 42, 21, 13, 32,  9, 29,  3, 10,  7, 38,\n",
       "       15,  1], dtype=int64)"
      ]
     },
     "execution_count": 18,
     "metadata": {},
     "output_type": "execute_result"
    }
   ],
   "source": [
    "df[df['Contract'] == 'Two year']['tenure'].unique()\n"
   ]
  },
  {
   "cell_type": "markdown",
   "metadata": {},
   "source": [
    "#### Insight Cleaning Kolom Tenure\n",
    "\n",
    "code diatas adalah sebuah kondisi yang menghasilkan Series boolean yang bernilai True untuk setiap baris di mana nilai dalam kolom 'Contract' adalah 'Two year', dan False untuk baris lainnya. disini kita dapat melihat bahwa pelanggan dengan kontrak 2 tahun, tenurenya cukup beragam, mulai 1 bulan sampai dengan 72 bulan. dimana kita tahu tenor 2 Tahun artinya 24 bulan, tetapi hal ini diasumsikan kolom tenure menunjukkan sudah berapa lama pelanggan menggunakan layanan. hal ini berarti dengan tenure 0 artinya pelanggan baru bergabung / menggunakan layanan. dan belum sampai 1 bulan. dari data ini, data dengan tenure 0 akan tetap digunakan dalam dataset."
   ]
  },
  {
   "cell_type": "markdown",
   "metadata": {},
   "source": [
    "### Kolom OnlineSecurity, OnlineBackup, DeviceProtection dan TechSupport"
   ]
  },
  {
   "cell_type": "code",
   "execution_count": 19,
   "metadata": {},
   "outputs": [
    {
     "name": "stdout",
     "output_type": "stream",
     "text": [
      "Kolom ['OnlineSecurity'] berisi unik data : ['No' 'Yes' 'No internet service']\n",
      "Kolom ['OnlineBackup'] berisi unik data : ['No' 'Yes' 'No internet service']\n",
      "Kolom ['DeviceProtection'] berisi unik data : ['Yes' 'No internet service' 'No']\n",
      "Kolom ['TechSupport'] berisi unik data : ['Yes' 'No' 'No internet service']\n"
     ]
    }
   ],
   "source": [
    "#Cek Data Unik di Kolom\n",
    "check = df[['OnlineSecurity', 'OnlineBackup', 'DeviceProtection', 'TechSupport']]\n",
    "for i in check:\n",
    "    print('Kolom', [i], 'berisi unik data :', df[i].unique())"
   ]
  },
  {
   "cell_type": "markdown",
   "metadata": {},
   "source": [
    "#### Insight : \n",
    "\n",
    "Keempat data diatas akan dibuat data yang sama untuk menghilangkan ambiguitas, semua akan diganti menjadi No untuk data No Internet Service"
   ]
  },
  {
   "cell_type": "code",
   "execution_count": 20,
   "metadata": {},
   "outputs": [],
   "source": [
    "for i in check:\n",
    "    df[i].replace('No internet service', 'No', inplace=True)"
   ]
  },
  {
   "cell_type": "code",
   "execution_count": 21,
   "metadata": {},
   "outputs": [
    {
     "name": "stdout",
     "output_type": "stream",
     "text": [
      "Unik data pada kolom OnlineSecurity: ['No' 'Yes']\n",
      "Unik data pada kolom OnlineBackup: ['No' 'Yes']\n",
      "Unik data pada kolom DeviceProtection: ['Yes' 'No']\n",
      "Unik data pada kolom TechSupport: ['Yes' 'No']\n"
     ]
    }
   ],
   "source": [
    "#Cek Ulang\n",
    "for column in check:\n",
    "    unique_values = df[column].unique()\n",
    "    print(f\"Unik data pada kolom {column}: {unique_values}\")"
   ]
  },
  {
   "cell_type": "code",
   "execution_count": 22,
   "metadata": {},
   "outputs": [
    {
     "data": {
      "text/html": [
       "<div>\n",
       "<style scoped>\n",
       "    .dataframe tbody tr th:only-of-type {\n",
       "        vertical-align: middle;\n",
       "    }\n",
       "\n",
       "    .dataframe tbody tr th {\n",
       "        vertical-align: top;\n",
       "    }\n",
       "\n",
       "    .dataframe thead th {\n",
       "        text-align: right;\n",
       "    }\n",
       "</style>\n",
       "<table border=\"1\" class=\"dataframe\">\n",
       "  <thead>\n",
       "    <tr style=\"text-align: right;\">\n",
       "      <th></th>\n",
       "      <th>dataFeatures</th>\n",
       "      <th>dataType</th>\n",
       "      <th>null</th>\n",
       "      <th>nullPct</th>\n",
       "      <th>unique</th>\n",
       "      <th>uniqueSample</th>\n",
       "    </tr>\n",
       "  </thead>\n",
       "  <tbody>\n",
       "    <tr>\n",
       "      <th>0</th>\n",
       "      <td>Dependents</td>\n",
       "      <td>object</td>\n",
       "      <td>0</td>\n",
       "      <td>0.0</td>\n",
       "      <td>2</td>\n",
       "      <td>[No, Yes]</td>\n",
       "    </tr>\n",
       "    <tr>\n",
       "      <th>1</th>\n",
       "      <td>tenure</td>\n",
       "      <td>int64</td>\n",
       "      <td>0</td>\n",
       "      <td>0.0</td>\n",
       "      <td>73</td>\n",
       "      <td>[8, 27]</td>\n",
       "    </tr>\n",
       "    <tr>\n",
       "      <th>2</th>\n",
       "      <td>OnlineSecurity</td>\n",
       "      <td>object</td>\n",
       "      <td>0</td>\n",
       "      <td>0.0</td>\n",
       "      <td>2</td>\n",
       "      <td>[Yes, No]</td>\n",
       "    </tr>\n",
       "    <tr>\n",
       "      <th>3</th>\n",
       "      <td>OnlineBackup</td>\n",
       "      <td>object</td>\n",
       "      <td>0</td>\n",
       "      <td>0.0</td>\n",
       "      <td>2</td>\n",
       "      <td>[No, Yes]</td>\n",
       "    </tr>\n",
       "    <tr>\n",
       "      <th>4</th>\n",
       "      <td>InternetService</td>\n",
       "      <td>object</td>\n",
       "      <td>0</td>\n",
       "      <td>0.0</td>\n",
       "      <td>3</td>\n",
       "      <td>[Fiber optic, DSL]</td>\n",
       "    </tr>\n",
       "    <tr>\n",
       "      <th>5</th>\n",
       "      <td>DeviceProtection</td>\n",
       "      <td>object</td>\n",
       "      <td>0</td>\n",
       "      <td>0.0</td>\n",
       "      <td>2</td>\n",
       "      <td>[Yes, No]</td>\n",
       "    </tr>\n",
       "    <tr>\n",
       "      <th>6</th>\n",
       "      <td>TechSupport</td>\n",
       "      <td>object</td>\n",
       "      <td>0</td>\n",
       "      <td>0.0</td>\n",
       "      <td>2</td>\n",
       "      <td>[Yes, No]</td>\n",
       "    </tr>\n",
       "    <tr>\n",
       "      <th>7</th>\n",
       "      <td>Contract</td>\n",
       "      <td>object</td>\n",
       "      <td>0</td>\n",
       "      <td>0.0</td>\n",
       "      <td>3</td>\n",
       "      <td>[One year, Month-to-month]</td>\n",
       "    </tr>\n",
       "    <tr>\n",
       "      <th>8</th>\n",
       "      <td>PaperlessBilling</td>\n",
       "      <td>object</td>\n",
       "      <td>0</td>\n",
       "      <td>0.0</td>\n",
       "      <td>2</td>\n",
       "      <td>[No, Yes]</td>\n",
       "    </tr>\n",
       "    <tr>\n",
       "      <th>9</th>\n",
       "      <td>MonthlyCharges</td>\n",
       "      <td>float64</td>\n",
       "      <td>0</td>\n",
       "      <td>0.0</td>\n",
       "      <td>1422</td>\n",
       "      <td>[28.5, 88.8]</td>\n",
       "    </tr>\n",
       "    <tr>\n",
       "      <th>10</th>\n",
       "      <td>Churn</td>\n",
       "      <td>object</td>\n",
       "      <td>0</td>\n",
       "      <td>0.0</td>\n",
       "      <td>2</td>\n",
       "      <td>[Yes, No]</td>\n",
       "    </tr>\n",
       "  </tbody>\n",
       "</table>\n",
       "</div>"
      ],
      "text/plain": [
       "        dataFeatures dataType  null  nullPct  unique  \\\n",
       "0         Dependents   object     0      0.0       2   \n",
       "1             tenure    int64     0      0.0      73   \n",
       "2     OnlineSecurity   object     0      0.0       2   \n",
       "3       OnlineBackup   object     0      0.0       2   \n",
       "4    InternetService   object     0      0.0       3   \n",
       "5   DeviceProtection   object     0      0.0       2   \n",
       "6        TechSupport   object     0      0.0       2   \n",
       "7           Contract   object     0      0.0       3   \n",
       "8   PaperlessBilling   object     0      0.0       2   \n",
       "9     MonthlyCharges  float64     0      0.0    1422   \n",
       "10             Churn   object     0      0.0       2   \n",
       "\n",
       "                  uniqueSample  \n",
       "0                    [No, Yes]  \n",
       "1                      [8, 27]  \n",
       "2                    [Yes, No]  \n",
       "3                    [No, Yes]  \n",
       "4           [Fiber optic, DSL]  \n",
       "5                    [Yes, No]  \n",
       "6                    [Yes, No]  \n",
       "7   [One year, Month-to-month]  \n",
       "8                    [No, Yes]  \n",
       "9                 [28.5, 88.8]  \n",
       "10                   [Yes, No]  "
      ]
     },
     "execution_count": 22,
     "metadata": {},
     "output_type": "execute_result"
    }
   ],
   "source": [
    "#gambaran umum isi data\n",
    "listItem = []\n",
    "for col in df.columns :\n",
    "    listItem.append([col, df[col].dtype, df[col].isna().sum(), round((df[col].isna().sum()/len(df[col])) * 100,2),\n",
    "                    df[col].nunique(), list(df[col].drop_duplicates().sample(2).values)]);\n",
    "\n",
    "dfDesc = pd.DataFrame(columns=['dataFeatures', 'dataType', 'null', 'nullPct', 'unique', 'uniqueSample'],\n",
    "                     data=listItem)\n",
    "dfDesc"
   ]
  },
  {
   "cell_type": "code",
   "execution_count": 23,
   "metadata": {},
   "outputs": [
    {
     "name": "stdout",
     "output_type": "stream",
     "text": [
      "Column: Dependents - Unique Values: ['Yes' 'No']\n",
      "Column: tenure - Unique Values: [ 9 14 64 72  3 40 17 11  8 47 18  5  1 48 13 58  7  4 70 34 31 37 15 71\n",
      " 10 43 22 33 69 54 63 55 66 56 32 26 24  2 51 23 49 28 36 45 42  6 61 59\n",
      " 67 65  0 16 52 41 25 62 20 50 30 60 19 35 57 27 44 53 12 46 39 29 38 68\n",
      " 21]\n",
      "Column: OnlineSecurity - Unique Values: ['No' 'Yes']\n",
      "Column: OnlineBackup - Unique Values: ['No' 'Yes']\n",
      "Column: InternetService - Unique Values: ['DSL' 'Fiber optic' 'No']\n",
      "Column: DeviceProtection - Unique Values: ['Yes' 'No']\n",
      "Column: TechSupport - Unique Values: ['Yes' 'No']\n",
      "Column: Contract - Unique Values: ['Month-to-month' 'Two year' 'One year']\n",
      "Column: PaperlessBilling - Unique Values: ['Yes' 'No']\n",
      "Column: MonthlyCharges - Unique Values: [ 72.9   82.65  47.85 ...  58.45  23.65 108.5 ]\n",
      "Column: Churn - Unique Values: ['Yes' 'No']\n"
     ]
    }
   ],
   "source": [
    "# cek data unik di setiap kolom\n",
    "for column in df.columns:\n",
    "    print('Column: {} - Unique Values: {}'.format(column, df[column].unique()))"
   ]
  },
  {
   "cell_type": "code",
   "execution_count": 24,
   "metadata": {},
   "outputs": [
    {
     "name": "stdout",
     "output_type": "stream",
     "text": [
      "Dependents \n",
      "\n",
      "Dependents\n",
      "No     3380\n",
      "Yes    1473\n",
      "Name: count, dtype: int64 \n",
      "\n",
      "tenure \n",
      "\n",
      "tenure\n",
      "1     390\n",
      "72    243\n",
      "2     154\n",
      "3     135\n",
      "71    119\n",
      "     ... \n",
      "28     37\n",
      "36     33\n",
      "38     33\n",
      "44     32\n",
      "0       8\n",
      "Name: count, Length: 73, dtype: int64 \n",
      "\n",
      "OnlineSecurity \n",
      "\n",
      "OnlineSecurity\n",
      "No     3423\n",
      "Yes    1430\n",
      "Name: count, dtype: int64 \n",
      "\n",
      "OnlineBackup \n",
      "\n",
      "OnlineBackup\n",
      "No     3151\n",
      "Yes    1702\n",
      "Name: count, dtype: int64 \n",
      "\n",
      "InternetService \n",
      "\n",
      "InternetService\n",
      "Fiber optic    2154\n",
      "DSL            1696\n",
      "No             1003\n",
      "Name: count, dtype: int64 \n",
      "\n",
      "DeviceProtection \n",
      "\n",
      "DeviceProtection\n",
      "No     3165\n",
      "Yes    1688\n",
      "Name: count, dtype: int64 \n",
      "\n",
      "TechSupport \n",
      "\n",
      "TechSupport\n",
      "No     3445\n",
      "Yes    1408\n",
      "Name: count, dtype: int64 \n",
      "\n",
      "Contract \n",
      "\n",
      "Contract\n",
      "Month-to-month    2665\n",
      "Two year          1143\n",
      "One year          1045\n",
      "Name: count, dtype: int64 \n",
      "\n",
      "PaperlessBilling \n",
      "\n",
      "PaperlessBilling\n",
      "Yes    2925\n",
      "No     1928\n",
      "Name: count, dtype: int64 \n",
      "\n",
      "MonthlyCharges \n",
      "\n",
      "MonthlyCharges\n",
      "20.05     35\n",
      "19.85     32\n",
      "19.95     30\n",
      "19.60     28\n",
      "20.15     27\n",
      "          ..\n",
      "65.05      1\n",
      "111.80     1\n",
      "39.55      1\n",
      "31.65      1\n",
      "108.50     1\n",
      "Name: count, Length: 1422, dtype: int64 \n",
      "\n",
      "Churn \n",
      "\n",
      "Churn\n",
      "No     3565\n",
      "Yes    1288\n",
      "Name: count, dtype: int64 \n",
      "\n"
     ]
    }
   ],
   "source": [
    "for col in df.columns:\n",
    "    print(col, '\\n')\n",
    "    print(df[col].value_counts(), '\\n')"
   ]
  },
  {
   "cell_type": "markdown",
   "metadata": {},
   "source": [
    "* imbalance: Terlihat bahwa ada ketidakseimbangan pada beberapa fitur, seperti \"Dependents\" dan \"OnlineSecurity\". Fitur yang imbalance seperti ini dapat memberikan wawasan tentang perilaku pelanggan dan mungkin memerlukan penanganan khusus dalam model machine learning.\n",
    "* Feature Importance: Fitur-fitur seperti \"Dependents\", \"Tenure\", dan \"OnlineSecurity\" dapat memiliki pengaruh signifikan terhadap prediksi churn dan harus dianalisis lebih lanjut untuk memahami hubungan mereka dengan churn."
   ]
  },
  {
   "cell_type": "markdown",
   "metadata": {},
   "source": [
    "## MISSING VALUES"
   ]
  },
  {
   "cell_type": "code",
   "execution_count": 25,
   "metadata": {},
   "outputs": [
    {
     "data": {
      "text/plain": [
       "Dependents          0\n",
       "tenure              0\n",
       "OnlineSecurity      0\n",
       "OnlineBackup        0\n",
       "InternetService     0\n",
       "DeviceProtection    0\n",
       "TechSupport         0\n",
       "Contract            0\n",
       "PaperlessBilling    0\n",
       "MonthlyCharges      0\n",
       "Churn               0\n",
       "dtype: int64"
      ]
     },
     "execution_count": 25,
     "metadata": {},
     "output_type": "execute_result"
    }
   ],
   "source": [
    "dfClean.isna().sum()"
   ]
  },
  {
   "cell_type": "markdown",
   "metadata": {},
   "source": [
    "\n",
    "karena data missing values null/ data sudah bersih, maka handling missing values akan di skip"
   ]
  },
  {
   "cell_type": "markdown",
   "metadata": {},
   "source": [
    "## DATA CLEANING OUTPUT"
   ]
  },
  {
   "cell_type": "code",
   "execution_count": 26,
   "metadata": {},
   "outputs": [],
   "source": [
    "dfCleaned = pd.DataFrame(dfClean)\n",
    "csv = 'dfCleanedTelcoChurn.csv'\n",
    "dfCleaned.to_csv('dfCleanedTelcoChurn.csv', index=False)"
   ]
  },
  {
   "cell_type": "markdown",
   "metadata": {},
   "source": [
    "## EDA"
   ]
  },
  {
   "cell_type": "markdown",
   "metadata": {},
   "source": [
    "### Distribusi data Churn"
   ]
  },
  {
   "cell_type": "markdown",
   "metadata": {},
   "source": [
    "#### mengecek distribusi data Label (Churn) apakah balance atau imbalance."
   ]
  },
  {
   "cell_type": "code",
   "execution_count": 27,
   "metadata": {},
   "outputs": [
    {
     "data": {
      "text/plain": [
       "Churn\n",
       "No     3565\n",
       "Yes    1288\n",
       "Name: count, dtype: int64"
      ]
     },
     "execution_count": 27,
     "metadata": {},
     "output_type": "execute_result"
    }
   ],
   "source": [
    "\n",
    "df['Churn'].value_counts()"
   ]
  },
  {
   "cell_type": "markdown",
   "metadata": {},
   "source": [
    "### Visualisasi data Label Churn"
   ]
  },
  {
   "cell_type": "code",
   "execution_count": 28,
   "metadata": {},
   "outputs": [
    {
     "data": {
      "image/png": "[encoded data removed]",
      "text/plain": [
       "<Figure size 640x480 with 1 Axes>"
      ]
     },
     "metadata": {},
     "output_type": "display_data"
    }
   ],
   "source": [
    "#menampilkan visualisasi distribusi Label agar lebih mudah dilihat\n",
    "\n",
    "plt.pie(df.Churn.value_counts(),\n",
    "\t\tlabels=df.Churn.value_counts().index,\n",
    "\t\tautopct='%.1f%%',\n",
    "        colors=['lightblue', 'salmon'])\n",
    "plt.show()"
   ]
  },
  {
   "cell_type": "markdown",
   "metadata": {},
   "source": [
    "Yes : pelanggan tidak lagi menggunakan produk layanan <br>No  : pelanggan tetap menggunakan produk layanan \n",
    "\n",
    "Dari pie chart di atas dapat saya lihat bahwa dataset berisi `Imbalance` antara data Churn dan Non-Churn. Data Non-Churn lebih banyak hampir 3 kali lipat dibandingkan data Churn. "
   ]
  },
  {
   "cell_type": "markdown",
   "metadata": {},
   "source": [
    "## CATEGORICAL ANALYTIC"
   ]
  },
  {
   "cell_type": "code",
   "execution_count": 29,
   "metadata": {},
   "outputs": [
    {
     "data": {
      "image/png": "[encoded data removed]",
      "text/plain": [
       "<Figure size 1000x1000 with 8 Axes>"
      ]
     },
     "metadata": {},
     "output_type": "display_data"
    }
   ],
   "source": [
    "df_categories = df.select_dtypes(include='object').columns\n",
    "bar_color = ['teal', 'cyan', 'skyblue']\n",
    "visual_categories =plt.figure(figsize=(10,10))\n",
    "for i in range(8):\n",
    "    visual_categories.add_subplot(2,4,i+1)\n",
    "    df[df_categories[i]].value_counts(normalize=True).plot(kind='bar', color = bar_color)\n",
    "plt.subplots_adjust(left=3,right=5,top=3,bottom=2,wspace = 0.4,hspace = 0.4)"
   ]
  },
  {
   "cell_type": "markdown",
   "metadata": {},
   "source": [
    "### INSIGHT GRAFIK\n",
    "Kumpulan grafik di atas bertujuan untuk menunjukkan gambaran pelanggan secara keseluruhan berdasarkan informasi akun maupun fasilitas layanan yang digunakan. <br>\n",
    "\n",
    "keterangan dari visualisasi di atas, sebagai berikut:\n",
    "\n",
    "> 1. Mayoritas pelanggan tidak memiliki tanggungan.\n",
    "> 2. Mayoritas pelanggan melakukan *subsription* dengan paket per bulan, sangat signifikan bedanya dengan paket Satu Tahun maupun Dua Tahun.\n",
    "> 3. Mayoritas pelanggan menggunakan Paperless Billing atau tagihan daring.\n",
    "> 4. Layanan internet dengan Fiber Optic adalah yang paling diminati, tetapi tidak jauh signifikan bedanya dengan DSL.\n",
    "> 5. Mayoritas pelanggan tidak memanfaatkan fasilitas layanan Online Security, Online Back Up, Device Protection, dan Tech Support."
   ]
  },
  {
   "cell_type": "code",
   "execution_count": 30,
   "metadata": {},
   "outputs": [
    {
     "data": {
      "image/png": "[encoded data removed]",
      "text/plain": [
       "<Figure size 2000x2000 with 8 Axes>"
      ]
     },
     "metadata": {},
     "output_type": "display_data"
    }
   ],
   "source": [
    "count = 0\n",
    "fig = plt.figure(figsize=(20,20))\n",
    "\n",
    "for i in df.drop(columns=['Churn', 'tenure', 'MonthlyCharges']).columns:\n",
    "    count +=1\n",
    "    ax= plt.subplot(4,2,count)\n",
    "    pd.crosstab(df[i],df['Churn'],normalize=0).plot(kind='bar',stacked=True,ax=ax, color = ['lightblue', 'salmon'])\n",
    "    fig.tight_layout()\n",
    "\n",
    "plt.show()"
   ]
  },
  {
   "cell_type": "markdown",
   "metadata": {},
   "source": [
    "### INSIGHT KATEGORIK X CHURN \n",
    "Kumpulan grafik di atas bertujuan untuk menunjukkan gambaran pelanggan yang sudah dikaitkan dengan `Churn` maupun `Non-Churn`. <br>\n",
    "\n",
    "***`Key Takeaways`*** dari visualisasi di atas, sebagai berikut:\n",
    "\n",
    "> 1. Menariknya, pelanggan yang tidak memiliki tanggungan justru Churn lebih banyak daripada yang memiliki tanggungan.\n",
    "> 1. Pelanggan yang menggunakan layanan internet dengan Fiber Optic lebih banyak yang Churn daripada yang menggunakan DSL maupun yang tidak menggunakan layanan internet sama sekali. \n",
    "> 1. Pelanggan dengan paket bulanan *(month-to-month)* signifikan Churn lebih banyak dibandingkan paket tahunan maupun paket 2 tahun. \n",
    "> 1. Pelanggan yang menggunakan Paperless Billing lebih banyak yang Churn daripada yang non-Paperless Billing.\n",
    "> 1. Pelanggan yang tidak menggunakan fasilitas layanan Online Security, Online Back Up, Device Protection, dan Tech Support lebih banyak yang Churn dibandingkan dengan pelanggan yang menggunakan layanan tersebut."
   ]
  },
  {
   "cell_type": "code",
   "execution_count": 31,
   "metadata": {},
   "outputs": [
    {
     "name": "stdout",
     "output_type": "stream",
     "text": [
      "Total tagihan semua pelanggan : $ 317005.45\n",
      "Total tagihan pelanggan yang Churn : $ 96532\n",
      "Proporsi total tagihan pelanggan yang Churn dari seluruh pelanggan : 30.45 %\n"
     ]
    }
   ],
   "source": [
    "print('Total tagihan semua pelanggan : $', (df['MonthlyCharges'].sum()))\n",
    "print('Total tagihan pelanggan yang Churn : $', round(df[df['Churn'] == 'Yes']['MonthlyCharges'].sum()))\n",
    "print('Proporsi total tagihan pelanggan yang Churn dari seluruh pelanggan :', round((df[df['Churn'] == 'Yes']['MonthlyCharges'].sum())/(df['MonthlyCharges'].sum())*100, 2), '%')"
   ]
  },
  {
   "cell_type": "markdown",
   "metadata": {},
   "source": [
    "## NUMERICAL ANALYTIC"
   ]
  },
  {
   "cell_type": "markdown",
   "metadata": {},
   "source": [
    "### NORMALITY TEST"
   ]
  },
  {
   "cell_type": "code",
   "execution_count": 32,
   "metadata": {},
   "outputs": [
    {
     "name": "stdout",
     "output_type": "stream",
     "text": [
      "Shapiro-Wilk Test:\n",
      "Statistic: 0.9047639966011047 p-value: 0.0\n",
      "Tidak berdistribusi normal (reject H0)\n"
     ]
    }
   ],
   "source": [
    "shapiro_test = shapiro(dfCleaned['tenure'])\n",
    "print(\"Shapiro-Wilk Test:\")\n",
    "print(\"Statistic:\", shapiro_test[0], \"p-value:\", shapiro_test[1])\n",
    "\n",
    "# Interpret the p-value\n",
    "alpha = 0.05\n",
    "if shapiro_test[1] > alpha:\n",
    "    print('Distribusi normal(fail to reject H0)')\n",
    "else:\n",
    "    print('Tidak berdistribusi normal (reject H0)')"
   ]
  },
  {
   "cell_type": "code",
   "execution_count": 33,
   "metadata": {},
   "outputs": [
    {
     "name": "stdout",
     "output_type": "stream",
     "text": [
      "Shapiro-Wilk Test:\n",
      "Statistic: 0.9230438470840454 p-value: 1.1210387714598537e-44\n",
      "Tidak berdistribusi normal (reject H0)\n"
     ]
    }
   ],
   "source": [
    "shapiro_test = shapiro(dfCleaned['MonthlyCharges'])\n",
    "print(\"Shapiro-Wilk Test:\")\n",
    "print(\"Statistic:\", shapiro_test[0], \"p-value:\", shapiro_test[1])\n",
    "\n",
    "# Interpret the p-value\n",
    "alpha = 0.05\n",
    "if shapiro_test[1] > alpha:\n",
    "    print('Distribusi normal(fail to reject H0)')\n",
    "else:\n",
    "    print('Tidak berdistribusi normal (reject H0)')"
   ]
  },
  {
   "cell_type": "markdown",
   "metadata": {},
   "source": [
    "### Hasil Normality Test\n",
    "Dengan demikian, kedua variabel tersebut tidak memiliki distribusi normal berdasarkan hasil pengujian Shapiro-Wilk."
   ]
  },
  {
   "cell_type": "code",
   "execution_count": 34,
   "metadata": {},
   "outputs": [
    {
     "data": {
      "image/png": "[encoded data removed]",
      "text/plain": [
       "<Figure size 2000x2000 with 2 Axes>"
      ]
     },
     "metadata": {},
     "output_type": "display_data"
    }
   ],
   "source": [
    "fig = plt.figure(figsize=(20,20)) # horizontal, vertikal\n",
    "\n",
    "count = 0\n",
    "for kolom in numerik.columns:\n",
    "    count += 1\n",
    "    plt.subplot(5,2,count)\n",
    "    sns.boxplot(numerik, x = kolom)\n",
    "    fig.tight_layout() # biar tidak tertumpuk\n",
    "    plt.title(f'{kolom}')\n",
    "plt.show()"
   ]
  },
  {
   "cell_type": "code",
   "execution_count": 35,
   "metadata": {},
   "outputs": [
    {
     "data": {
      "image/png": "[encoded data removed]",
      "text/plain": [
       "<Figure size 1500x800 with 4 Axes>"
      ]
     },
     "metadata": {},
     "output_type": "display_data"
    }
   ],
   "source": [
    "plt.figure(figsize=(15,8))\n",
    "\n",
    "plt.subplot(221)\n",
    "sns.histplot(data=df,x='tenure',hue='Churn', kde=True, palette='deep')\n",
    "plt.title('Tenure Histogram',fontsize=14)\n",
    "\n",
    "plt.subplot(222)\n",
    "sns.histplot(data=df,x='MonthlyCharges',hue='Churn',kde=True, palette='deep')\n",
    "plt.title('Monthly Charges Histogram',fontsize=14)\n",
    "\n",
    "plt.subplot(223)\n",
    "sns.boxplot(data=df,y='tenure', x='Churn', palette='Set2')\n",
    "\n",
    "plt.subplot(224)\n",
    "sns.boxplot(data=df,y='MonthlyCharges', x='Churn', palette='Set2')\n",
    "plt.show()"
   ]
  },
  {
   "cell_type": "code",
   "execution_count": 36,
   "metadata": {},
   "outputs": [
    {
     "data": {
      "text/plain": [
       "Index(['tenure', 'MonthlyCharges'], dtype='object')"
      ]
     },
     "execution_count": 36,
     "metadata": {},
     "output_type": "execute_result"
    }
   ],
   "source": [
    "numeric = df.select_dtypes(include='number')\n",
    "numeric.columns"
   ]
  },
  {
   "cell_type": "markdown",
   "metadata": {},
   "source": [
    "## CORELLATION"
   ]
  },
  {
   "cell_type": "markdown",
   "metadata": {},
   "source": [
    "#### NUMERIK"
   ]
  },
  {
   "cell_type": "code",
   "execution_count": 37,
   "metadata": {},
   "outputs": [
    {
     "data": {
      "text/html": [
       "<div>\n",
       "<style scoped>\n",
       "    .dataframe tbody tr th:only-of-type {\n",
       "        vertical-align: middle;\n",
       "    }\n",
       "\n",
       "    .dataframe tbody tr th {\n",
       "        vertical-align: top;\n",
       "    }\n",
       "\n",
       "    .dataframe thead th {\n",
       "        text-align: right;\n",
       "    }\n",
       "</style>\n",
       "<table border=\"1\" class=\"dataframe\">\n",
       "  <thead>\n",
       "    <tr style=\"text-align: right;\">\n",
       "      <th></th>\n",
       "      <th>tenure</th>\n",
       "      <th>MonthlyCharges</th>\n",
       "    </tr>\n",
       "  </thead>\n",
       "  <tbody>\n",
       "    <tr>\n",
       "      <th>tenure</th>\n",
       "      <td>1.00000</td>\n",
       "      <td>0.25922</td>\n",
       "    </tr>\n",
       "    <tr>\n",
       "      <th>MonthlyCharges</th>\n",
       "      <td>0.25922</td>\n",
       "      <td>1.00000</td>\n",
       "    </tr>\n",
       "  </tbody>\n",
       "</table>\n",
       "</div>"
      ],
      "text/plain": [
       "                 tenure  MonthlyCharges\n",
       "tenure          1.00000         0.25922\n",
       "MonthlyCharges  0.25922         1.00000"
      ]
     },
     "execution_count": 37,
     "metadata": {},
     "output_type": "execute_result"
    }
   ],
   "source": [
    "numeric.corr(method='spearman')"
   ]
  },
  {
   "cell_type": "code",
   "execution_count": 38,
   "metadata": {},
   "outputs": [
    {
     "data": {
      "image/png": "[encoded data removed]",
      "text/plain": [
       "<Figure size 640x480 with 2 Axes>"
      ]
     },
     "metadata": {},
     "output_type": "display_data"
    },
    {
     "data": {
      "text/plain": [
       "<Figure size 2000x2000 with 0 Axes>"
      ]
     },
     "metadata": {},
     "output_type": "display_data"
    }
   ],
   "source": [
    "# Membuat heatmap dengan subset variabel\n",
    "heatmap = sns.heatmap(numeric.corr(method='spearman'), cmap=\"RdYlGn\", annot=True, annot_kws={\"fontsize\": 8})\n",
    "\n",
    "# Mengatur ukuran plot\n",
    "plt.figure(figsize=(20, 20))\n",
    "\n",
    "# Menyesuaikan layout\n",
    "plt.tight_layout()\n",
    "\n",
    "# Menampilkan plot\n",
    "plt.show()"
   ]
  },
  {
   "cell_type": "markdown",
   "metadata": {},
   "source": [
    "### INSIGHT CORRELATION\n",
    "Masa berlangganan (tenure) dan biaya bulanan (MonthlyCharges) memiliki sedikit hubungan positif, tetapi pengaruhnya tidak signifikan. Faktor lain mungkin lebih dominan dalam menentukan biaya bulanan yang dibayar oleh pelanggan atau masa berlangganan mereka.\n",
    "\n",
    "Meskipun korelasi ini lemah, informasi ini masih bisa berguna dalam konteks analisis prediktif.\n",
    "Namun, sebaiknya menggunakan variabel tambahan dan metode analisis lain untuk mendapatkan gambaran yang lebih komprehensif mengenai faktor-faktor yang mempengaruhi churn pelanggan."
   ]
  },
  {
   "cell_type": "markdown",
   "metadata": {},
   "source": [
    "## CORRELATION NUMERIK X CHURN "
   ]
  },
  {
   "cell_type": "code",
   "execution_count": 39,
   "metadata": {},
   "outputs": [
    {
     "name": "stdout",
     "output_type": "stream",
     "text": [
      "tenure vs Churn:\n",
      "Correlation: -0.3754 | P-value: 3.242e-162 (significant)\n",
      "\n",
      "MonthlyCharges vs Churn:\n",
      "Correlation: 0.1858 | P-value: 5.836e-39 (significant)\n",
      "\n"
     ]
    }
   ],
   "source": [
    "intColumns = ['tenure','MonthlyCharges']\n",
    "\n",
    "for col in intColumns:\n",
    "    corr, p_value = spearmanr(df[col], df['Churn'])\n",
    "\n",
    "    if p_value < 0.05:\n",
    "        print(f\"{col} vs Churn:\\nCorrelation: {corr:.4f} | P-value: {p_value:.4g} (significant)\\n\")\n",
    "    else:\n",
    "        print(f\"{col} vs Churn:\\nCorrelation: {corr:.4f} | P-value: {p_value:.4g} (not significant)\\n\")"
   ]
  },
  {
   "cell_type": "markdown",
   "metadata": {},
   "source": [
    "* Tenure: Ada hubungan negatif yang signifikan antara lama berlangganan dan churn. Semakin lama seorang pelanggan telah berlangganan, semakin kecil kemungkinan mereka untuk berhenti berlangganan.\n",
    "* MonthlyCharges: Tidak ada bukti statistik yang kuat untuk hubungan yang signifikan antara biaya bulanan dan churn. Artinya, berdasarkan data ini, biaya bulanan tidak secara signifikan mempengaruhi keputusan pelanggan untuk berhenti berlangganan."
   ]
  },
  {
   "cell_type": "markdown",
   "metadata": {},
   "source": [
    "#### KATEGORIK"
   ]
  },
  {
   "cell_type": "code",
   "execution_count": 40,
   "metadata": {},
   "outputs": [
    {
     "data": {
      "text/html": [
       "<div>\n",
       "<style scoped>\n",
       "    .dataframe tbody tr th:only-of-type {\n",
       "        vertical-align: middle;\n",
       "    }\n",
       "\n",
       "    .dataframe tbody tr th {\n",
       "        vertical-align: top;\n",
       "    }\n",
       "\n",
       "    .dataframe thead th {\n",
       "        text-align: right;\n",
       "    }\n",
       "</style>\n",
       "<table border=\"1\" class=\"dataframe\">\n",
       "  <thead>\n",
       "    <tr style=\"text-align: right;\">\n",
       "      <th></th>\n",
       "      <th>Dependents</th>\n",
       "      <th>OnlineSecurity</th>\n",
       "      <th>OnlineBackup</th>\n",
       "      <th>InternetService</th>\n",
       "      <th>DeviceProtection</th>\n",
       "      <th>TechSupport</th>\n",
       "      <th>Contract</th>\n",
       "      <th>PaperlessBilling</th>\n",
       "      <th>Churn</th>\n",
       "    </tr>\n",
       "  </thead>\n",
       "  <tbody>\n",
       "    <tr>\n",
       "      <th>0</th>\n",
       "      <td>Yes</td>\n",
       "      <td>No</td>\n",
       "      <td>No</td>\n",
       "      <td>DSL</td>\n",
       "      <td>Yes</td>\n",
       "      <td>Yes</td>\n",
       "      <td>Month-to-month</td>\n",
       "      <td>Yes</td>\n",
       "      <td>Yes</td>\n",
       "    </tr>\n",
       "    <tr>\n",
       "      <th>1</th>\n",
       "      <td>No</td>\n",
       "      <td>No</td>\n",
       "      <td>Yes</td>\n",
       "      <td>Fiber optic</td>\n",
       "      <td>Yes</td>\n",
       "      <td>No</td>\n",
       "      <td>Month-to-month</td>\n",
       "      <td>Yes</td>\n",
       "      <td>No</td>\n",
       "    </tr>\n",
       "    <tr>\n",
       "      <th>2</th>\n",
       "      <td>No</td>\n",
       "      <td>Yes</td>\n",
       "      <td>No</td>\n",
       "      <td>DSL</td>\n",
       "      <td>Yes</td>\n",
       "      <td>Yes</td>\n",
       "      <td>Two year</td>\n",
       "      <td>No</td>\n",
       "      <td>Yes</td>\n",
       "    </tr>\n",
       "    <tr>\n",
       "      <th>3</th>\n",
       "      <td>No</td>\n",
       "      <td>Yes</td>\n",
       "      <td>Yes</td>\n",
       "      <td>DSL</td>\n",
       "      <td>Yes</td>\n",
       "      <td>Yes</td>\n",
       "      <td>Two year</td>\n",
       "      <td>No</td>\n",
       "      <td>No</td>\n",
       "    </tr>\n",
       "    <tr>\n",
       "      <th>4</th>\n",
       "      <td>No</td>\n",
       "      <td>No</td>\n",
       "      <td>No</td>\n",
       "      <td>No</td>\n",
       "      <td>No</td>\n",
       "      <td>No</td>\n",
       "      <td>Month-to-month</td>\n",
       "      <td>Yes</td>\n",
       "      <td>No</td>\n",
       "    </tr>\n",
       "    <tr>\n",
       "      <th>...</th>\n",
       "      <td>...</td>\n",
       "      <td>...</td>\n",
       "      <td>...</td>\n",
       "      <td>...</td>\n",
       "      <td>...</td>\n",
       "      <td>...</td>\n",
       "      <td>...</td>\n",
       "      <td>...</td>\n",
       "      <td>...</td>\n",
       "    </tr>\n",
       "    <tr>\n",
       "      <th>4925</th>\n",
       "      <td>No</td>\n",
       "      <td>No</td>\n",
       "      <td>No</td>\n",
       "      <td>Fiber optic</td>\n",
       "      <td>Yes</td>\n",
       "      <td>Yes</td>\n",
       "      <td>Month-to-month</td>\n",
       "      <td>Yes</td>\n",
       "      <td>No</td>\n",
       "    </tr>\n",
       "    <tr>\n",
       "      <th>4926</th>\n",
       "      <td>Yes</td>\n",
       "      <td>No</td>\n",
       "      <td>No</td>\n",
       "      <td>Fiber optic</td>\n",
       "      <td>Yes</td>\n",
       "      <td>Yes</td>\n",
       "      <td>Month-to-month</td>\n",
       "      <td>Yes</td>\n",
       "      <td>No</td>\n",
       "    </tr>\n",
       "    <tr>\n",
       "      <th>4927</th>\n",
       "      <td>No</td>\n",
       "      <td>No</td>\n",
       "      <td>No</td>\n",
       "      <td>No</td>\n",
       "      <td>No</td>\n",
       "      <td>No</td>\n",
       "      <td>Two year</td>\n",
       "      <td>No</td>\n",
       "      <td>No</td>\n",
       "    </tr>\n",
       "    <tr>\n",
       "      <th>4928</th>\n",
       "      <td>No</td>\n",
       "      <td>No</td>\n",
       "      <td>No</td>\n",
       "      <td>Fiber optic</td>\n",
       "      <td>No</td>\n",
       "      <td>No</td>\n",
       "      <td>Month-to-month</td>\n",
       "      <td>Yes</td>\n",
       "      <td>Yes</td>\n",
       "    </tr>\n",
       "    <tr>\n",
       "      <th>4929</th>\n",
       "      <td>Yes</td>\n",
       "      <td>No</td>\n",
       "      <td>No</td>\n",
       "      <td>No</td>\n",
       "      <td>No</td>\n",
       "      <td>No</td>\n",
       "      <td>Month-to-month</td>\n",
       "      <td>No</td>\n",
       "      <td>No</td>\n",
       "    </tr>\n",
       "  </tbody>\n",
       "</table>\n",
       "<p>4853 rows × 9 columns</p>\n",
       "</div>"
      ],
      "text/plain": [
       "     Dependents OnlineSecurity OnlineBackup InternetService DeviceProtection  \\\n",
       "0           Yes             No           No             DSL              Yes   \n",
       "1            No             No          Yes     Fiber optic              Yes   \n",
       "2            No            Yes           No             DSL              Yes   \n",
       "3            No            Yes          Yes             DSL              Yes   \n",
       "4            No             No           No              No               No   \n",
       "...         ...            ...          ...             ...              ...   \n",
       "4925         No             No           No     Fiber optic              Yes   \n",
       "4926        Yes             No           No     Fiber optic              Yes   \n",
       "4927         No             No           No              No               No   \n",
       "4928         No             No           No     Fiber optic               No   \n",
       "4929        Yes             No           No              No               No   \n",
       "\n",
       "     TechSupport        Contract PaperlessBilling Churn  \n",
       "0            Yes  Month-to-month              Yes   Yes  \n",
       "1             No  Month-to-month              Yes    No  \n",
       "2            Yes        Two year               No   Yes  \n",
       "3            Yes        Two year               No    No  \n",
       "4             No  Month-to-month              Yes    No  \n",
       "...          ...             ...              ...   ...  \n",
       "4925         Yes  Month-to-month              Yes    No  \n",
       "4926         Yes  Month-to-month              Yes    No  \n",
       "4927          No        Two year               No    No  \n",
       "4928          No  Month-to-month              Yes   Yes  \n",
       "4929          No  Month-to-month               No    No  \n",
       "\n",
       "[4853 rows x 9 columns]"
      ]
     },
     "execution_count": 40,
     "metadata": {},
     "output_type": "execute_result"
    }
   ],
   "source": [
    "kategorik = df.select_dtypes(exclude='number')\n",
    "kategorik"
   ]
  },
  {
   "cell_type": "code",
   "execution_count": 41,
   "metadata": {},
   "outputs": [
    {
     "data": {
      "text/html": [
       "<div>\n",
       "<style scoped>\n",
       "    .dataframe tbody tr th:only-of-type {\n",
       "        vertical-align: middle;\n",
       "    }\n",
       "\n",
       "    .dataframe tbody tr th {\n",
       "        vertical-align: top;\n",
       "    }\n",
       "\n",
       "    .dataframe thead th {\n",
       "        text-align: right;\n",
       "    }\n",
       "</style>\n",
       "<table border=\"1\" class=\"dataframe\">\n",
       "  <thead>\n",
       "    <tr style=\"text-align: right;\">\n",
       "      <th></th>\n",
       "      <th>Dependents</th>\n",
       "      <th>OnlineSecurity</th>\n",
       "      <th>OnlineBackup</th>\n",
       "      <th>InternetService</th>\n",
       "      <th>DeviceProtection</th>\n",
       "      <th>TechSupport</th>\n",
       "      <th>Contract</th>\n",
       "      <th>PaperlessBilling</th>\n",
       "      <th>Churn</th>\n",
       "    </tr>\n",
       "  </thead>\n",
       "  <tbody>\n",
       "    <tr>\n",
       "      <th>count</th>\n",
       "      <td>4853</td>\n",
       "      <td>4853</td>\n",
       "      <td>4853</td>\n",
       "      <td>4853</td>\n",
       "      <td>4853</td>\n",
       "      <td>4853</td>\n",
       "      <td>4853</td>\n",
       "      <td>4853</td>\n",
       "      <td>4853</td>\n",
       "    </tr>\n",
       "    <tr>\n",
       "      <th>unique</th>\n",
       "      <td>2</td>\n",
       "      <td>2</td>\n",
       "      <td>2</td>\n",
       "      <td>3</td>\n",
       "      <td>2</td>\n",
       "      <td>2</td>\n",
       "      <td>3</td>\n",
       "      <td>2</td>\n",
       "      <td>2</td>\n",
       "    </tr>\n",
       "    <tr>\n",
       "      <th>top</th>\n",
       "      <td>No</td>\n",
       "      <td>No</td>\n",
       "      <td>No</td>\n",
       "      <td>Fiber optic</td>\n",
       "      <td>No</td>\n",
       "      <td>No</td>\n",
       "      <td>Month-to-month</td>\n",
       "      <td>Yes</td>\n",
       "      <td>No</td>\n",
       "    </tr>\n",
       "    <tr>\n",
       "      <th>freq</th>\n",
       "      <td>3380</td>\n",
       "      <td>3423</td>\n",
       "      <td>3151</td>\n",
       "      <td>2154</td>\n",
       "      <td>3165</td>\n",
       "      <td>3445</td>\n",
       "      <td>2665</td>\n",
       "      <td>2925</td>\n",
       "      <td>3565</td>\n",
       "    </tr>\n",
       "  </tbody>\n",
       "</table>\n",
       "</div>"
      ],
      "text/plain": [
       "       Dependents OnlineSecurity OnlineBackup InternetService  \\\n",
       "count        4853           4853         4853            4853   \n",
       "unique          2              2            2               3   \n",
       "top            No             No           No     Fiber optic   \n",
       "freq         3380           3423         3151            2154   \n",
       "\n",
       "       DeviceProtection TechSupport        Contract PaperlessBilling Churn  \n",
       "count              4853        4853            4853             4853  4853  \n",
       "unique                2           2               3                2     2  \n",
       "top                  No          No  Month-to-month              Yes    No  \n",
       "freq               3165        3445            2665             2925  3565  "
      ]
     },
     "execution_count": 41,
     "metadata": {},
     "output_type": "execute_result"
    }
   ],
   "source": [
    "df.describe(include = 'object')"
   ]
  },
  {
   "cell_type": "code",
   "execution_count": 42,
   "metadata": {},
   "outputs": [
    {
     "name": "stdout",
     "output_type": "stream",
     "text": [
      "Chi-squared Test for Dependents and Churn:\n",
      "Chi-squared Statistic: 143.44393137712828, p-value: 4.700764059756703e-33\n"
     ]
    }
   ],
   "source": [
    "table_Dependents = pd.crosstab(dfCleaned['Dependents'], dfCleaned['Churn'])\n",
    "\n",
    "chi2_Dependents, p_Dependents, dof_Dependents, expected_Dependents = chi2_contingency(table_Dependents)\n",
    "\n",
    "print(f\"Chi-squared Test for Dependents and Churn:\")\n",
    "print(f\"Chi-squared Statistic: {chi2_Dependents}, p-value: {p_Dependents}\")"
   ]
  },
  {
   "cell_type": "code",
   "execution_count": 43,
   "metadata": {},
   "outputs": [
    {
     "name": "stdout",
     "output_type": "stream",
     "text": [
      "Chi-squared Test for OnlineSecurity and Churn:\n",
      "Chi-squared Statistic: 580.8298989913555, p-value: 7.488416160089868e-127\n"
     ]
    }
   ],
   "source": [
    "table_OnlineSecurity = pd.crosstab(dfCleaned['OnlineSecurity'], dfCleaned['Churn'])\n",
    "\n",
    "chi2_OnlineSecurity, p_OnlineSecurity, dof_OnlineSecurity, expected_OnlineSecurity = chi2_contingency(table_OnlineSecurity)\n",
    "\n",
    "print(f\"Chi-squared Test for OnlineSecurity and Churn:\")\n",
    "print(f\"Chi-squared Statistic: {chi2_OnlineSecurity}, p-value: {p_OnlineSecurity}\")"
   ]
  },
  {
   "cell_type": "code",
   "execution_count": 44,
   "metadata": {},
   "outputs": [
    {
     "name": "stdout",
     "output_type": "stream",
     "text": [
      "Chi-squared Test for OnlineBackup and Churn:\n",
      "Chi-squared Statistic: 445.10487868069816, p-value: 2.2217933388488885e-97\n"
     ]
    }
   ],
   "source": [
    "table_OnlineBackup = pd.crosstab(dfCleaned['OnlineBackup'], dfCleaned['Churn'])\n",
    "\n",
    "chi2_OnlineBackup, p_OnlineBackup, dof_OnlineBackup, expected_OnlineBackup = chi2_contingency(table_OnlineBackup)\n",
    "\n",
    "print(f\"Chi-squared Test for OnlineBackup and Churn:\")\n",
    "print(f\"Chi-squared Statistic: {chi2_OnlineBackup}, p-value: {p_OnlineBackup}\")"
   ]
  },
  {
   "cell_type": "code",
   "execution_count": 45,
   "metadata": {},
   "outputs": [
    {
     "name": "stdout",
     "output_type": "stream",
     "text": [
      "Chi-squared Test for InternetService and Churn:\n",
      "Chi-squared Statistic: 514.5273979936314, p-value: 1.869799897614106e-112\n"
     ]
    }
   ],
   "source": [
    "table_InternetService = pd.crosstab(dfCleaned['InternetService'], dfCleaned['Churn'])\n",
    "\n",
    "chi2_InternetService, p_InternetService, dof_InternetService, expected_InternetService = chi2_contingency(table_InternetService)\n",
    "\n",
    "print(f\"Chi-squared Test for InternetService and Churn:\")\n",
    "print(f\"Chi-squared Statistic: {chi2_InternetService}, p-value: {p_InternetService}\")"
   ]
  },
  {
   "cell_type": "code",
   "execution_count": 46,
   "metadata": {},
   "outputs": [
    {
     "name": "stdout",
     "output_type": "stream",
     "text": [
      "Chi-squared Test for DeviceProtection and Churn:\n",
      "Chi-squared Statistic: 373.5070738846257, p-value: 7.833744991432085e-82\n"
     ]
    }
   ],
   "source": [
    "table_DeviceProtection = pd.crosstab(dfCleaned['DeviceProtection'], dfCleaned['Churn'])\n",
    "\n",
    "chi2_DeviceProtection, p_DeviceProtection, dof_DeviceProtection, expected_DeviceProtection = chi2_contingency(table_DeviceProtection)\n",
    "\n",
    "print(f\"Chi-squared Test for DeviceProtection and Churn:\")\n",
    "print(f\"Chi-squared Statistic: {chi2_DeviceProtection}, p-value: {p_DeviceProtection}\")"
   ]
  },
  {
   "cell_type": "code",
   "execution_count": 47,
   "metadata": {},
   "outputs": [
    {
     "name": "stdout",
     "output_type": "stream",
     "text": [
      "Chi-squared Test for DeviceProtetion and Churn:\n",
      "Chi-squared Statistic: 373.5070738846257, p-value: 7.833744991432085e-82\n"
     ]
    }
   ],
   "source": [
    "table_Dependents = pd.crosstab(dfCleaned['DeviceProtection'], dfCleaned['Churn'])\n",
    "\n",
    "chi2_Dependents, p_Dependents, dof_Dependents, expected_Dependents = chi2_contingency(table_Dependents)\n",
    "\n",
    "print(f\"Chi-squared Test for DeviceProtetion and Churn:\")\n",
    "print(f\"Chi-squared Statistic: {chi2_Dependents}, p-value: {p_Dependents}\")"
   ]
  },
  {
   "cell_type": "code",
   "execution_count": 48,
   "metadata": {},
   "outputs": [
    {
     "name": "stdout",
     "output_type": "stream",
     "text": [
      "Chi-squared Test for TechSupport and Churn:\n",
      "Chi-squared Statistic: 558.4865447806891, p-value: 5.323382741389981e-122\n"
     ]
    }
   ],
   "source": [
    "table_TechSupport = pd.crosstab(dfCleaned['TechSupport'], dfCleaned['Churn'])\n",
    "\n",
    "chi2_TechSupport, p_TechSupport, dof_TechSupport, expected_TechSupport = chi2_contingency(table_TechSupport)\n",
    "\n",
    "print(f\"Chi-squared Test for TechSupport and Churn:\")\n",
    "print(f\"Chi-squared Statistic: {chi2_TechSupport}, p-value: {p_TechSupport}\")"
   ]
  },
  {
   "cell_type": "code",
   "execution_count": 49,
   "metadata": {},
   "outputs": [
    {
     "name": "stdout",
     "output_type": "stream",
     "text": [
      "Chi-squared Test for Contract and Churn:\n",
      "Chi-squared Statistic: 870.1215110056557, p-value: 1.136356479041739e-189\n"
     ]
    }
   ],
   "source": [
    "table_Contract = pd.crosstab(dfCleaned['Contract'], dfCleaned['Churn'])\n",
    "\n",
    "chi2_Contract, p_Contract, dof_Contract, expected_Contract = chi2_contingency(table_Contract)\n",
    "\n",
    "print(f\"Chi-squared Test for Contract and Churn:\")\n",
    "print(f\"Chi-squared Statistic: {chi2_Contract}, p-value: {p_Contract}\")"
   ]
  },
  {
   "cell_type": "code",
   "execution_count": 50,
   "metadata": {},
   "outputs": [
    {
     "name": "stdout",
     "output_type": "stream",
     "text": [
      "Chi-squared Test for PaperlessBilling and Churn:\n",
      "Chi-squared Statistic: 174.75576748581793, p-value: 6.769256783282015e-40\n"
     ]
    }
   ],
   "source": [
    "table_PaperlessBilling = pd.crosstab(dfCleaned['PaperlessBilling'], dfCleaned['Churn'])\n",
    "\n",
    "chi2_PaperlessBilling, p_PaperlessBilling, dof_PaperlessBilling, expected_PaperlessBilling = chi2_contingency(table_PaperlessBilling)\n",
    "\n",
    "print(f\"Chi-squared Test for PaperlessBilling and Churn:\")\n",
    "print(f\"Chi-squared Statistic: {chi2_PaperlessBilling}, p-value: {p_PaperlessBilling}\")"
   ]
  },
  {
   "cell_type": "code",
   "execution_count": 51,
   "metadata": {},
   "outputs": [
    {
     "name": "stdout",
     "output_type": "stream",
     "text": [
      "Chi-squared Test for Churn and Churn:\n",
      "Chi-squared Statistic: 4924.890984253681, p-value: 0.0\n"
     ]
    }
   ],
   "source": [
    "table_Churn = pd.crosstab(dfCleaned['Churn'], dfCleaned['Churn'])\n",
    "\n",
    "chi2_Churn, p_Churn, dof_Churn, expected_Churn = chi2_contingency(table_Churn)\n",
    "\n",
    "print(f\"Chi-squared Test for Churn and Churn:\")\n",
    "print(f\"Chi-squared Statistic: {chi2_Churn}, p-value: {p_Churn}\")"
   ]
  },
  {
   "cell_type": "markdown",
   "metadata": {},
   "source": [
    "#### Correlation categoric insight : \n",
    "* Signifikansi: Semua fitur yang diuji menunjukkan hubungan yang sangat signifikan dengan churn, dengan p-value jauh di bawah 0.05. Ini menunjukkan bahwa semua fitur ini memiliki dampak atau hubungan yang kuat terhadap keputusan pelanggan untuk berhenti berlangganan.\n",
    "* Penggunaan dalam Model: Hasil ini sangat penting untuk digunakan dalam model prediktif churn. Fitur-fitur dengan korelasi tinggi terhadap churn ini dapat digunakan sebagai variabel penting dalam model untuk meningkatkan akurasi prediksi.\n",
    "* Strategi Bisnis: Perusahaan telekomunikasi dapat menggunakan informasi ini untuk fokus pada fitur-fitur layanan yang signifikan dalam mempertahankan pelanggan dan mengurangi churn. Misalnya, meningkatkan layanan keamanan online, backup, dan dukungan teknis, serta menawarkan kontrak yang lebih menarik dapat membantu mengurangi churn."
   ]
  },
  {
   "cell_type": "markdown",
   "metadata": {},
   "source": [
    "\n",
    "## REMOVE OUTLIERS"
   ]
  },
  {
   "cell_type": "code",
   "execution_count": 52,
   "metadata": {},
   "outputs": [
    {
     "data": {
      "image/png": "[encoded data removed]",
      "text/plain": [
       "<Figure size 2000x2000 with 2 Axes>"
      ]
     },
     "metadata": {},
     "output_type": "display_data"
    }
   ],
   "source": [
    "fig = plt.figure(figsize=(20,20)) # horizontal, vertikal\n",
    "\n",
    "count = 0\n",
    "for kolom in numeric.columns:\n",
    "    count += 1\n",
    "    plt.subplot(9,2,count)\n",
    "    sns.boxplot(numeric, x = kolom)\n",
    "    fig.tight_layout() # biar tidak tertumpuk\n",
    "    plt.title(f'{kolom}')\n",
    "plt.show()"
   ]
  },
  {
   "cell_type": "code",
   "execution_count": 53,
   "metadata": {},
   "outputs": [
    {
     "name": "stdout",
     "output_type": "stream",
     "text": [
      "data tenure memiliki outliers 0\n",
      "data MonthlyCharges memiliki outliers 0\n"
     ]
    }
   ],
   "source": [
    "# Cek Outliers\n",
    "def check_outliers(df, kolom):\n",
    "  for kolom in numeric.columns:\n",
    "      q1 = df[kolom].describe().loc['25%']\n",
    "      q3 = df[kolom].describe().loc['75%']\n",
    "      iqr = q3 - q1\n",
    "      lower_bound = q1 - 1.5 * iqr\n",
    "      upper_bound = q3 + 1.5 * iqr\n",
    "\n",
    "      jumlah_outliers = df[(df[kolom] < lower_bound) | (df[kolom] > upper_bound)].shape[0]\n",
    "      print(f\"data {kolom} memiliki outliers {jumlah_outliers}\")\n",
    "\n",
    "check_outliers(df, numeric.columns)"
   ]
  },
  {
   "cell_type": "markdown",
   "metadata": {},
   "source": [
    "### Results Oultiers\n",
    "tidak ada outliers pada data, sehingga proses remove tidak akan dilanjutkan"
   ]
  },
  {
   "cell_type": "markdown",
   "metadata": {},
   "source": [
    "# UBAH CHURN"
   ]
  },
  {
   "cell_type": "code",
   "execution_count": 54,
   "metadata": {},
   "outputs": [],
   "source": [
    "#mengubah data churn dari Yes & No menjadi 1 & 0\n",
    "df['Churn'] = df['Churn'].map({'Yes': 1, 'No': 0})"
   ]
  },
  {
   "cell_type": "markdown",
   "metadata": {},
   "source": [
    "### INSIGHT UBAH CHURN \n",
    "Mengubah data churn dari \"Yes\" dan \"No\" menjadi 1 dan 0 adalah langkah yang diperlukan untuk memastikan bahwa data tersebut kompatibel dengan algoritma machine learning, memungkinkan analisis dan interpretasi yang lebih mudah, serta memanfaatkan alat dan teknik statistik dan visualisasi yang ada."
   ]
  },
  {
   "cell_type": "markdown",
   "metadata": {},
   "source": [
    "## Feature Engineering"
   ]
  },
  {
   "cell_type": "code",
   "execution_count": 55,
   "metadata": {},
   "outputs": [
    {
     "data": {
      "text/html": [
       "<div>\n",
       "<style scoped>\n",
       "    .dataframe tbody tr th:only-of-type {\n",
       "        vertical-align: middle;\n",
       "    }\n",
       "\n",
       "    .dataframe tbody tr th {\n",
       "        vertical-align: top;\n",
       "    }\n",
       "\n",
       "    .dataframe thead th {\n",
       "        text-align: right;\n",
       "    }\n",
       "</style>\n",
       "<table border=\"1\" class=\"dataframe\">\n",
       "  <thead>\n",
       "    <tr style=\"text-align: right;\">\n",
       "      <th></th>\n",
       "      <th>Dependents</th>\n",
       "      <th>tenure</th>\n",
       "      <th>OnlineSecurity</th>\n",
       "      <th>OnlineBackup</th>\n",
       "      <th>InternetService</th>\n",
       "      <th>DeviceProtection</th>\n",
       "      <th>TechSupport</th>\n",
       "      <th>Contract</th>\n",
       "      <th>PaperlessBilling</th>\n",
       "      <th>MonthlyCharges</th>\n",
       "      <th>Churn</th>\n",
       "    </tr>\n",
       "  </thead>\n",
       "  <tbody>\n",
       "    <tr>\n",
       "      <th>0</th>\n",
       "      <td>Yes</td>\n",
       "      <td>9</td>\n",
       "      <td>No</td>\n",
       "      <td>No</td>\n",
       "      <td>DSL</td>\n",
       "      <td>Yes</td>\n",
       "      <td>Yes</td>\n",
       "      <td>Month-to-month</td>\n",
       "      <td>Yes</td>\n",
       "      <td>72.90</td>\n",
       "      <td>1</td>\n",
       "    </tr>\n",
       "    <tr>\n",
       "      <th>1</th>\n",
       "      <td>No</td>\n",
       "      <td>14</td>\n",
       "      <td>No</td>\n",
       "      <td>Yes</td>\n",
       "      <td>Fiber optic</td>\n",
       "      <td>Yes</td>\n",
       "      <td>No</td>\n",
       "      <td>Month-to-month</td>\n",
       "      <td>Yes</td>\n",
       "      <td>82.65</td>\n",
       "      <td>0</td>\n",
       "    </tr>\n",
       "    <tr>\n",
       "      <th>2</th>\n",
       "      <td>No</td>\n",
       "      <td>64</td>\n",
       "      <td>Yes</td>\n",
       "      <td>No</td>\n",
       "      <td>DSL</td>\n",
       "      <td>Yes</td>\n",
       "      <td>Yes</td>\n",
       "      <td>Two year</td>\n",
       "      <td>No</td>\n",
       "      <td>47.85</td>\n",
       "      <td>1</td>\n",
       "    </tr>\n",
       "    <tr>\n",
       "      <th>3</th>\n",
       "      <td>No</td>\n",
       "      <td>72</td>\n",
       "      <td>Yes</td>\n",
       "      <td>Yes</td>\n",
       "      <td>DSL</td>\n",
       "      <td>Yes</td>\n",
       "      <td>Yes</td>\n",
       "      <td>Two year</td>\n",
       "      <td>No</td>\n",
       "      <td>69.65</td>\n",
       "      <td>0</td>\n",
       "    </tr>\n",
       "    <tr>\n",
       "      <th>4</th>\n",
       "      <td>No</td>\n",
       "      <td>3</td>\n",
       "      <td>No</td>\n",
       "      <td>No</td>\n",
       "      <td>No</td>\n",
       "      <td>No</td>\n",
       "      <td>No</td>\n",
       "      <td>Month-to-month</td>\n",
       "      <td>Yes</td>\n",
       "      <td>23.60</td>\n",
       "      <td>0</td>\n",
       "    </tr>\n",
       "    <tr>\n",
       "      <th>...</th>\n",
       "      <td>...</td>\n",
       "      <td>...</td>\n",
       "      <td>...</td>\n",
       "      <td>...</td>\n",
       "      <td>...</td>\n",
       "      <td>...</td>\n",
       "      <td>...</td>\n",
       "      <td>...</td>\n",
       "      <td>...</td>\n",
       "      <td>...</td>\n",
       "      <td>...</td>\n",
       "    </tr>\n",
       "    <tr>\n",
       "      <th>4925</th>\n",
       "      <td>No</td>\n",
       "      <td>15</td>\n",
       "      <td>No</td>\n",
       "      <td>No</td>\n",
       "      <td>Fiber optic</td>\n",
       "      <td>Yes</td>\n",
       "      <td>Yes</td>\n",
       "      <td>Month-to-month</td>\n",
       "      <td>Yes</td>\n",
       "      <td>103.45</td>\n",
       "      <td>0</td>\n",
       "    </tr>\n",
       "    <tr>\n",
       "      <th>4926</th>\n",
       "      <td>Yes</td>\n",
       "      <td>10</td>\n",
       "      <td>No</td>\n",
       "      <td>No</td>\n",
       "      <td>Fiber optic</td>\n",
       "      <td>Yes</td>\n",
       "      <td>Yes</td>\n",
       "      <td>Month-to-month</td>\n",
       "      <td>Yes</td>\n",
       "      <td>91.10</td>\n",
       "      <td>0</td>\n",
       "    </tr>\n",
       "    <tr>\n",
       "      <th>4927</th>\n",
       "      <td>No</td>\n",
       "      <td>58</td>\n",
       "      <td>No</td>\n",
       "      <td>No</td>\n",
       "      <td>No</td>\n",
       "      <td>No</td>\n",
       "      <td>No</td>\n",
       "      <td>Two year</td>\n",
       "      <td>No</td>\n",
       "      <td>20.75</td>\n",
       "      <td>0</td>\n",
       "    </tr>\n",
       "    <tr>\n",
       "      <th>4928</th>\n",
       "      <td>No</td>\n",
       "      <td>1</td>\n",
       "      <td>No</td>\n",
       "      <td>No</td>\n",
       "      <td>Fiber optic</td>\n",
       "      <td>No</td>\n",
       "      <td>No</td>\n",
       "      <td>Month-to-month</td>\n",
       "      <td>Yes</td>\n",
       "      <td>69.75</td>\n",
       "      <td>1</td>\n",
       "    </tr>\n",
       "    <tr>\n",
       "      <th>4929</th>\n",
       "      <td>Yes</td>\n",
       "      <td>4</td>\n",
       "      <td>No</td>\n",
       "      <td>No</td>\n",
       "      <td>No</td>\n",
       "      <td>No</td>\n",
       "      <td>No</td>\n",
       "      <td>Month-to-month</td>\n",
       "      <td>No</td>\n",
       "      <td>20.40</td>\n",
       "      <td>0</td>\n",
       "    </tr>\n",
       "  </tbody>\n",
       "</table>\n",
       "<p>4853 rows × 11 columns</p>\n",
       "</div>"
      ],
      "text/plain": [
       "     Dependents  tenure OnlineSecurity OnlineBackup InternetService  \\\n",
       "0           Yes       9             No           No             DSL   \n",
       "1            No      14             No          Yes     Fiber optic   \n",
       "2            No      64            Yes           No             DSL   \n",
       "3            No      72            Yes          Yes             DSL   \n",
       "4            No       3             No           No              No   \n",
       "...         ...     ...            ...          ...             ...   \n",
       "4925         No      15             No           No     Fiber optic   \n",
       "4926        Yes      10             No           No     Fiber optic   \n",
       "4927         No      58             No           No              No   \n",
       "4928         No       1             No           No     Fiber optic   \n",
       "4929        Yes       4             No           No              No   \n",
       "\n",
       "     DeviceProtection TechSupport        Contract PaperlessBilling  \\\n",
       "0                 Yes         Yes  Month-to-month              Yes   \n",
       "1                 Yes          No  Month-to-month              Yes   \n",
       "2                 Yes         Yes        Two year               No   \n",
       "3                 Yes         Yes        Two year               No   \n",
       "4                  No          No  Month-to-month              Yes   \n",
       "...               ...         ...             ...              ...   \n",
       "4925              Yes         Yes  Month-to-month              Yes   \n",
       "4926              Yes         Yes  Month-to-month              Yes   \n",
       "4927               No          No        Two year               No   \n",
       "4928               No          No  Month-to-month              Yes   \n",
       "4929               No          No  Month-to-month               No   \n",
       "\n",
       "      MonthlyCharges  Churn  \n",
       "0              72.90      1  \n",
       "1              82.65      0  \n",
       "2              47.85      1  \n",
       "3              69.65      0  \n",
       "4              23.60      0  \n",
       "...              ...    ...  \n",
       "4925          103.45      0  \n",
       "4926           91.10      0  \n",
       "4927           20.75      0  \n",
       "4928           69.75      1  \n",
       "4929           20.40      0  \n",
       "\n",
       "[4853 rows x 11 columns]"
      ]
     },
     "execution_count": 55,
     "metadata": {},
     "output_type": "execute_result"
    }
   ],
   "source": [
    "df"
   ]
  },
  {
   "cell_type": "markdown",
   "metadata": {},
   "source": [
    "### Encoding and Scaling"
   ]
  },
  {
   "cell_type": "code",
   "execution_count": 56,
   "metadata": {},
   "outputs": [],
   "source": [
    "preprocessor = ColumnTransformer(\n",
    "    transformers=[\n",
    "        ('ohe', OneHotEncoder(handle_unknown='ignore'), ['Dependents', 'OnlineSecurity','OnlineBackup','InternetService','DeviceProtection','TechSupport','Contract','PaperlessBilling']),\n",
    "        ('rob', RobustScaler(), ['tenure','MonthlyCharges'])\n",
    "    ])"
   ]
  },
  {
   "cell_type": "markdown",
   "metadata": {},
   "source": [
    "\n",
    "\n",
    "| Attribute                 | Data Type | Encoder | Scaler |\n",
    "|---------------------------|-----------|---------|--------|\n",
    "| Dependents                | Object    | OHE | - |\n",
    "| OnlineSecurity            | Object    | OHE | - |\n",
    "| OnlineBackup              | Object    | OHE | - |\n",
    "| InternetService           | Object    | OHE | - |\n",
    "| DeviceProtection          | Object    | OHE | - |\n",
    "| TechSupport               | Object    | OHE | - |\n",
    "| Contract                  | Object    | OHE | - |\n",
    "| PaperlessBilling          | Object    | OHE | - |\n",
    "| tenure                    | Int64     | -         | Robust |\n",
    "| MonthlyCharges            | Float64   | -         | Robust |\n"
   ]
  },
  {
   "cell_type": "markdown",
   "metadata": {},
   "source": [
    "Dependents, OnlineSecurity, OnlineBackup, InternetService, DeviceProtection, TechSupport, Contract, PaperlessBilling: Fitur-fitur ini memiliki beberapa nilai kategorikal yang tidak terurut. Oleh karena itu, mereka cocok untuk diencode menggunakan OneHotEncoder (OHE). OneHotEncoder akan mengubah setiap nilai kategorikal menjadi beberapa kolom biner, di mana setiap kolom mewakili keberadaan atau ketiadaan suatu nilai dalam fitur tersebut. Namun, karena OneHotEncoder akan menghasilkan kolom biner untuk setiap nilai unik dalam fitur, penggunaan OHE dapat menyebabkan peningkatan jumlah fitur dalam dataset."
   ]
  },
  {
   "cell_type": "markdown",
   "metadata": {},
   "source": [
    "tenure, MonthlyCharges: Fitur-fitur ini adalah numerik dan memerlukan penskalaan untuk memastikan bahwa nilai-nilai dalam fitur memiliki skala yang seragam. RobustScaler digunakan di sini untuk melakukan penskalaan karena metode ini tahan terhadap outlier. RobustScaler mengurangi pengaruh outlier dengan mengurangi median dan menyesuaikan variansi data"
   ]
  },
  {
   "cell_type": "markdown",
   "metadata": {},
   "source": [
    "### RESAMPLING"
   ]
  },
  {
   "cell_type": "code",
   "execution_count": 57,
   "metadata": {},
   "outputs": [],
   "source": [
    "x = df.drop(['Churn'], axis=1)\n",
    "y = df['Churn']\n",
    "\n",
    "xtrain, xtest, ytrain, ytest = train_test_split(\n",
    "    x,\n",
    "    y, \n",
    "    test_size=0.2, \n",
    "    random_state=2024)"
   ]
  },
  {
   "cell_type": "markdown",
   "metadata": {},
   "source": [
    "### RESAMPLING BENCHMARK"
   ]
  },
  {
   "cell_type": "markdown",
   "metadata": {},
   "source": [
    "hal ini melakukan resampling pada data menggunakan beberapa metode yang berbeda, dan kemudian melatih model logistic regression pada setiap dataset yang telah di-resample. Setelah melatih model, ini akan mengevaluasi kinerja model menggunakan F1-score pada data uji.\n",
    "dengan ini juga dapat melihat kinerja model Logistic Regression setelah menerapkan berbagai teknik resampling untuk menangani ketidakseimbangan kelas dalam data. Ini membantu untuk memilih teknik resampling yang paling sesuai dengan data kita untuk meningkatkan kinerja model."
   ]
  },
  {
   "cell_type": "code",
   "execution_count": 58,
   "metadata": {},
   "outputs": [
    {
     "name": "stdout",
     "output_type": "stream",
     "text": [
      "RandomUnderSampler: 0.6224\n",
      "RandomOverSampler: 0.6386\n",
      "SMOTE: 0.6338\n",
      "NearMiss: 0.5179\n"
     ]
    }
   ],
   "source": [
    "\n",
    "# Define the models\n",
    "ada = AdaBoostClassifier()\n",
    "gbc = GradientBoostingClassifier()\n",
    "xgb = XGBClassifier()\n",
    "logreg = LogisticRegression()\n",
    "knn = KNeighborsClassifier()\n",
    "dt = DecisionTreeClassifier()\n",
    "rf = RandomForestClassifier()\n",
    "\n",
    "# Define the resampling methods\n",
    "resampling_methods = {\n",
    "    'RandomUnderSampler': RandomUnderSampler(random_state=2024),\n",
    "    'RandomOverSampler': RandomOverSampler(random_state=2024),\n",
    "    'SMOTE': SMOTE(random_state=2024),\n",
    "    'NearMiss': NearMiss(),\n",
    "}\n",
    "\n",
    "results = {}\n",
    "\n",
    "# Load your data and split it into train and test sets (xtrain, xtest, ytrain, ytest)\n",
    "\n",
    "for name, method in resampling_methods.items():\n",
    "    pipeline = ImbPipeline([\n",
    "        ('preprocessing', preprocessor),  # Preprocessing steps if any\n",
    "        ('Resampling', method),\n",
    "        ('LogReg', logreg)\n",
    "    ])\n",
    "    \n",
    "    # Fitting the pipeline\n",
    "    pipeline.fit(xtrain, ytrain)\n",
    "    pred = pipeline.predict(xtest)\n",
    "\n",
    "    # Calculate F1 score\n",
    "    f1 = f1_score(ytest, pred, average='binary', pos_label=1)  # Adjust pos_label accordingly\n",
    "    results[name] = f1\n",
    "\n",
    "for resampling_method, f1 in results.items():\n",
    "    print(f'{resampling_method}: {f1:.4f}')"
   ]
  },
  {
   "cell_type": "markdown",
   "metadata": {},
   "source": [
    "Hasil dari pemodelan dengan berbagai metode resampling menunjukkan variasi dalam kinerja model Logistic Regression yang dilatih setelah penerapan teknik-teknik tersebut. Berikut adalah beberapa insight yang dapat diperoleh dari hasil ini:\n",
    "\n",
    "* RandomUnderSampler: Teknik ini melakukan pengurangan jumlah sampel pada kelas mayoritas (majority class) sehingga setiap kelas memiliki jumlah sampel yang serupa. Dalam kasus ini, F1-score yang dihasilkan adalah 0.6263. Hasil yang relatif tinggi menunjukkan bahwa penyeimbangan kelas dengan mengurangi sampel pada kelas mayoritas dapat meningkatkan kinerja model Logistic Regression.\n",
    "\n",
    "* RandomOverSampler: Teknik ini melakukan penambahan sampel pada kelas minoritas (minority class) sehingga setiap kelas memiliki jumlah sampel yang serupa. Meskipun meningkatkan jumlah sampel pada kelas minoritas, F1-score yang dihasilkan adalah 0.6219, sedikit lebih rendah dari RandomUnderSampler. Hal ini menunjukkan bahwa dalam kasus ini, penyeimbangan kelas dengan menambah sampel pada kelas minoritas tidak memberikan peningkatan kinerja yang signifikan.\n",
    "\n",
    "* SMOTE (Synthetic Minority Over-sampling Technique): Teknik ini menghasilkan sampel sintetis untuk kelas minoritas berdasarkan tetangga terdekat. F1-score yang dihasilkan adalah 0.6192, yang juga sedikit lebih rendah dari RandomUnderSampler. Meskipun SMOTE dapat meningkatkan jumlah sampel pada kelas minoritas tanpa duplikasi data, kinerja model masih sedikit di bawah RandomUnderSampler.\n",
    "\n",
    "* NearMiss: Teknik ini melakukan pengurangan jumlah sampel pada kelas mayoritas dengan menghapus sampel yang berdekatan dengan kelas minoritas. Namun, F1-score yang dihasilkan adalah yang terendah, yaitu 0.5295. Hal ini menunjukkan bahwa pengurangan sampel pada kelas mayoritas dengan metode ini mungkin mengurangi jumlah informasi yang diperoleh oleh model, sehingga kinerja model menurun secara signifikan.\n"
   ]
  },
  {
   "cell_type": "markdown",
   "metadata": {},
   "source": [
    "# **MODEL BENCHMARKING**"
   ]
  },
  {
   "cell_type": "code",
   "execution_count": 59,
   "metadata": {},
   "outputs": [
    {
     "data": {
      "text/html": [
       "<div>\n",
       "<style scoped>\n",
       "    .dataframe tbody tr th:only-of-type {\n",
       "        vertical-align: middle;\n",
       "    }\n",
       "\n",
       "    .dataframe tbody tr th {\n",
       "        vertical-align: top;\n",
       "    }\n",
       "\n",
       "    .dataframe thead th {\n",
       "        text-align: right;\n",
       "    }\n",
       "</style>\n",
       "<table border=\"1\" class=\"dataframe\">\n",
       "  <thead>\n",
       "    <tr style=\"text-align: right;\">\n",
       "      <th></th>\n",
       "      <th>Model</th>\n",
       "      <th>AVG F1</th>\n",
       "      <th>STD F1</th>\n",
       "    </tr>\n",
       "  </thead>\n",
       "  <tbody>\n",
       "    <tr>\n",
       "      <th>0</th>\n",
       "      <td>Ada Boost</td>\n",
       "      <td>0.629222</td>\n",
       "      <td>0.020635</td>\n",
       "    </tr>\n",
       "    <tr>\n",
       "      <th>1</th>\n",
       "      <td>Gradient Boost</td>\n",
       "      <td>0.622098</td>\n",
       "      <td>0.017573</td>\n",
       "    </tr>\n",
       "    <tr>\n",
       "      <th>3</th>\n",
       "      <td>Logistic Regression</td>\n",
       "      <td>0.618844</td>\n",
       "      <td>0.019536</td>\n",
       "    </tr>\n",
       "    <tr>\n",
       "      <th>2</th>\n",
       "      <td>XGB</td>\n",
       "      <td>0.585115</td>\n",
       "      <td>0.016691</td>\n",
       "    </tr>\n",
       "    <tr>\n",
       "      <th>4</th>\n",
       "      <td>KNN</td>\n",
       "      <td>0.542663</td>\n",
       "      <td>0.012517</td>\n",
       "    </tr>\n",
       "    <tr>\n",
       "      <th>6</th>\n",
       "      <td>Random Forest</td>\n",
       "      <td>0.517873</td>\n",
       "      <td>0.014489</td>\n",
       "    </tr>\n",
       "    <tr>\n",
       "      <th>5</th>\n",
       "      <td>Decision Tree</td>\n",
       "      <td>0.465886</td>\n",
       "      <td>0.029347</td>\n",
       "    </tr>\n",
       "  </tbody>\n",
       "</table>\n",
       "</div>"
      ],
      "text/plain": [
       "                 Model    AVG F1    STD F1\n",
       "0            Ada Boost  0.629222  0.020635\n",
       "1       Gradient Boost  0.622098  0.017573\n",
       "3  Logistic Regression  0.618844  0.019536\n",
       "2                  XGB  0.585115  0.016691\n",
       "4                  KNN  0.542663  0.012517\n",
       "6        Random Forest  0.517873  0.014489\n",
       "5        Decision Tree  0.465886  0.029347"
      ]
     },
     "execution_count": 59,
     "metadata": {},
     "output_type": "execute_result"
    }
   ],
   "source": [
    "# Define the models\n",
    "\n",
    "ada = AdaBoostClassifier()\n",
    "gbc = GradientBoostingClassifier()\n",
    "xgb = XGBClassifier()\n",
    "logreg = LogisticRegression()\n",
    "knn = KNeighborsClassifier()\n",
    "dt = DecisionTreeClassifier()\n",
    "rf = RandomForestClassifier()\n",
    "\n",
    "models = [ada, gbc, xgb, logreg, knn, dt, rf]\n",
    "model_names = ['Ada Boost', 'Gradient Boost', 'XGB','Logistic Regression','KNN','Decision Tree','Random Forest']\n",
    "f1_scores_list = []\n",
    "stds = []\n",
    "\n",
    "kfold = KFold(n_splits=5, shuffle=True, random_state=2024)\n",
    "\n",
    "for model in models:\n",
    "    model_pipeline = ImbPipeline(steps=[('preprocessor', preprocessor),\n",
    "                                        ('over',RandomOverSampler(random_state=2024)),\n",
    "                                        ('classifier', model)])\n",
    "    \n",
    "    # Use 'f1' scoring for binary classification; adjust pos_label accordingly if your positive class is different\n",
    "    cv_scores = cross_val_score(model_pipeline, xtrain, ytrain, cv=kfold, scoring='f1')\n",
    "   \n",
    "    f1_scores = cv_scores\n",
    "    f1_scores_list.append(f1_scores.mean())\n",
    "    stds.append(f1_scores.std())\n",
    "\n",
    "df_benchmark = pd.DataFrame({\n",
    "    'Model': model_names,\n",
    "    'AVG F1': f1_scores_list,\n",
    "    'STD F1': stds\n",
    "})\n",
    "\n",
    "df_benchmark.sort_values('AVG F1', ascending=False)"
   ]
  },
  {
   "cell_type": "markdown",
   "metadata": {},
   "source": [
    "### INSIGHT MODEL BENCMARKING\n",
    "Model Terbaik:\n",
    "\n",
    "Ada Boost memiliki nilai rata-rata F1 tertinggi (0.629222), menunjukkan bahwa model ini memiliki performa terbaik dalam hal keseimbangan antara presisi dan recall di antara semua model yang diuji.\n",
    "Gradient Boost berada di urutan kedua dengan nilai rata-rata F1 yang sangat dekat (0.622606), menunjukkan bahwa model ini juga sangat baik dalam kinerja.\n",
    "Model dengan Kinerja Menengah:\n",
    "\n",
    "Logistic Regression memiliki nilai rata-rata F1 yang cukup baik (0.618844), menunjukkan bahwa meskipun merupakan model yang lebih sederhana dibandingkan model boosting, ia masih memberikan performa yang solid.\n",
    "XGB (Extreme Gradient Boosting) memiliki nilai rata-rata F1 yang lebih rendah (0.585115) dibandingkan dua model boosting lainnya (Ada Boost dan Gradient Boost), tetapi masih memberikan hasil yang layak.\n",
    "Model dengan Kinerja Lebih Rendah:\n",
    "\n",
    "KNN (K-Nearest Neighbors) dan Random Forest memiliki nilai rata-rata F1 yang lebih rendah (masing-masing 0.542663 dan 0.526791), menunjukkan bahwa model-model ini mungkin kurang efektif dalam memprediksi churn dibandingkan model boosting dan Logistic Regression.\n",
    "Decision Tree memiliki nilai rata-rata F1 terendah (0.467064), menunjukkan bahwa model ini mungkin paling tidak efektif dalam memprediksi churn di antara semua model yang diuji.\n",
    "Konsistensi Model:\n",
    "\n",
    "KNN memiliki deviasi standar F1 terendah (0.012517), menunjukkan bahwa kinerjanya paling konsisten di antara berbagai fold dalam cross-validation.\n",
    "Decision Tree memiliki deviasi standar F1 tertinggi (0.025554), menunjukkan bahwa kinerjanya paling bervariasi di antara berbagai fold dalam cross-validation.\n",
    "Kesimpulan:\n",
    "Untuk prediksi churn dalam dataset ini, Ada Boost dan Gradient Boost adalah pilihan terbaik karena memiliki nilai rata-rata F1 tertinggi.\n",
    "Logistic Regression adalah alternatif yang baik jika Anda menginginkan model yang lebih sederhana namun tetap efektif.\n",
    "Model-model seperti KNN dan Random Forest memiliki performa yang layak tetapi tidak sebaik model boosting.\n",
    "Decision Tree mungkin bukan pilihan yang baik mengingat performanya yang paling rendah dan variasi kinerja yang tinggi.\n",
    "\n",
    "\n"
   ]
  },
  {
   "cell_type": "markdown",
   "metadata": {},
   "source": [
    "# **HYPERPARAMETER TUNING**"
   ]
  },
  {
   "cell_type": "code",
   "execution_count": 60,
   "metadata": {},
   "outputs": [
    {
     "name": "stdout",
     "output_type": "stream",
     "text": [
      "Fitting 5 folds for each of 32 candidates, totalling 160 fits\n",
      "Best parameters: {'gbc__max_depth': 10, 'gbc__min_samples_leaf': 1, 'gbc__min_samples_split': 5, 'gbc__n_estimators': 100}\n",
      "Best cross-validated F1 score: 0.5385494128624175\n"
     ]
    }
   ],
   "source": [
    "\n",
    "# Define the GBC model within ImbPipeline\n",
    "gbc_pipeline = ImbPipeline(steps=[\n",
    "  ('preprocessor', preprocessor),\n",
    "  ('over',RandomOverSampler(random_state=2024)),\n",
    "  ('gbc', GradientBoostingClassifier(random_state=2024))\n",
    "])\n",
    "\n",
    "# Define the parameter grid for GBC\n",
    "param_grid = {\n",
    "  'gbc__n_estimators': [100, 200],\n",
    "  'gbc__max_depth': [None, 10, 20, 30],\n",
    "  'gbc__min_samples_split': [2, 5],\n",
    "  'gbc__min_samples_leaf': [1, 2]\n",
    "}\n",
    "\n",
    "# Initialize GridSearchCV\n",
    "grid_search = GridSearchCV(gbc_pipeline, param_grid, cv=5, scoring='f1', verbose=2, n_jobs=-1)\n",
    "\n",
    "# Fit GridSearchCV\n",
    "grid_search.fit(xtrain, ytrain)\n",
    "\n",
    "# Print best parameters and best score\n",
    "print(\"Best parameters:\", grid_search.best_params_)\n",
    "print(\"Best cross-validated F1 score:\", grid_search.best_score_)"
   ]
  },
  {
   "cell_type": "code",
   "execution_count": 61,
   "metadata": {},
   "outputs": [
    {
     "name": "stdout",
     "output_type": "stream",
     "text": [
      "Fitting 5 folds for each of 9 candidates, totalling 45 fits\n",
      "Best parameters: {'ada__learning_rate': 0.5, 'ada__n_estimators': 100}\n",
      "Best cross-validated F1 score: 0.6267417521896951\n"
     ]
    }
   ],
   "source": [
    "# Define the AdaBoost model within ImbPipeline\n",
    "ada_pipeline = ImbPipeline(steps=[\n",
    "  ('preprocessor', preprocessor),\n",
    "  ('over',RandomOverSampler(random_state=2024)),\n",
    "  ('ada', AdaBoostClassifier(random_state=2024))\n",
    "])\n",
    "\n",
    "# Define the parameter grid for AdaBoost\n",
    "param_grid = {\n",
    "  'ada__n_estimators': [50, 100, 200],  # Common range for AdaBoost\n",
    "  'ada__learning_rate': [0.1, 0.5, 1.0]   # Common range for AdaBoost learning rate\n",
    "}\n",
    "\n",
    "# Initialize GridSearchCV\n",
    "grid_search = GridSearchCV(ada_pipeline, param_grid, cv=5, scoring='f1', verbose=2, n_jobs=-1)\n",
    "\n",
    "# Fit GridSearchCV\n",
    "grid_search.fit(xtrain, ytrain)\n",
    "\n",
    "# Print best parameters and best score\n",
    "print(\"Best parameters:\", grid_search.best_params_)\n",
    "print(\"Best cross-validated F1 score:\", grid_search.best_score_)\n"
   ]
  },
  {
   "cell_type": "markdown",
   "metadata": {},
   "source": [
    "### INSIGHT AFTER TUNING \n",
    "1. AdaBoostClassifier mengungguli GradientBoostingClassifier dalam hal kinerja, dengan mendapatkan nilai F1-score yang lebih tinggi.\n",
    "\n",
    "2. AdaBoostClassifier menawarkan pendekatan yang lebih efektif dalam menangani masalah klasifikasi, terutama dalam hal adaptasi terhadap instance-instance yang sulit diprediksi.\n",
    "\n",
    "3. Model AdaBoostClassifier memiliki kestabilan yang lebih baik, terutama saat digunakan dengan jumlah data yang relatif kecil, dan cenderung kurang sensitif terhadap noise dan outliers dalam data.\n",
    "\n",
    "4. AdaBoostClassifier memiliki kemampuan generalisasi yang baik, yang berarti model yang dihasilkan cenderung lebih baik dalam memprediksi pada data baru yang tidak dilihat sebelumnya.\n",
    "\n",
    "Dengan demikian, sebagai kesimpulan, model AdaBoostClassifier merupakan pilihan yang lebih baik untuk menjadi final model berdasarkan kinerja yang lebih baik dan kemampuan adaptasinya yang efektif terhadap data.\n",
    "\n"
   ]
  },
  {
   "cell_type": "markdown",
   "metadata": {},
   "source": [
    "# **FINAL MODEL** "
   ]
  },
  {
   "cell_type": "code",
   "execution_count": 62,
   "metadata": {},
   "outputs": [
    {
     "name": "stdout",
     "output_type": "stream",
     "text": [
      "Final Model Test F1 Score: 0.5826\n",
      "Final Model Test Accuracy: 0.8023\n",
      "Classification Report:\n",
      "               precision    recall  f1-score   support\n",
      "\n",
      "           0       0.82      0.92      0.87       699\n",
      "           1       0.71      0.49      0.58       272\n",
      "\n",
      "    accuracy                           0.80       971\n",
      "   macro avg       0.77      0.71      0.73       971\n",
      "weighted avg       0.79      0.80      0.79       971\n",
      "\n"
     ]
    },
    {
     "data": {
      "image/png": "[encoded data removed]",
      "text/plain": [
       "<Figure size 800x600 with 2 Axes>"
      ]
     },
     "metadata": {},
     "output_type": "display_data"
    }
   ],
   "source": [
    "# Define and fit the final model\n",
    "final_model = AdaBoostClassifier(learning_rate=0.5, n_estimators=50)\n",
    "final_model.fit(preprocessor.transform(xtrain), ytrain)\n",
    "\n",
    "# Predict the test set\n",
    "ypred = final_model.predict(preprocessor.transform(xtest))\n",
    "\n",
    "# Calculate evaluation metrics\n",
    "f1 = f1_score(ytest, ypred, average='binary', pos_label=1)\n",
    "accuracy = accuracy_score(ytest, ypred)\n",
    "\n",
    "# Print evaluation metrics\n",
    "print(f\"Final Model Test F1 Score: {f1:.4f}\")\n",
    "print(f\"Final Model Test Accuracy: {accuracy:.4f}\")\n",
    "print(\"Classification Report:\\n\", classification_report(ytest, ypred))\n",
    "\n",
    "# Confusion matrix\n",
    "conf_matrix = confusion_matrix(ytest, ypred)\n",
    "\n",
    "# Plot the confusion matrix\n",
    "plt.figure(figsize=(8, 6))\n",
    "sns.heatmap(conf_matrix, annot=True, fmt='d', cmap='Blues', annot_kws={\"size\": 12})\n",
    "plt.xlabel('Predicted labels')\n",
    "plt.ylabel('True labels')\n",
    "plt.title('Confusion Matrix')\n",
    "plt.show()\n"
   ]
  },
  {
   "cell_type": "markdown",
   "metadata": {},
   "source": [
    "### KESIMPULAN\n",
    "* True Positives (TP): 134 (Prediksi churn yang benar)\n",
    "* True Negatives (TN): 645 (Prediksi tidak churn yang benar)\n",
    "* False Positives (FP): 54 (Prediksi churn yang salah, sebenarnya tidak churn)\n",
    "* False Negatives (FN): 138 (Prediksi tidak churn yang salah, sebenarnya churn)\n",
    "\n",
    "\n",
    "- Total pelanggan yang diprediksi akan churn: 188 orang (54 FP + 134 TP).\n",
    "\n",
    "- Total pelanggan yang diprediksi tidak akan churn: 783 orang (645 TN + 138 FN)."
   ]
  },
  {
   "cell_type": "code",
   "execution_count": 63,
   "metadata": {},
   "outputs": [
    {
     "name": "stdout",
     "output_type": "stream",
     "text": [
      "Akurasi Model : 0.800\n",
      "Akurasi Tanpa Model : 0.720\n"
     ]
    }
   ],
   "source": [
    "total_data = 971\n",
    "data_kelas_0 = 699\n",
    "data_kelas_1 = 272\n",
    "\n",
    "recall_kelas_0 = 0.92\n",
    "recall_kelas_1 = 0.49\n",
    "\n",
    "prediksi_benar_kelas_0 = recall_kelas_0 * data_kelas_0\n",
    "prediksi_benar_kelas_1 = recall_kelas_1 * data_kelas_1\n",
    "\n",
    "# Menghitung total prediksi benar\n",
    "total_prediksi_benar = prediksi_benar_kelas_0 + prediksi_benar_kelas_1\n",
    "\n",
    "# Menghitung akurasi penggunaan model\n",
    "akurasi_model = total_prediksi_benar / total_data\n",
    "\n",
    "# Menghitung akurasi tanpa model (prediksi kelas mayoritas)\n",
    "akurasi_tanpa_model = data_kelas_0 / total_data\n",
    "\n",
    "print(f'Akurasi Model : {akurasi_model:.3f}')\n",
    "print(f'Akurasi Tanpa Model : {akurasi_tanpa_model:.3f}')\n"
   ]
  },
  {
   "cell_type": "markdown",
   "metadata": {},
   "source": [
    "### INSIGHT\n",
    "* Akurasi Model: Hasil akurasi dari model yang digunakan adalah sebesar 0.804. Ini menunjukkan bahwa model mampu memprediksi kelas dengan tingkat keakuratan sekitar 80%.\n",
    "\n",
    "* Akurasi Tanpa Model: Jika tanpa menggunakan model (prediksi kelas mayoritas), akurasi yang dicapai adalah sebesar 0.729. Ini berarti jika kita hanya menggunakan prediksi kelas mayoritas (klasifikasi semua data sebagai kelas mayoritas, dalam hal ini kelas 0), akurasi yang dicapai akan lebih rendah daripada menggunakan model.\n",
    "\n",
    "Dari insight ini, kita dapat menyimpulkan bahwa model yang digunakan memiliki kinerja yang lebih baik daripada penggunaan prediksi kelas mayoritas tanpa model. Oleh karena itu, penggunaan model dalam memprediksi churn memberikan keuntungan dalam meningkatkan akurasi prediksi"
   ]
  },
  {
   "cell_type": "code",
   "execution_count": 64,
   "metadata": {},
   "outputs": [
    {
     "data": {
      "image/png": "[encoded data removed]",
      "text/plain": [
       "<Figure size 1200x800 with 1 Axes>"
      ]
     },
     "metadata": {},
     "output_type": "display_data"
    }
   ],
   "source": [
    "# Feature Importance\n",
    "feature_importances = final_model.feature_importances_\n",
    "feature_names = preprocessor.get_feature_names_out()\n",
    "\n",
    "# Create a DataFrame for better visualization\n",
    "importance_df = pd.DataFrame({\n",
    "    'Feature': feature_names,\n",
    "    'Importance': feature_importances\n",
    "})\n",
    "\n",
    "# Sort the DataFrame by importance\n",
    "importance_df = importance_df.sort_values(by='Importance', ascending=False)\n",
    "\n",
    "# Plot the feature importances\n",
    "plt.figure(figsize=(12, 8))\n",
    "sns.barplot(x='Importance', y='Feature', data=importance_df)\n",
    "plt.title('Feature Importances')\n",
    "plt.show()"
   ]
  },
  {
   "cell_type": "markdown",
   "metadata": {},
   "source": [
    "Grafik tersebut menunjukkan pentingnya fitur-fitur dalam model machine learning. Setiap fitur diberi skor yang menunjukkan seberapa besar pengaruhnya terhadap prediksi model. Berikut adalah penjelasan dan beberapa insight berdasarkan grafik ini:\n",
    "\n",
    "\n",
    "### Insight dari Plot Feature Importances:\n",
    "\n",
    "1. **Fitur yang Paling Penting**:\n",
    "   - **MonthlyCharges** dan **tenure** adalah fitur yang paling penting dalam memprediksi churn. Ini menunjukkan bahwa jumlah biaya bulanan yang dikenakan kepada pelanggan dan durasi berlangganan mereka memainkan peran signifikan dalam keputusan pelanggan untuk berhenti berlangganan.\n",
    "\n",
    "2. **Keamanan Online dan Backup**:\n",
    "   - Fitur **OnlineSecurity_No** dan **OnlineBackup_No** juga memiliki pentingnya yang signifikan. Ini menunjukkan bahwa pelanggan yang tidak memiliki layanan keamanan online dan backup lebih mungkin untuk churn. Menyediakan layanan keamanan dan backup yang baik bisa menjadi strategi untuk mengurangi churn.\n",
    "\n",
    "3. **Jenis Layanan Internet**:\n",
    "   - **InternetService_DSL** dan **InternetService_Fiber optic** adalah fitur yang menunjukkan pentingnya layanan internet yang dipilih pelanggan. Pelanggan dengan layanan DSL atau fiber optic menunjukkan perbedaan dalam perilaku churn mereka. Menyediakan layanan internet berkualitas tinggi dapat membantu dalam retensi pelanggan.\n",
    "\n",
    "4. **Dukungan Teknis dan Proteksi Perangkat**:\n",
    "   - **TechSupport_Yes** dan **DeviceProtection_No** menunjukkan bahwa pelanggan yang mendapatkan dukungan teknis cenderung lebih sedikit churn, sementara mereka yang tidak memiliki perlindungan perangkat lebih mungkin untuk churn. Memberikan dukungan teknis yang baik dan penawaran perlindungan perangkat bisa menjadi kunci untuk mengurangi churn.\n",
    "\n",
    "5. **Jenis Kontrak**:\n",
    "   - **Contract_Month-to-month** dan **Contract_Two year** menunjukkan bahwa jenis kontrak mempengaruhi churn. Pelanggan dengan kontrak bulanan lebih mungkin untuk churn dibandingkan dengan mereka yang memiliki kontrak dua tahun. Mendorong pelanggan untuk memilih kontrak jangka panjang bisa membantu mengurangi churn.\n",
    "\n",
    "6. **Penagihan Tanpa Kertas**:\n",
    "   - **PaperlessBilling_Yes** memiliki peran penting, menunjukkan bahwa pelanggan yang memilih penagihan tanpa kertas memiliki perilaku churn yang berbeda. Mempromosikan opsi penagihan tanpa kertas bisa mempengaruhi retensi pelanggan.\n",
    "\n",
    "7. **Pengaruh Faktor Lain**:\n",
    "   - Fitur lain seperti **Dependents_Yes**, **InternetService_No**, dan **DeviceProtection_No** menunjukkan bahwa berbagai faktor tambahan juga mempengaruhi churn. Memahami lebih dalam bagaimana masing-masing fitur ini mempengaruhi keputusan churn bisa membantu dalam strategi retensi pelanggan.\n",
    "\n",
    "### Kesimpulan dan Rekomendasi:\n",
    "- **Fokus pada Pengelolaan Biaya Bulanan dan Durasi Berlangganan**: Mengelola biaya bulanan yang kompetitif dan menawarkan insentif untuk perpanjangan langganan bisa menjadi strategi efektif untuk mengurangi churn.\n",
    "- **Meningkatkan Layanan Keamanan dan Backup**: Meningkatkan layanan keamanan online dan backup bisa meningkatkan kepuasan pelanggan dan mengurangi churn.\n",
    "- **Peningkatan Layanan Internet**: Menyediakan layanan internet yang stabil dan berkualitas tinggi seperti fiber optic dapat membantu dalam retensi pelanggan.\n",
    "- **Dukungan Teknis dan Proteksi Perangkat**: Memberikan dukungan teknis yang proaktif dan penawaran perlindungan perangkat bisa membantu mengurangi churn.\n",
    "- **Mendorong Kontrak Jangka Panjang**: Mendorong pelanggan untuk memilih kontrak jangka panjang bisa membantu mengurangi churn, karena pelanggan dengan kontrak jangka panjang cenderung lebih setia.\n",
    "- **Penagihan Tanpa Kertas**: Mempromosikan opsi penagihan tanpa kertas dapat membantu dalam retensi pelanggan.\n",
    "\n",
    "Dengan memahami dan menerapkan strategi berdasarkan fitur-fitur penting ini, perusahaan telekomunikasi dapat meningkatkan retensi pelanggan dan mengurangi churn."
   ]
  },
  {
   "cell_type": "code",
   "execution_count": 65,
   "metadata": {},
   "outputs": [
    {
     "data": {
      "text/html": [
       "<style>#sk-container-id-1 {\n",
       "  /* Definition of color scheme common for light and dark mode */\n",
       "  --sklearn-color-text: black;\n",
       "  --sklearn-color-line: gray;\n",
       "  /* Definition of color scheme for unfitted estimators */\n",
       "  --sklearn-color-unfitted-level-0: #fff5e6;\n",
       "  --sklearn-color-unfitted-level-1: #f6e4d2;\n",
       "  --sklearn-color-unfitted-level-2: #ffe0b3;\n",
       "  --sklearn-color-unfitted-level-3: chocolate;\n",
       "  /* Definition of color scheme for fitted estimators */\n",
       "  --sklearn-color-fitted-level-0: #f0f8ff;\n",
       "  --sklearn-color-fitted-level-1: #d4ebff;\n",
       "  --sklearn-color-fitted-level-2: #b3dbfd;\n",
       "  --sklearn-color-fitted-level-3: cornflowerblue;\n",
       "\n",
       "  /* Specific color for light theme */\n",
       "  --sklearn-color-text-on-default-background: var(--sg-text-color, var(--theme-code-foreground, var(--jp-content-font-color1, black)));\n",
       "  --sklearn-color-background: var(--sg-background-color, var(--theme-background, var(--jp-layout-color0, white)));\n",
       "  --sklearn-color-border-box: var(--sg-text-color, var(--theme-code-foreground, var(--jp-content-font-color1, black)));\n",
       "  --sklearn-color-icon: #696969;\n",
       "\n",
       "  @media (prefers-color-scheme: dark) {\n",
       "    /* Redefinition of color scheme for dark theme */\n",
       "    --sklearn-color-text-on-default-background: var(--sg-text-color, var(--theme-code-foreground, var(--jp-content-font-color1, white)));\n",
       "    --sklearn-color-background: var(--sg-background-color, var(--theme-background, var(--jp-layout-color0, #111)));\n",
       "    --sklearn-color-border-box: var(--sg-text-color, var(--theme-code-foreground, var(--jp-content-font-color1, white)));\n",
       "    --sklearn-color-icon: #878787;\n",
       "  }\n",
       "}\n",
       "\n",
       "#sk-container-id-1 {\n",
       "  color: var(--sklearn-color-text);\n",
       "}\n",
       "\n",
       "#sk-container-id-1 pre {\n",
       "  padding: 0;\n",
       "}\n",
       "\n",
       "#sk-container-id-1 input.sk-hidden--visually {\n",
       "  border: 0;\n",
       "  clip: rect(1px 1px 1px 1px);\n",
       "  clip: rect(1px, 1px, 1px, 1px);\n",
       "  height: 1px;\n",
       "  margin: -1px;\n",
       "  overflow: hidden;\n",
       "  padding: 0;\n",
       "  position: absolute;\n",
       "  width: 1px;\n",
       "}\n",
       "\n",
       "#sk-container-id-1 div.sk-dashed-wrapped {\n",
       "  border: 1px dashed var(--sklearn-color-line);\n",
       "  margin: 0 0.4em 0.5em 0.4em;\n",
       "  box-sizing: border-box;\n",
       "  padding-bottom: 0.4em;\n",
       "  background-color: var(--sklearn-color-background);\n",
       "}\n",
       "\n",
       "#sk-container-id-1 div.sk-container {\n",
       "  /* jupyter's `normalize.less` sets `[hidden] { display: none; }`\n",
       "     but bootstrap.min.css set `[hidden] { display: none !important; }`\n",
       "     so we also need the `!important` here to be able to override the\n",
       "     default hidden behavior on the sphinx rendered scikit-learn.org.\n",
       "     See: https://github.com/scikit-learn/scikit-learn/issues/21755 */\n",
       "  display: inline-block !important;\n",
       "  position: relative;\n",
       "}\n",
       "\n",
       "#sk-container-id-1 div.sk-text-repr-fallback {\n",
       "  display: none;\n",
       "}\n",
       "\n",
       "div.sk-parallel-item,\n",
       "div.sk-serial,\n",
       "div.sk-item {\n",
       "  /* draw centered vertical line to link estimators */\n",
       "  background-image: linear-gradient(var(--sklearn-color-text-on-default-background), var(--sklearn-color-text-on-default-background));\n",
       "  background-size: 2px 100%;\n",
       "  background-repeat: no-repeat;\n",
       "  background-position: center center;\n",
       "}\n",
       "\n",
       "/* Parallel-specific style estimator block */\n",
       "\n",
       "#sk-container-id-1 div.sk-parallel-item::after {\n",
       "  content: \"\";\n",
       "  width: 100%;\n",
       "  border-bottom: 2px solid var(--sklearn-color-text-on-default-background);\n",
       "  flex-grow: 1;\n",
       "}\n",
       "\n",
       "#sk-container-id-1 div.sk-parallel {\n",
       "  display: flex;\n",
       "  align-items: stretch;\n",
       "  justify-content: center;\n",
       "  background-color: var(--sklearn-color-background);\n",
       "  position: relative;\n",
       "}\n",
       "\n",
       "#sk-container-id-1 div.sk-parallel-item {\n",
       "  display: flex;\n",
       "  flex-direction: column;\n",
       "}\n",
       "\n",
       "#sk-container-id-1 div.sk-parallel-item:first-child::after {\n",
       "  align-self: flex-end;\n",
       "  width: 50%;\n",
       "}\n",
       "\n",
       "#sk-container-id-1 div.sk-parallel-item:last-child::after {\n",
       "  align-self: flex-start;\n",
       "  width: 50%;\n",
       "}\n",
       "\n",
       "#sk-container-id-1 div.sk-parallel-item:only-child::after {\n",
       "  width: 0;\n",
       "}\n",
       "\n",
       "/* Serial-specific style estimator block */\n",
       "\n",
       "#sk-container-id-1 div.sk-serial {\n",
       "  display: flex;\n",
       "  flex-direction: column;\n",
       "  align-items: center;\n",
       "  background-color: var(--sklearn-color-background);\n",
       "  padding-right: 1em;\n",
       "  padding-left: 1em;\n",
       "}\n",
       "\n",
       "\n",
       "/* Toggleable style: style used for estimator/Pipeline/ColumnTransformer box that is\n",
       "clickable and can be expanded/collapsed.\n",
       "- Pipeline and ColumnTransformer use this feature and define the default style\n",
       "- Estimators will overwrite some part of the style using the `sk-estimator` class\n",
       "*/\n",
       "\n",
       "/* Pipeline and ColumnTransformer style (default) */\n",
       "\n",
       "#sk-container-id-1 div.sk-toggleable {\n",
       "  /* Default theme specific background. It is overwritten whether we have a\n",
       "  specific estimator or a Pipeline/ColumnTransformer */\n",
       "  background-color: var(--sklearn-color-background);\n",
       "}\n",
       "\n",
       "/* Toggleable label */\n",
       "#sk-container-id-1 label.sk-toggleable__label {\n",
       "  cursor: pointer;\n",
       "  display: block;\n",
       "  width: 100%;\n",
       "  margin-bottom: 0;\n",
       "  padding: 0.5em;\n",
       "  box-sizing: border-box;\n",
       "  text-align: center;\n",
       "}\n",
       "\n",
       "#sk-container-id-1 label.sk-toggleable__label-arrow:before {\n",
       "  /* Arrow on the left of the label */\n",
       "  content: \"▸\";\n",
       "  float: left;\n",
       "  margin-right: 0.25em;\n",
       "  color: var(--sklearn-color-icon);\n",
       "}\n",
       "\n",
       "#sk-container-id-1 label.sk-toggleable__label-arrow:hover:before {\n",
       "  color: var(--sklearn-color-text);\n",
       "}\n",
       "\n",
       "/* Toggleable content - dropdown */\n",
       "\n",
       "#sk-container-id-1 div.sk-toggleable__content {\n",
       "  max-height: 0;\n",
       "  max-width: 0;\n",
       "  overflow: hidden;\n",
       "  text-align: left;\n",
       "  /* unfitted */\n",
       "  background-color: var(--sklearn-color-unfitted-level-0);\n",
       "}\n",
       "\n",
       "#sk-container-id-1 div.sk-toggleable__content.fitted {\n",
       "  /* fitted */\n",
       "  background-color: var(--sklearn-color-fitted-level-0);\n",
       "}\n",
       "\n",
       "#sk-container-id-1 div.sk-toggleable__content pre {\n",
       "  margin: 0.2em;\n",
       "  border-radius: 0.25em;\n",
       "  color: var(--sklearn-color-text);\n",
       "  /* unfitted */\n",
       "  background-color: var(--sklearn-color-unfitted-level-0);\n",
       "}\n",
       "\n",
       "#sk-container-id-1 div.sk-toggleable__content.fitted pre {\n",
       "  /* unfitted */\n",
       "  background-color: var(--sklearn-color-fitted-level-0);\n",
       "}\n",
       "\n",
       "#sk-container-id-1 input.sk-toggleable__control:checked~div.sk-toggleable__content {\n",
       "  /* Expand drop-down */\n",
       "  max-height: 200px;\n",
       "  max-width: 100%;\n",
       "  overflow: auto;\n",
       "}\n",
       "\n",
       "#sk-container-id-1 input.sk-toggleable__control:checked~label.sk-toggleable__label-arrow:before {\n",
       "  content: \"▾\";\n",
       "}\n",
       "\n",
       "/* Pipeline/ColumnTransformer-specific style */\n",
       "\n",
       "#sk-container-id-1 div.sk-label input.sk-toggleable__control:checked~label.sk-toggleable__label {\n",
       "  color: var(--sklearn-color-text);\n",
       "  background-color: var(--sklearn-color-unfitted-level-2);\n",
       "}\n",
       "\n",
       "#sk-container-id-1 div.sk-label.fitted input.sk-toggleable__control:checked~label.sk-toggleable__label {\n",
       "  background-color: var(--sklearn-color-fitted-level-2);\n",
       "}\n",
       "\n",
       "/* Estimator-specific style */\n",
       "\n",
       "/* Colorize estimator box */\n",
       "#sk-container-id-1 div.sk-estimator input.sk-toggleable__control:checked~label.sk-toggleable__label {\n",
       "  /* unfitted */\n",
       "  background-color: var(--sklearn-color-unfitted-level-2);\n",
       "}\n",
       "\n",
       "#sk-container-id-1 div.sk-estimator.fitted input.sk-toggleable__control:checked~label.sk-toggleable__label {\n",
       "  /* fitted */\n",
       "  background-color: var(--sklearn-color-fitted-level-2);\n",
       "}\n",
       "\n",
       "#sk-container-id-1 div.sk-label label.sk-toggleable__label,\n",
       "#sk-container-id-1 div.sk-label label {\n",
       "  /* The background is the default theme color */\n",
       "  color: var(--sklearn-color-text-on-default-background);\n",
       "}\n",
       "\n",
       "/* On hover, darken the color of the background */\n",
       "#sk-container-id-1 div.sk-label:hover label.sk-toggleable__label {\n",
       "  color: var(--sklearn-color-text);\n",
       "  background-color: var(--sklearn-color-unfitted-level-2);\n",
       "}\n",
       "\n",
       "/* Label box, darken color on hover, fitted */\n",
       "#sk-container-id-1 div.sk-label.fitted:hover label.sk-toggleable__label.fitted {\n",
       "  color: var(--sklearn-color-text);\n",
       "  background-color: var(--sklearn-color-fitted-level-2);\n",
       "}\n",
       "\n",
       "/* Estimator label */\n",
       "\n",
       "#sk-container-id-1 div.sk-label label {\n",
       "  font-family: monospace;\n",
       "  font-weight: bold;\n",
       "  display: inline-block;\n",
       "  line-height: 1.2em;\n",
       "}\n",
       "\n",
       "#sk-container-id-1 div.sk-label-container {\n",
       "  text-align: center;\n",
       "}\n",
       "\n",
       "/* Estimator-specific */\n",
       "#sk-container-id-1 div.sk-estimator {\n",
       "  font-family: monospace;\n",
       "  border: 1px dotted var(--sklearn-color-border-box);\n",
       "  border-radius: 0.25em;\n",
       "  box-sizing: border-box;\n",
       "  margin-bottom: 0.5em;\n",
       "  /* unfitted */\n",
       "  background-color: var(--sklearn-color-unfitted-level-0);\n",
       "}\n",
       "\n",
       "#sk-container-id-1 div.sk-estimator.fitted {\n",
       "  /* fitted */\n",
       "  background-color: var(--sklearn-color-fitted-level-0);\n",
       "}\n",
       "\n",
       "/* on hover */\n",
       "#sk-container-id-1 div.sk-estimator:hover {\n",
       "  /* unfitted */\n",
       "  background-color: var(--sklearn-color-unfitted-level-2);\n",
       "}\n",
       "\n",
       "#sk-container-id-1 div.sk-estimator.fitted:hover {\n",
       "  /* fitted */\n",
       "  background-color: var(--sklearn-color-fitted-level-2);\n",
       "}\n",
       "\n",
       "/* Specification for estimator info (e.g. \"i\" and \"?\") */\n",
       "\n",
       "/* Common style for \"i\" and \"?\" */\n",
       "\n",
       ".sk-estimator-doc-link,\n",
       "a:link.sk-estimator-doc-link,\n",
       "a:visited.sk-estimator-doc-link {\n",
       "  float: right;\n",
       "  font-size: smaller;\n",
       "  line-height: 1em;\n",
       "  font-family: monospace;\n",
       "  background-color: var(--sklearn-color-background);\n",
       "  border-radius: 1em;\n",
       "  height: 1em;\n",
       "  width: 1em;\n",
       "  text-decoration: none !important;\n",
       "  margin-left: 1ex;\n",
       "  /* unfitted */\n",
       "  border: var(--sklearn-color-unfitted-level-1) 1pt solid;\n",
       "  color: var(--sklearn-color-unfitted-level-1);\n",
       "}\n",
       "\n",
       ".sk-estimator-doc-link.fitted,\n",
       "a:link.sk-estimator-doc-link.fitted,\n",
       "a:visited.sk-estimator-doc-link.fitted {\n",
       "  /* fitted */\n",
       "  border: var(--sklearn-color-fitted-level-1) 1pt solid;\n",
       "  color: var(--sklearn-color-fitted-level-1);\n",
       "}\n",
       "\n",
       "/* On hover */\n",
       "div.sk-estimator:hover .sk-estimator-doc-link:hover,\n",
       ".sk-estimator-doc-link:hover,\n",
       "div.sk-label-container:hover .sk-estimator-doc-link:hover,\n",
       ".sk-estimator-doc-link:hover {\n",
       "  /* unfitted */\n",
       "  background-color: var(--sklearn-color-unfitted-level-3);\n",
       "  color: var(--sklearn-color-background);\n",
       "  text-decoration: none;\n",
       "}\n",
       "\n",
       "div.sk-estimator.fitted:hover .sk-estimator-doc-link.fitted:hover,\n",
       ".sk-estimator-doc-link.fitted:hover,\n",
       "div.sk-label-container:hover .sk-estimator-doc-link.fitted:hover,\n",
       ".sk-estimator-doc-link.fitted:hover {\n",
       "  /* fitted */\n",
       "  background-color: var(--sklearn-color-fitted-level-3);\n",
       "  color: var(--sklearn-color-background);\n",
       "  text-decoration: none;\n",
       "}\n",
       "\n",
       "/* Span, style for the box shown on hovering the info icon */\n",
       ".sk-estimator-doc-link span {\n",
       "  display: none;\n",
       "  z-index: 9999;\n",
       "  position: relative;\n",
       "  font-weight: normal;\n",
       "  right: .2ex;\n",
       "  padding: .5ex;\n",
       "  margin: .5ex;\n",
       "  width: min-content;\n",
       "  min-width: 20ex;\n",
       "  max-width: 50ex;\n",
       "  color: var(--sklearn-color-text);\n",
       "  box-shadow: 2pt 2pt 4pt #999;\n",
       "  /* unfitted */\n",
       "  background: var(--sklearn-color-unfitted-level-0);\n",
       "  border: .5pt solid var(--sklearn-color-unfitted-level-3);\n",
       "}\n",
       "\n",
       ".sk-estimator-doc-link.fitted span {\n",
       "  /* fitted */\n",
       "  background: var(--sklearn-color-fitted-level-0);\n",
       "  border: var(--sklearn-color-fitted-level-3);\n",
       "}\n",
       "\n",
       ".sk-estimator-doc-link:hover span {\n",
       "  display: block;\n",
       "}\n",
       "\n",
       "/* \"?\"-specific style due to the `<a>` HTML tag */\n",
       "\n",
       "#sk-container-id-1 a.estimator_doc_link {\n",
       "  float: right;\n",
       "  font-size: 1rem;\n",
       "  line-height: 1em;\n",
       "  font-family: monospace;\n",
       "  background-color: var(--sklearn-color-background);\n",
       "  border-radius: 1rem;\n",
       "  height: 1rem;\n",
       "  width: 1rem;\n",
       "  text-decoration: none;\n",
       "  /* unfitted */\n",
       "  color: var(--sklearn-color-unfitted-level-1);\n",
       "  border: var(--sklearn-color-unfitted-level-1) 1pt solid;\n",
       "}\n",
       "\n",
       "#sk-container-id-1 a.estimator_doc_link.fitted {\n",
       "  /* fitted */\n",
       "  border: var(--sklearn-color-fitted-level-1) 1pt solid;\n",
       "  color: var(--sklearn-color-fitted-level-1);\n",
       "}\n",
       "\n",
       "/* On hover */\n",
       "#sk-container-id-1 a.estimator_doc_link:hover {\n",
       "  /* unfitted */\n",
       "  background-color: var(--sklearn-color-unfitted-level-3);\n",
       "  color: var(--sklearn-color-background);\n",
       "  text-decoration: none;\n",
       "}\n",
       "\n",
       "#sk-container-id-1 a.estimator_doc_link.fitted:hover {\n",
       "  /* fitted */\n",
       "  background-color: var(--sklearn-color-fitted-level-3);\n",
       "}\n",
       "</style><div id=\"sk-container-id-1\" class=\"sk-top-container\"><div class=\"sk-text-repr-fallback\"><pre>Pipeline(steps=[(&#x27;preprocessor&#x27;,\n",
       "                 ColumnTransformer(transformers=[(&#x27;ohe&#x27;,\n",
       "                                                  OneHotEncoder(handle_unknown=&#x27;ignore&#x27;),\n",
       "                                                  [&#x27;Dependents&#x27;,\n",
       "                                                   &#x27;OnlineSecurity&#x27;,\n",
       "                                                   &#x27;OnlineBackup&#x27;,\n",
       "                                                   &#x27;InternetService&#x27;,\n",
       "                                                   &#x27;DeviceProtection&#x27;,\n",
       "                                                   &#x27;TechSupport&#x27;, &#x27;Contract&#x27;,\n",
       "                                                   &#x27;PaperlessBilling&#x27;]),\n",
       "                                                 (&#x27;rob&#x27;, RobustScaler(),\n",
       "                                                  [&#x27;tenure&#x27;,\n",
       "                                                   &#x27;MonthlyCharges&#x27;])])),\n",
       "                (&#x27;over&#x27;, RandomOverSampler(random_state=2024)),\n",
       "                (&#x27;ada&#x27;,\n",
       "                 AdaBoostClassifier(learning_rate=0.5, n_estimators=100))])</pre><b>In a Jupyter environment, please rerun this cell to show the HTML representation or trust the notebook. <br />On GitHub, the HTML representation is unable to render, please try loading this page with nbviewer.org.</b></div><div class=\"sk-container\" hidden><div class=\"sk-item sk-dashed-wrapped\"><div class=\"sk-label-container\"><div class=\"sk-label fitted sk-toggleable\"><input class=\"sk-toggleable__control sk-hidden--visually\" id=\"sk-estimator-id-1\" type=\"checkbox\" ><label for=\"sk-estimator-id-1\" class=\"sk-toggleable__label fitted sk-toggleable__label-arrow fitted\">&nbsp;Pipeline<span class=\"sk-estimator-doc-link fitted\">i<span>Fitted</span></span></label><div class=\"sk-toggleable__content fitted\"><pre>Pipeline(steps=[(&#x27;preprocessor&#x27;,\n",
       "                 ColumnTransformer(transformers=[(&#x27;ohe&#x27;,\n",
       "                                                  OneHotEncoder(handle_unknown=&#x27;ignore&#x27;),\n",
       "                                                  [&#x27;Dependents&#x27;,\n",
       "                                                   &#x27;OnlineSecurity&#x27;,\n",
       "                                                   &#x27;OnlineBackup&#x27;,\n",
       "                                                   &#x27;InternetService&#x27;,\n",
       "                                                   &#x27;DeviceProtection&#x27;,\n",
       "                                                   &#x27;TechSupport&#x27;, &#x27;Contract&#x27;,\n",
       "                                                   &#x27;PaperlessBilling&#x27;]),\n",
       "                                                 (&#x27;rob&#x27;, RobustScaler(),\n",
       "                                                  [&#x27;tenure&#x27;,\n",
       "                                                   &#x27;MonthlyCharges&#x27;])])),\n",
       "                (&#x27;over&#x27;, RandomOverSampler(random_state=2024)),\n",
       "                (&#x27;ada&#x27;,\n",
       "                 AdaBoostClassifier(learning_rate=0.5, n_estimators=100))])</pre></div> </div></div><div class=\"sk-serial\"><div class=\"sk-item sk-dashed-wrapped\"><div class=\"sk-label-container\"><div class=\"sk-label fitted sk-toggleable\"><input class=\"sk-toggleable__control sk-hidden--visually\" id=\"sk-estimator-id-2\" type=\"checkbox\" ><label for=\"sk-estimator-id-2\" class=\"sk-toggleable__label fitted sk-toggleable__label-arrow fitted\">&nbsp;preprocessor: ColumnTransformer<a class=\"sk-estimator-doc-link fitted\" rel=\"noreferrer\" target=\"_blank\" href=\"https://scikit-learn.org/1.4/modules/generated/sklearn.compose.ColumnTransformer.html\">?<span>Documentation for preprocessor: ColumnTransformer</span></a></label><div class=\"sk-toggleable__content fitted\"><pre>ColumnTransformer(transformers=[(&#x27;ohe&#x27;, OneHotEncoder(handle_unknown=&#x27;ignore&#x27;),\n",
       "                                 [&#x27;Dependents&#x27;, &#x27;OnlineSecurity&#x27;,\n",
       "                                  &#x27;OnlineBackup&#x27;, &#x27;InternetService&#x27;,\n",
       "                                  &#x27;DeviceProtection&#x27;, &#x27;TechSupport&#x27;, &#x27;Contract&#x27;,\n",
       "                                  &#x27;PaperlessBilling&#x27;]),\n",
       "                                (&#x27;rob&#x27;, RobustScaler(),\n",
       "                                 [&#x27;tenure&#x27;, &#x27;MonthlyCharges&#x27;])])</pre></div> </div></div><div class=\"sk-parallel\"><div class=\"sk-parallel-item\"><div class=\"sk-item\"><div class=\"sk-label-container\"><div class=\"sk-label fitted sk-toggleable\"><input class=\"sk-toggleable__control sk-hidden--visually\" id=\"sk-estimator-id-3\" type=\"checkbox\" ><label for=\"sk-estimator-id-3\" class=\"sk-toggleable__label fitted sk-toggleable__label-arrow fitted\">ohe</label><div class=\"sk-toggleable__content fitted\"><pre>[&#x27;Dependents&#x27;, &#x27;OnlineSecurity&#x27;, &#x27;OnlineBackup&#x27;, &#x27;InternetService&#x27;, &#x27;DeviceProtection&#x27;, &#x27;TechSupport&#x27;, &#x27;Contract&#x27;, &#x27;PaperlessBilling&#x27;]</pre></div> </div></div><div class=\"sk-serial\"><div class=\"sk-item\"><div class=\"sk-estimator fitted sk-toggleable\"><input class=\"sk-toggleable__control sk-hidden--visually\" id=\"sk-estimator-id-4\" type=\"checkbox\" ><label for=\"sk-estimator-id-4\" class=\"sk-toggleable__label fitted sk-toggleable__label-arrow fitted\">&nbsp;OneHotEncoder<a class=\"sk-estimator-doc-link fitted\" rel=\"noreferrer\" target=\"_blank\" href=\"https://scikit-learn.org/1.4/modules/generated/sklearn.preprocessing.OneHotEncoder.html\">?<span>Documentation for OneHotEncoder</span></a></label><div class=\"sk-toggleable__content fitted\"><pre>OneHotEncoder(handle_unknown=&#x27;ignore&#x27;)</pre></div> </div></div></div></div></div><div class=\"sk-parallel-item\"><div class=\"sk-item\"><div class=\"sk-label-container\"><div class=\"sk-label fitted sk-toggleable\"><input class=\"sk-toggleable__control sk-hidden--visually\" id=\"sk-estimator-id-5\" type=\"checkbox\" ><label for=\"sk-estimator-id-5\" class=\"sk-toggleable__label fitted sk-toggleable__label-arrow fitted\">rob</label><div class=\"sk-toggleable__content fitted\"><pre>[&#x27;tenure&#x27;, &#x27;MonthlyCharges&#x27;]</pre></div> </div></div><div class=\"sk-serial\"><div class=\"sk-item\"><div class=\"sk-estimator fitted sk-toggleable\"><input class=\"sk-toggleable__control sk-hidden--visually\" id=\"sk-estimator-id-6\" type=\"checkbox\" ><label for=\"sk-estimator-id-6\" class=\"sk-toggleable__label fitted sk-toggleable__label-arrow fitted\">&nbsp;RobustScaler<a class=\"sk-estimator-doc-link fitted\" rel=\"noreferrer\" target=\"_blank\" href=\"https://scikit-learn.org/1.4/modules/generated/sklearn.preprocessing.RobustScaler.html\">?<span>Documentation for RobustScaler</span></a></label><div class=\"sk-toggleable__content fitted\"><pre>RobustScaler()</pre></div> </div></div></div></div></div></div></div><div class=\"sk-item\"><div class=\"sk-estimator fitted sk-toggleable\"><input class=\"sk-toggleable__control sk-hidden--visually\" id=\"sk-estimator-id-7\" type=\"checkbox\" ><label for=\"sk-estimator-id-7\" class=\"sk-toggleable__label fitted sk-toggleable__label-arrow fitted\">RandomOverSampler</label><div class=\"sk-toggleable__content fitted\"><pre>RandomOverSampler(random_state=2024)</pre></div> </div></div><div class=\"sk-item\"><div class=\"sk-estimator fitted sk-toggleable\"><input class=\"sk-toggleable__control sk-hidden--visually\" id=\"sk-estimator-id-8\" type=\"checkbox\" ><label for=\"sk-estimator-id-8\" class=\"sk-toggleable__label fitted sk-toggleable__label-arrow fitted\">&nbsp;AdaBoostClassifier<a class=\"sk-estimator-doc-link fitted\" rel=\"noreferrer\" target=\"_blank\" href=\"https://scikit-learn.org/1.4/modules/generated/sklearn.ensemble.AdaBoostClassifier.html\">?<span>Documentation for AdaBoostClassifier</span></a></label><div class=\"sk-toggleable__content fitted\"><pre>AdaBoostClassifier(learning_rate=0.5, n_estimators=100)</pre></div> </div></div></div></div></div></div>"
      ],
      "text/plain": [
       "Pipeline(steps=[('preprocessor',\n",
       "                 ColumnTransformer(transformers=[('ohe',\n",
       "                                                  OneHotEncoder(handle_unknown='ignore'),\n",
       "                                                  ['Dependents',\n",
       "                                                   'OnlineSecurity',\n",
       "                                                   'OnlineBackup',\n",
       "                                                   'InternetService',\n",
       "                                                   'DeviceProtection',\n",
       "                                                   'TechSupport', 'Contract',\n",
       "                                                   'PaperlessBilling']),\n",
       "                                                 ('rob', RobustScaler(),\n",
       "                                                  ['tenure',\n",
       "                                                   'MonthlyCharges'])])),\n",
       "                ('over', RandomOverSampler(random_state=2024)),\n",
       "                ('ada',\n",
       "                 AdaBoostClassifier(learning_rate=0.5, n_estimators=100))])"
      ]
     },
     "execution_count": 65,
     "metadata": {},
     "output_type": "execute_result"
    }
   ],
   "source": [
    "final_model_pipeline = ImbPipeline(steps=[\n",
    "    ('preprocessor', preprocessor),\n",
    "    ('over',RandomOverSampler(random_state=2024)),\n",
    "    ('ada', AdaBoostClassifier(n_estimators = 100 ,learning_rate= 0.5))\n",
    "])\n",
    "\n",
    "final_model_pipeline.fit(xtrain, ytrain)"
   ]
  },
  {
   "cell_type": "markdown",
   "metadata": {},
   "source": [
    "\n",
    "\n",
    "### Penjelasan\n",
    "Gambar tersebut menunjukkan sebuah pipeline dalam machine learning yang terdiri dari beberapa tahapan pemrosesan data dan model training. Berikut adalah penjelasan dan insight dari pipeline ini:\n",
    "1. **Preprocessor: ColumnTransformer:**\n",
    "   - **ohe (OneHotEncoder):** Mengubah fitur kategori menjadi representasi numerik biner. Ini memungkinkan model untuk memproses variabel kategori.\n",
    "   - **rob (RobustScaler):** Melakukan skala fitur numerik sehingga lebih robust terhadap outlier dengan mengurangi pengaruh outlier dalam data.\n",
    "\n",
    "2. **RandomOverSampler:** Teknik ini digunakan untuk menangani ketidakseimbangan kelas dengan membuat contoh tambahan dari kelas minoritas, membantu model untuk tidak bias terhadap kelas mayoritas.\n",
    "\n",
    "3. **AdaBoostClassifier:** Algoritma boosting yang meningkatkan performa model dengan menggabungkan beberapa model lemah menjadi satu model kuat. AdaBoost bekerja dengan menekankan pada kesalahan yang dibuat oleh model sebelumnya.\n",
    "\n",
    "### Insight\n",
    "1. **Preprocessing yang Efektif:**\n",
    "   - Menggunakan **OneHotEncoder** memastikan bahwa fitur kategori dikonversi dengan benar menjadi format yang bisa dimengerti oleh model.\n",
    "   - **RobustScaler** sangat membantu dalam kasus di mana data memiliki outliers yang signifikan, memastikan bahwa skala fitur tidak terlalu dipengaruhi oleh outliers ini.\n",
    "\n",
    "2. **Penanganan Ketidakseimbangan Data:**\n",
    "   - Penggunaan **RandomOverSampler** menunjukkan bahwa dataset memiliki ketidakseimbangan kelas. RandomOverSampler membantu menciptakan contoh tambahan dari kelas minoritas untuk memberikan distribusi yang lebih seimbang, yang penting untuk memastikan bahwa model tidak bias terhadap kelas mayoritas dan dapat mendeteksi kelas minoritas dengan lebih baik.\n",
    "\n",
    "3. **Boosting untuk Peningkatan Performa:**\n",
    "   - **AdaBoostClassifier** adalah pilihan yang bagus untuk meningkatkan akurasi model. Dengan memperhatikan kesalahan dari model sebelumnya, AdaBoost bisa memperbaiki dan meningkatkan prediksi keseluruhan secara iteratif.\n",
    "   - Menggunakan AdaBoost, yang merupakan ensemble method, dapat membantu mengurangi risiko overfitting dibandingkan dengan menggunakan satu model yang kompleks.\n",
    "\n",
    "### Kesimpulan\n",
    "Pipeline ini secara keseluruhan menunjukkan pendekatan yang komprehensif dan berimbang dalam membangun model machine learning:\n",
    "- Menggunakan teknik pra-pemrosesan yang tepat untuk menangani fitur kategori dan numerik.\n",
    "- Menangani masalah ketidakseimbangan data dengan RandomOverSampler untuk memastikan model adil terhadap semua kelas.\n",
    "- Menerapkan AdaBoost untuk meningkatkan akurasi model dengan pendekatan ensemble, yang membantu meningkatkan performa keseluruhan.\n",
    "\n",
    "Pipeline ini dirancang untuk meningkatkan akurasi dan generalisasi model, terutama dalam situasi di mana data memiliki ketidakseimbangan kelas dan outliers."
   ]
  },
  {
   "cell_type": "markdown",
   "metadata": {},
   "source": [
    "# **SAVE MODEL**"
   ]
  },
  {
   "cell_type": "code",
   "execution_count": 66,
   "metadata": {},
   "outputs": [],
   "source": [
    "pickle.dump(final_model_pipeline, open('Capstone3intanpermatasari.sav', 'wb'))"
   ]
  },
  {
   "cell_type": "markdown",
   "metadata": {},
   "source": [
    "# **KESIMPULAN**"
   ]
  },
  {
   "cell_type": "markdown",
   "metadata": {},
   "source": [
    "Model terbaik untuk kasus Telco Customer Churn ini dengan menggunakan `Ada boost classifier` dengan parameter\n",
    " - 'ada__learning_rate': 0.5, \n",
    " - 'ada__n_estimators': 100\n",
    "\n",
    " \n",
    "Model ini dapat membantu telco company untuk mengetahui pelanggan berhenti menggunakan layanan atau berlangganan dengan akurasi sebesar 80% dengan prediksi tanpa model memiliki akurasi sebesar 72%. Model ini juga dapat membantu perusahaan dapat mempertimbangkan untuk memberikan diskon atau paket harga khusus untuk pelanggan berisiko tinggi, serta fokus pada peningkatan infrastruktur layanan internet untuk mengurangi churn."
   ]
  },
  {
   "cell_type": "markdown",
   "metadata": {},
   "source": [
    "### Perhitungan Biaya Retensi\n",
    "\n",
    "pada Problem statement, salah satu statistik bisnis yang terkenal adalah \"Biaya untuk mempertahankan pelanggan yang ada jauh lebih rendah daripada biaya untuk memperoleh pelanggan baru\". Selain itu,pada [Customer Acquisition Vs. Retention Costs – Statistics And Trends](https://www.invespcro.com/blog/customer-acquisition-retention/) dikatakan bahwa biaya untuk memperoleh pelanggan baru lima kali lebih tinggi daripada biaya untuk mempertahankan pelanggan yang ada. Oleh karena itu, pernyataan ini akan digunakan sebagai referensi dalam mensimulasikan Biaya Retensi.\n",
    "\n",
    "#### Simulasi Biaya yang Dikeluarkan:\n",
    "Untuk menghitung biaya retensi pelanggan, kita akan menggunakan informasi dari kesimpulan yang diberikan:\n",
    "\n",
    "Jumlah pelanggan yang diprediksi akan churn (positif): 188 orang\n",
    "Jumlah pelanggan yang diprediksi tidak akan churn (negatif): 783 orang\n",
    "False Positives (FP): 54 (Prediksi churn yang salah, sebenarnya tidak churn)\n",
    "True Positives (TP): 134 (Prediksi churn yang benar)\n",
    "Mari kita asumsikan biaya retensi per pelanggan adalah $1 dan biaya kehilangan per pelanggan adalah $5.\n",
    "\n",
    "**BIAYA RETENSI PELANGGAN**\n",
    "\n",
    "\n",
    "Data Diberikan:\n",
    "- True Positives (TP): 134\n",
    "- True Negatives (TN): 645\n",
    "- False Positives (FP): 54\n",
    "- False Negatives (FN): 138\n",
    "- Biaya Retensi: $1\n",
    "- Biaya Akuisisi: $5\n",
    "\n",
    "Rumus:\n",
    "> <br>TotalCost = (TP × BiayaRetensi) + (FP × BiayaRetensi) + (FN × BiayaAkuisisi)\n",
    "\n",
    "Menghitung Biaya dengan Model:\n",
    "\n",
    "> <br>TotalCostWithModel = (134 × 1) + (54 × 1) + (138 × 5)\n",
    "> <br>                   = 134 + 54 + 690\n",
    "> <br>                   = 878\n",
    "\n",
    "Menghitung Biaya tanpa Model:\n",
    "\n",
    "> TotalPelanggan = TP + TN + FP + FN = 134 + 645 + 54 + 138 = 971\n",
    "> <br> TotalCostWithoutModel = TotalPelanggan × BiayaRetensi = 971 × 1 = 971\n",
    "\n",
    "Penghematan:\n",
    "\n",
    "> <br>Savings = TotalCostWithoutModel - TotalCostWithModel = 971 - 878 = 93\n",
    "\n",
    "Presentasi Penghematan:\n",
    "\n",
    "> <br>SavingsPercentage = (Savings / TotalCostWithoutModel) × 100\n",
    "                   = (93 / 971) × 100 ≈ 9.58%\n",
    "\n",
    "Ringkasan:\n",
    "\n",
    "Dengan menggunakan model machine learning, perusahaan telah mengurangi biaya retensi sebesar sekitar 9.58%.\n",
    "```"
   ]
  },
  {
   "cell_type": "markdown",
   "metadata": {},
   "source": [
    "**Selain itu ada juga  estimasi keuntungan bisnis untuk perusahaan telekomunikasi**\n",
    "### Estimasi Keuntungan Bisnis untuk Perusahaan Telekomunikasi\n",
    "\n",
    "Untuk menghitung estimasi keuntungan bisnis dari data di atas, kita perlu memperhatikan beberapa faktor penting:\n",
    "1. Jumlah pelanggan yang berhasil diprediksi untuk churn.\n",
    "2. Rata-rata pendapatan per pengguna (ARPU).\n",
    "3. Tingkat keberhasilan program retensi.\n",
    "\n",
    "### Langkah-langkah Estimasi\n",
    "\n",
    "1. **Prediksi Pelanggan Churn:**\n",
    "   - Total pelanggan yang diprediksi churn: 468 (157 FP + 311 TP).\n",
    "   - Pelanggan yang benar-benar churn dan berhasil diprediksi (TP): 311.\n",
    "\n",
    "2. **Average Revenue Per User (ARPU):**\n",
    "   - Misalkan ARPU adalah $50 per bulan.\n",
    "\n",
    "3. **Keberhasilan Program Retensi:**\n",
    "   - Misalkan program retensi berhasil mengurangi churn sebesar 30%.\n",
    "\n",
    "### Perhitungan Estimasi Keuntungan\n",
    "\n",
    "1. **Pelanggan yang Diselamatkan:**\n",
    "   - Dengan program retensi yang berhasil 30%, jumlah pelanggan yang diselamatkan:\n",
    "     311×30%=93 pelanggan\n",
    "\n",
    "2. **Pendapatan Bulanan yang Diselamatkan:**\n",
    "   - Pendapatan bulanan dari 93 pelanggan yang diselamatkan:\n",
    "     93×$50=$4650 per bulan\n",
    "\n",
    "3. **Pendapatan Tahunan yang Diselamatkan:**\n",
    "   - Pendapatan tahunan yang diselamatkan:\n",
    "     $4650×12=$55,800 per tahun\n",
    "\n",
    "Dengan asumsi-asumsi di atas, keuntungan bisnis dari penggunaan model prediksi churn dan program retensi diperkirakan sekitar **$55,800 per tahun**. Ini adalah pendapatan tambahan yang diperoleh dengan menyelamatkan pelanggan yang diprediksi akan churn.\n",
    "\n",
    "### Catatan\n",
    "- Angka-angka ini tergantung pada ARPU dan tingkat keberhasilan program retensi yang spesifik.\n",
    "- Estimasi ini hanya mencakup pelanggan yang benar-benar churn (TP) dan tidak memperhitungkan False Positives (FP), yang mungkin juga mendapatkan program retensi.\n",
    "- Program retensi yang efektif dapat meningkatkan loyalitas pelanggan, yang bisa memberikan pendapatan jangka panjang yang lebih besar."
   ]
  },
  {
   "cell_type": "markdown",
   "metadata": {},
   "source": [
    "Mengadopsi pipeline model machine learning dengan teknik boosting seperti AdaBoostClassifier memberikan perusahaan telekomunikasi alat yang kuat untuk mengidentifikasi dan mengurangi churn pelanggan. Dengan pendekatan yang tepat dalam preprocessing, penanganan ketidakseimbangan data, dan penggunaan model boosting, perusahaan dapat meningkatkan akurasi prediksi churn dan mengimplementasikan strategi retensi yang lebih efektif, yang pada akhirnya meningkatkan pendapatan dan loyalitas pelanggan.\n",
    "\n",
    "Implementasi ini tidak hanya meningkatkan keuntungan finansial tetapi juga memberikan perusahaan keunggulan kompetitif dalam mempertahankan basis pelanggan mereka di pasar yang semakin kompetitif."
   ]
  },
  {
   "cell_type": "markdown",
   "metadata": {},
   "source": [
    "# REKOMENDASI"
   ]
  },
  {
   "cell_type": "markdown",
   "metadata": {},
   "source": [
    "Strategi Retensi Pelanggan:\n",
    "\n",
    "1. **Personalisasi Pemasaran:** Identifikasi pelanggan yang mungkin berpindah dan berikan mereka penawaran khusus untuk mempertahankan mereka.\n",
    "\n",
    "2. **Penghargaan untuk Pelanggan Kembali:** Berikan penghargaan kepada pelanggan yang kembali setelah berpindah untuk memperkuat hubungan dengan mereka.\n",
    "\n",
    "3. **Program Loyalti:** Berikan insentif kepada pelanggan setia melalui program loyalitas.\n",
    "\n",
    "4. **Perbaikan Layanan Jaringan:** Tingkatkan kualitas layanan jaringan, terutama di area yang memiliki masalah, untuk meningkatkan kepuasan pelanggan.\n",
    "\n",
    "5. **Layanan Pelanggan Proaktif:** Hubungi pelanggan sebelum mereka mengalami masalah untuk membangun kepercayaan.\n",
    "\n",
    "6. **Umpan Balik Pelanggan:** Dorong pelanggan untuk memberikan umpan balik, dan gunakan informasi tersebut untuk meningkatkan layanan dan reputasi perusahaan."
   ]
  },
  {
   "cell_type": "markdown",
   "metadata": {},
   "source": [
    "Sektor Pemodelan Machine Learning:\n",
    "\n",
    "1. **Pemantauan dan Pembaruan Berkelanjutan:** Terus pantau kinerja model dan perbarui dengan data terbaru untuk menjaga akurasi prediksi. Industri telekomunikasi dinamis, dan perilaku pelanggan bisa berubah seiring waktu, memengaruhi faktor-faktor yang mempengaruhi kemungkinan berpindah. Meskipun adaboost terbukti menjadi model terbaik sejauh ini, teruslah bereksperimen dengan algoritma lain untuk melihat apakah ada model lain yang dapat memberikan kinerja yang lebih baik. Machine learning adalah bidang yang berkembang pesat, dan algoritma baru terus dikembangkan secara reguler.\n",
    "\n",
    "2. **Penerapan dalam Sistem Real-Time:** Pertimbangkan untuk menerapkan model dalam sistem real-time untuk mengidentifikasi pelanggan yang mungkin akan berpindah secepat mungkin. Prediksi real-time dapat memungkinkan bisnis untuk mengambil tindakan segera untuk mempertahankan pelanggan."
   ]
  },
  {
   "cell_type": "markdown",
   "metadata": {},
   "source": [
    "Sektor Data:\n",
    "\n",
    "1. **Demografi Pelanggan:** Gunakan data demografi pelanggan seperti usia, jenis kelamin, pekerjaan, dan pendidikan. Ini membantu kita memahami lebih dalam preferensi dan perilaku pelanggan, membantu memprediksi berpindah dengan lebih baik. Contohnya, pelanggan yang lebih tua mungkin lebih menghargai stabilitas dan reputasi layanan yang teruji.\n",
    "\n",
    "2. **Perhitungan Tingkat Berpindah:** Dengan teratur menghitung tingkat berpindah, bisnis bisa tahu seberapa efektif strategi mempertahankan pelanggan mereka. Ini membantu kita mengambil langkah-langkah perbaikan bila diperlukan. \n",
    "\n",
    "3. **Pola Penggunaan:** Analisis bagaimana pelanggan menggunakan layanan, seperti kapan mereka paling sering menggunakannya dan jenis layanan yang paling sering mereka gunakan. Data ini membantu kita mengidentifikasi pola yang menunjukkan pelanggan akan berpindah.\n",
    "\n",
    "4. **Analisis Kompetitor:** Mengerti pasar dan kekuatan serta kelemahan pesaing di industri telekomunikasi. Dengan mempelajari strategi pesaing dalam mempertahankan pelanggan, kita bisa dapatkan ide untuk meningkatkan strategi kita sendiri dan mengurangi jumlah pelanggan yang berpindah."
   ]
  },
  {
   "cell_type": "markdown",
   "metadata": {},
   "source": [
    "# FINAL CONCLUSION\n",
    "\n",
    "Dalam menghadapi tantangan retensi pelanggan, penting untuk mempertimbangkan efisiensi biaya. Sebuah studi menunjukkan bahwa biaya memperoleh pelanggan baru bisa lima kali lebih tinggi daripada mempertahankan pelanggan yang sudah ada. Oleh karena itu, strategi retensi pelanggan menjadi kunci dalam menjaga keseimbangan keuangan perusahaan.\n",
    "\n",
    "Dengan mengadopsi model Adaboost dan menerapkan strategi resampling random oversampling, perusahaan telekomunikasi telah berhasil meningkatkan efektivitas dalam mengelola biaya pengeluaran terkait retensi pelanggan. Dengan presentase biaya retensi sebesar 9.58% dan recall sebesar 92%, serta berhasil mengurangi False Negatives menjadi 138, perusahaan telah berhasil meningkatkan akurasi model dari 72% menjadi 80%.\n",
    "\n",
    "Strategi yang difokuskan pada pengelolaan biaya bulanan dan durasi berlangganan, peningkatan layanan keamanan dan backup, serta peningkatan kualitas layanan internet dan dukungan teknis telah diidentifikasi sebagai langkah-langkah penting untuk mengurangi churn pelanggan. Selain itu, mendorong kontrak jangka panjang dan mempromosikan penagihan tanpa kertas juga dianggap sebagai strategi efektif dalam meningkatkan retensi pelanggan.\n",
    "\n",
    "Dengan demikian, melalui penggunaan model Adaboost, penerapan strategi retensi yang tepat, dan peningkatan kualitas layanan, perusahaan telekomunikasi dapat meningkatkan retensi pelanggan, mengurangi biaya pengeluaran, dan mencapai keberhasilan bisnis yang berkelanjutan dalam lingkungan yang kompetitif."
   ]
  }
 ],
 "metadata": {
  "kernelspec": {
   "display_name": "base",
   "language": "python",
   "name": "python3"
  },
  "language_info": {
   "codemirror_mode": {
    "name": "ipython",
    "version": 3
   },
   "file_extension": ".py",
   "mimetype": "text/x-python",
   "name": "python",
   "nbconvert_exporter": "python",
   "pygments_lexer": "ipython3",
   "version": "3.11.5"
  }
 },
 "nbformat": 4,
 "nbformat_minor": 2
}
